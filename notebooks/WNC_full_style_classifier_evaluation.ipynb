{
 "cells": [
  {
   "cell_type": "markdown",
   "id": "e1654fea-119b-4927-b086-e6265558cd84",
   "metadata": {},
   "source": [
    "# WNC Style Classifier -- Evaluation"
   ]
  },
  {
   "cell_type": "code",
   "execution_count": 2,
   "id": "bf8133ed-c470-4559-a1db-82eb0c052216",
   "metadata": {},
   "outputs": [
    {
     "name": "stdout",
     "output_type": "stream",
     "text": [
      "The lab_black extension is already loaded. To reload it, use:\n",
      "  %reload_ext lab_black\n",
      "The autoreload extension is already loaded. To reload it, use:\n",
      "  %reload_ext autoreload\n"
     ]
    }
   ],
   "source": [
    "from src.evaluation import StyleClassifierEvaluation\n",
    "\n",
    "%load_ext lab_black\n",
    "%load_ext autoreload\n",
    "%autoreload 2"
   ]
  },
  {
   "cell_type": "code",
   "execution_count": 3,
   "id": "db475fd2-3f70-410b-bef0-19ea9cf3630e",
   "metadata": {},
   "outputs": [
    {
     "data": {
      "application/vnd.jupyter.widget-view+json": {
       "model_id": "0add83d6bc174fa299abb73cfa72fba7",
       "version_major": 2,
       "version_minor": 0
      },
      "text/plain": [
       "  0%|          | 0/309 [00:00<?, ?ba/s]"
      ]
     },
     "metadata": {},
     "output_type": "display_data"
    },
    {
     "data": {
      "application/vnd.jupyter.widget-view+json": {
       "model_id": "b0fcda5ac0ca4c85a331ef7c070c4b3c",
       "version_major": 2,
       "version_minor": 0
      },
      "text/plain": [
       "  0%|          | 0/18 [00:00<?, ?ba/s]"
      ]
     },
     "metadata": {},
     "output_type": "display_data"
    },
    {
     "data": {
      "application/vnd.jupyter.widget-view+json": {
       "model_id": "eaf8648738b34987934b67cab9f084a6",
       "version_major": 2,
       "version_minor": 0
      },
      "text/plain": [
       "  0%|          | 0/18 [00:00<?, ?ba/s]"
      ]
     },
     "metadata": {},
     "output_type": "display_data"
    }
   ],
   "source": [
    "MODEL_PATH = \"../models/bert-cls-full3/checkpoint-96000\"\n",
    "CLS_DATASET_PATH = \"/home/cdsw/data/processed/WNC_cls_full\"\n",
    "\n",
    "sce = StyleClassifierEvaluation(\n",
    "    model_identifier=MODEL_PATH, dataset_identifier=CLS_DATASET_PATH\n",
    ")"
   ]
  },
  {
   "cell_type": "code",
   "execution_count": 16,
   "id": "bad6d311-34cc-4702-9893-9c0333bbec6e",
   "metadata": {},
   "outputs": [
    {
     "name": "stderr",
     "output_type": "stream",
     "text": [
      "100%|██████████| 2152/2152 [00:31<00:00, 67.95it/s]\n"
     ]
    }
   ],
   "source": [
    "sce.evaluate()"
   ]
  },
  {
   "cell_type": "code",
   "execution_count": 17,
   "id": "e1ae3dc7-8c14-48d1-861b-c5a600ba5b2d",
   "metadata": {},
   "outputs": [
    {
     "data": {
      "text/html": [
       "<div>\n",
       "<style scoped>\n",
       "    .dataframe tbody tr th:only-of-type {\n",
       "        vertical-align: middle;\n",
       "    }\n",
       "\n",
       "    .dataframe tbody tr th {\n",
       "        vertical-align: top;\n",
       "    }\n",
       "\n",
       "    .dataframe thead th {\n",
       "        text-align: right;\n",
       "    }\n",
       "</style>\n",
       "<table border=\"1\" class=\"dataframe\">\n",
       "  <thead>\n",
       "    <tr style=\"text-align: right;\">\n",
       "      <th></th>\n",
       "      <th>text</th>\n",
       "      <th>true_label</th>\n",
       "      <th>pred_label</th>\n",
       "      <th>pred_score</th>\n",
       "    </tr>\n",
       "  </thead>\n",
       "  <tbody>\n",
       "    <tr>\n",
       "      <th>0</th>\n",
       "      <td>djibouti, as well as the puntland and somalila...</td>\n",
       "      <td>0</td>\n",
       "      <td>1</td>\n",
       "      <td>0.971600</td>\n",
       "    </tr>\n",
       "    <tr>\n",
       "      <th>1</th>\n",
       "      <td>djibouti, as well as the puntland and somalila...</td>\n",
       "      <td>1</td>\n",
       "      <td>1</td>\n",
       "      <td>0.982679</td>\n",
       "    </tr>\n",
       "    <tr>\n",
       "      <th>2</th>\n",
       "      <td>he is now a varsity basketball head coach for ...</td>\n",
       "      <td>0</td>\n",
       "      <td>0</td>\n",
       "      <td>0.985774</td>\n",
       "    </tr>\n",
       "    <tr>\n",
       "      <th>3</th>\n",
       "      <td>he is now a varsity basketball head coach for ...</td>\n",
       "      <td>1</td>\n",
       "      <td>1</td>\n",
       "      <td>0.991174</td>\n",
       "    </tr>\n",
       "    <tr>\n",
       "      <th>4</th>\n",
       "      <td>most notably, on september 11, 2011, the bushe...</td>\n",
       "      <td>0</td>\n",
       "      <td>0</td>\n",
       "      <td>0.822279</td>\n",
       "    </tr>\n",
       "    <tr>\n",
       "      <th>...</th>\n",
       "      <td>...</td>\n",
       "      <td>...</td>\n",
       "      <td>...</td>\n",
       "      <td>...</td>\n",
       "    </tr>\n",
       "    <tr>\n",
       "      <th>17209</th>\n",
       "      <td>joseph \"sepp\" blatter (born 10 march 1936) is ...</td>\n",
       "      <td>1</td>\n",
       "      <td>1</td>\n",
       "      <td>0.858206</td>\n",
       "    </tr>\n",
       "    <tr>\n",
       "      <th>17210</th>\n",
       "      <td>in the face of this uncomplimentary labeling ,...</td>\n",
       "      <td>0</td>\n",
       "      <td>0</td>\n",
       "      <td>0.845333</td>\n",
       "    </tr>\n",
       "    <tr>\n",
       "      <th>17211</th>\n",
       "      <td>in the face of this label of \"heresy\" , samuel...</td>\n",
       "      <td>1</td>\n",
       "      <td>1</td>\n",
       "      <td>0.551120</td>\n",
       "    </tr>\n",
       "    <tr>\n",
       "      <th>17212</th>\n",
       "      <td>for one, it illustrates nietzsche's evolution ...</td>\n",
       "      <td>0</td>\n",
       "      <td>0</td>\n",
       "      <td>0.735192</td>\n",
       "    </tr>\n",
       "    <tr>\n",
       "      <th>17213</th>\n",
       "      <td>for one, it illustrates nietzsche's evolution ...</td>\n",
       "      <td>1</td>\n",
       "      <td>1</td>\n",
       "      <td>0.637449</td>\n",
       "    </tr>\n",
       "  </tbody>\n",
       "</table>\n",
       "<p>17214 rows × 4 columns</p>\n",
       "</div>"
      ],
      "text/plain": [
       "                                                    text  ...  pred_score\n",
       "0      djibouti, as well as the puntland and somalila...  ...    0.971600\n",
       "1      djibouti, as well as the puntland and somalila...  ...    0.982679\n",
       "2      he is now a varsity basketball head coach for ...  ...    0.985774\n",
       "3      he is now a varsity basketball head coach for ...  ...    0.991174\n",
       "4      most notably, on september 11, 2011, the bushe...  ...    0.822279\n",
       "...                                                  ...  ...         ...\n",
       "17209  joseph \"sepp\" blatter (born 10 march 1936) is ...  ...    0.858206\n",
       "17210  in the face of this uncomplimentary labeling ,...  ...    0.845333\n",
       "17211  in the face of this label of \"heresy\" , samuel...  ...    0.551120\n",
       "17212  for one, it illustrates nietzsche's evolution ...  ...    0.735192\n",
       "17213  for one, it illustrates nietzsche's evolution ...  ...    0.637449\n",
       "\n",
       "[17214 rows x 4 columns]"
      ]
     },
     "execution_count": 17,
     "metadata": {},
     "output_type": "execute_result"
    }
   ],
   "source": [
    "sce.metric_df"
   ]
  },
  {
   "cell_type": "code",
   "execution_count": 59,
   "id": "ca0d75ae-3271-44f6-8708-d6eb3b46fc12",
   "metadata": {},
   "outputs": [
    {
     "data": {
      "text/plain": [
       "<sklearn.metrics._plot.confusion_matrix.ConfusionMatrixDisplay at 0x7fa2d54c7100>"
      ]
     },
     "execution_count": 59,
     "metadata": {},
     "output_type": "execute_result"
    },
    {
     "data": {
      "image/png": "[encoded data removed]",
      "text/plain": [
       "<Figure size 432x288 with 2 Axes>"
      ]
     },
     "metadata": {
      "needs_background": "light"
     },
     "output_type": "display_data"
    }
   ],
   "source": [
    "sce.plot_confusion_matrix()"
   ]
  },
  {
   "cell_type": "code",
   "execution_count": 72,
   "id": "45567a8d-a983-4dd7-a7cd-fc845bd273c6",
   "metadata": {},
   "outputs": [
    {
     "data": {
      "text/html": [
       "<div>\n",
       "<style scoped>\n",
       "    .dataframe tbody tr th:only-of-type {\n",
       "        vertical-align: middle;\n",
       "    }\n",
       "\n",
       "    .dataframe tbody tr th {\n",
       "        vertical-align: top;\n",
       "    }\n",
       "\n",
       "    .dataframe thead th {\n",
       "        text-align: right;\n",
       "    }\n",
       "</style>\n",
       "<table border=\"1\" class=\"dataframe\">\n",
       "  <thead>\n",
       "    <tr style=\"text-align: right;\">\n",
       "      <th></th>\n",
       "      <th>precision</th>\n",
       "      <th>recall</th>\n",
       "      <th>f1-score</th>\n",
       "      <th>support</th>\n",
       "    </tr>\n",
       "  </thead>\n",
       "  <tbody>\n",
       "    <tr>\n",
       "      <th>0</th>\n",
       "      <td>0.736</td>\n",
       "      <td>0.681</td>\n",
       "      <td>0.707</td>\n",
       "      <td>8607.000</td>\n",
       "    </tr>\n",
       "    <tr>\n",
       "      <th>1</th>\n",
       "      <td>0.703</td>\n",
       "      <td>0.755</td>\n",
       "      <td>0.728</td>\n",
       "      <td>8607.000</td>\n",
       "    </tr>\n",
       "    <tr>\n",
       "      <th>accuracy</th>\n",
       "      <td>0.718</td>\n",
       "      <td>0.718</td>\n",
       "      <td>0.718</td>\n",
       "      <td>0.718</td>\n",
       "    </tr>\n",
       "    <tr>\n",
       "      <th>macro avg</th>\n",
       "      <td>0.719</td>\n",
       "      <td>0.718</td>\n",
       "      <td>0.718</td>\n",
       "      <td>17214.000</td>\n",
       "    </tr>\n",
       "    <tr>\n",
       "      <th>weighted avg</th>\n",
       "      <td>0.719</td>\n",
       "      <td>0.718</td>\n",
       "      <td>0.718</td>\n",
       "      <td>17214.000</td>\n",
       "    </tr>\n",
       "  </tbody>\n",
       "</table>\n",
       "</div>"
      ],
      "text/plain": [
       "              precision  recall  f1-score    support\n",
       "0                 0.736   0.681     0.707   8607.000\n",
       "1                 0.703   0.755     0.728   8607.000\n",
       "accuracy          0.718   0.718     0.718      0.718\n",
       "macro avg         0.719   0.718     0.718  17214.000\n",
       "weighted avg      0.719   0.718     0.718  17214.000"
      ]
     },
     "execution_count": 72,
     "metadata": {},
     "output_type": "execute_result"
    }
   ],
   "source": [
    "sce.get_classification_report()"
   ]
  },
  {
   "cell_type": "markdown",
   "id": "77d488c0-4618-40ad-8042-fe6139c57aca",
   "metadata": {},
   "source": [
    "## Error Analysis"
   ]
  },
  {
   "cell_type": "code",
   "execution_count": 88,
   "id": "3897a6a0-68d8-4ef0-9bf0-b4b1989653b7",
   "metadata": {},
   "outputs": [
    {
     "data": {
      "text/plain": [
       "<AxesSubplot:title={'center':'Distribution of Prediced Scores'}, ylabel='Frequency'>"
      ]
     },
     "execution_count": 88,
     "metadata": {},
     "output_type": "execute_result"
    },
    {
     "data": {
      "image/png": "[encoded data removed]",
      "text/plain": [
       "<Figure size 720x360 with 1 Axes>"
      ]
     },
     "metadata": {
      "needs_background": "light"
     },
     "output_type": "display_data"
    }
   ],
   "source": [
    "sce.metric_df.pred_score.plot(\n",
    "    kind=\"hist\", bins=50, title=\"Distribution of Prediced Scores\", figsize=(10, 5)\n",
    ")"
   ]
  },
  {
   "cell_type": "markdown",
   "id": "f5839612-ac9b-41ab-b0c2-ff2a4c0f2d29",
   "metadata": {},
   "source": [
    "### Severe False Positives (i.e. predicted `neutral` when actually `subjective`)"
   ]
  },
  {
   "cell_type": "code",
   "execution_count": 168,
   "id": "299a92c1-78d6-4605-aaab-57684c635693",
   "metadata": {
    "tags": []
   },
   "outputs": [
    {
     "name": "stdout",
     "output_type": "stream",
     "text": [
      "Record #2238 classified as NEUTRAL, when actually SUBJECTIVE: \n",
      "\t james barbour, is a singer and an actor.\n",
      "\n",
      "Here's its NEUTRAL counterpart #2239: \n",
      "\t james barbour, is a singer and broadway actor.\n",
      "---------------------------------------------------------------------\n",
      "\n",
      "Record #5878 classified as NEUTRAL, when actually SUBJECTIVE: \n",
      "\t the club has won 13 league titles, 12 fa cups (a joint record), two league cups, 14 fa community shields, one uefa cup winners' cup and one inter-cities fairs cup , totalling 42 pieces of silverware in its history .\n",
      "\n",
      "Here's its NEUTRAL counterpart #5879: \n",
      "\t the club has won 13 league titles, 12 fa cups (a joint record), two league cups, 14 fa community shields, one uefa cup winners' cup and one inter-cities fairs cup.\n",
      "---------------------------------------------------------------------\n",
      "\n",
      "Record #334 classified as NEUTRAL, when actually SUBJECTIVE: \n",
      "\t mac davis played small roles in the following tv shows and movies:\n",
      "\n",
      "Here's its NEUTRAL counterpart #335: \n",
      "\t mac davis appeared in the following tv shows and movies:\n",
      "---------------------------------------------------------------------\n",
      "\n",
      "Record #5012 classified as NEUTRAL, when actually SUBJECTIVE: \n",
      "\t the firm's residential practice has been documented in a number of books, including the the american houses of robert a.m. stern, robert a.m. stern: houses, robert a.m. stern: houses and gardens, and designs for living: houses by robert a.m. stern architects.\n",
      "\n",
      "Here's its NEUTRAL counterpart #5013: \n",
      "\t the firm's residential practice has been documented in the the american houses of robert a.m. stern, robert a.m. stern: houses, robert a.m. stern: houses and gardens, and designs for living: houses by robert a.m. stern architects.\n",
      "---------------------------------------------------------------------\n",
      "\n",
      "Record #9262 classified as NEUTRAL, when actually SUBJECTIVE: \n",
      "\t crookes cemetery is one of the city of sheffield 's many cemeteries .\n",
      "\n",
      "Here's its NEUTRAL counterpart #9263: \n",
      "\t crookes cemetery is a cemetery in the city of sheffield , england .\n",
      "---------------------------------------------------------------------\n",
      "\n",
      "Record #7460 classified as NEUTRAL, when actually SUBJECTIVE: \n",
      "\t video game developer brendan \"playerunknown\" greene created the battle royale mod for the arma series which was later adapted into h1z1: king of the kill and playerunknown's battlegrounds.\n",
      "\n",
      "Here's its NEUTRAL counterpart #7461: \n",
      "\t video game adaptations of the battle royal concept became popular in the mid-2010s, with games such as day z , h1z1: king of the kill , and playerunknown's battlegrounds being released .\n",
      "---------------------------------------------------------------------\n",
      "\n",
      "Record #12392 classified as NEUTRAL, when actually SUBJECTIVE: \n",
      "\t tabletop role-playing games or pen and paper role-playing games are a form of interactive and collaborative storytelling.\n",
      "\n",
      "Here's its NEUTRAL counterpart #12393: \n",
      "\t tabletop role-playing games , also called pen and paper role-playing games , are a form of interactive and collaborative storytelling.\n",
      "---------------------------------------------------------------------\n",
      "\n",
      "Record #13948 classified as NEUTRAL, when actually SUBJECTIVE: \n",
      "\t briercrest college and seminary is a christian college campus located in caronport, saskatchewan, canada.\n",
      "\n",
      "Here's its NEUTRAL counterpart #13949: \n",
      "\t briercrest college and seminary is a christian educational organization located in caronport, saskatchewan, canada.\n",
      "---------------------------------------------------------------------\n",
      "\n",
      "Record #9768 classified as NEUTRAL, when actually SUBJECTIVE: \n",
      "\t rené lévesque (august 24, 1922 - november 1, 1987), was a reporter, a minister of the government of the canadian province of quebec (1960 - 1966), the founder of the parti qubcois political party, and prime minister of quebec (november 25, 1976 - october 3, 1985).\n",
      "\n",
      "Here's its NEUTRAL counterpart #9769: \n",
      "\t rené lévesque (august 24, 1922 - november 1, 1987), was a reporter, a minister of the government of the canadian province of quebec (1960 - 1966), the founder of the parti qubcois political party, and premier of quebec (november 25, 1976 - october 3, 1985).\n",
      "---------------------------------------------------------------------\n",
      "\n",
      "Record #4154 classified as NEUTRAL, when actually SUBJECTIVE: \n",
      "\t the mascot performed during halftime of illinois football and basketball games, as well as during women's volleyball matches.\n",
      "\n",
      "Here's its NEUTRAL counterpart #4155: \n",
      "\t chief illiniwek performed during halftime of illinois football and basketball games, as well as during women's volleyball matches.\n",
      "---------------------------------------------------------------------\n",
      "\n",
      "Record #15812 classified as NEUTRAL, when actually SUBJECTIVE: \n",
      "\t shirley maclaine replaced marilyn , kiss me, stupid, a comedy starring dean martin , kim novak took on the 'floozy ' role of 'polly the pistol' and a musical version of a tree grows in brooklyn.\n",
      "\n",
      "Here's its NEUTRAL counterpart #15813: \n",
      "\t (in which shirley maclaine would replace her) , kiss me, stupid, a comedy starring dean martin (and kim novak taking on monroe ' s role ) and a musical version of a tree grows in brooklyn.\n",
      "---------------------------------------------------------------------\n",
      "\n",
      "Record #2878 classified as NEUTRAL, when actually SUBJECTIVE: \n",
      "\t coldfusion , a scripting language compiled to java, used on the coldfusion application server\n",
      "\n",
      "Here's its NEUTRAL counterpart #2879: \n",
      "\t cfml , a scripting language compiled to java, used on the coldfusion or railo application servers\n",
      "---------------------------------------------------------------------\n",
      "\n",
      "Record #15964 classified as NEUTRAL, when actually SUBJECTIVE: \n",
      "\t amy ray played the role of jesus christ and emily saliers played the role of mary magdalene.\n",
      "\n",
      "Here's its NEUTRAL counterpart #15965: \n",
      "\t amy ray played the role of jesus of nazareth and emily saliers played the role of mary magdalene.\n",
      "---------------------------------------------------------------------\n",
      "\n",
      "Record #830 classified as NEUTRAL, when actually SUBJECTIVE: \n",
      "\t darjeeling oolong is a tea from india that imitates oolong.\n",
      "\n",
      "Here's its NEUTRAL counterpart #831: \n",
      "\t darjeeling oolong is a type of tea produced in darjeeling, india , in the style of oolong.\n",
      "---------------------------------------------------------------------\n",
      "\n",
      "Record #10536 classified as NEUTRAL, when actually SUBJECTIVE: \n",
      "\t on may 8, 2006, minuteman project leader jim gilchrist made an appearance .\n",
      "\n",
      "Here's its NEUTRAL counterpart #10537: \n",
      "\t on may 8, 2006, minuteman project leader jim gilchrist spoke on the program .\n",
      "---------------------------------------------------------------------\n",
      "\n",
      "Record #16954 classified as NEUTRAL, when actually SUBJECTIVE: \n",
      "\t the sports organisation of the dvp was the sv dynamo\n",
      "\n",
      "Here's its NEUTRAL counterpart #16955: \n",
      "\t the sports orgaisation of the dvp was the sv dynamo\n",
      "---------------------------------------------------------------------\n",
      "\n",
      "Record #4644 classified as NEUTRAL, when actually SUBJECTIVE: \n",
      "\t he chose to leave the promotion after his contract expired in 2000.\n",
      "\n",
      "Here's its NEUTRAL counterpart #4645: \n",
      "\t he left the promotion after his contract expired in 2000.\n",
      "---------------------------------------------------------------------\n",
      "\n",
      "Record #3248 classified as NEUTRAL, when actually SUBJECTIVE: \n",
      "\t greer has appeared on shows such as larry king live,\n",
      "\n",
      "Here's its NEUTRAL counterpart #3249: \n",
      "\t greer has appeared on larry king live,\n",
      "---------------------------------------------------------------------\n",
      "\n",
      "Record #11222 classified as NEUTRAL, when actually SUBJECTIVE: \n",
      "\t aston performed in school productions and after leaving school in 2004 was cast in a new itv programme, fun song factory.\n",
      "\n",
      "Here's its NEUTRAL counterpart #11223: \n",
      "\t merrygold performed in school productions and after leaving school in 2004 was cast in a new itv programme, fun song factory.\n",
      "---------------------------------------------------------------------\n",
      "\n",
      "Record #16594 classified as NEUTRAL, when actually SUBJECTIVE: \n",
      "\t his vocal styling was similar to gene pitney's.\n",
      "\n",
      "Here's its NEUTRAL counterpart #16595: \n",
      "\t his vocal styling was sometimes likened to gene pitney's.\n",
      "---------------------------------------------------------------------\n",
      "\n",
      "Record #10586 classified as NEUTRAL, when actually SUBJECTIVE: \n",
      "\t the information resource center is a re-conceptualized vision of a library, featuring computers, tech-ed labs, and studio classrooms.\n",
      "\n",
      "Here's its NEUTRAL counterpart #10587: \n",
      "\t the information resource center is a library, featuring computers, tech-ed labs, and studio classrooms.\n",
      "---------------------------------------------------------------------\n",
      "\n",
      "Record #6426 classified as NEUTRAL, when actually SUBJECTIVE: \n",
      "\t the main idol is a black stone statue carved from a single block of black basalt.\n",
      "\n",
      "Here's its NEUTRAL counterpart #6427: \n",
      "\t the main murti is a black stone statue carved from a single block of black basalt.\n",
      "---------------------------------------------------------------------\n",
      "\n",
      "Record #2462 classified as NEUTRAL, when actually SUBJECTIVE: \n",
      "\t season two maintained the tuesdays at 9:00 pm et timeslot from last season.\n",
      "\n",
      "Here's its NEUTRAL counterpart #2463: \n",
      "\t season two maintained the tuesdays at 9:00 pm et timeslot from the previous season.\n",
      "---------------------------------------------------------------------\n",
      "\n",
      "Record #6658 classified as NEUTRAL, when actually SUBJECTIVE: \n",
      "\t reagan, which handles grades 9 through 12 , is a part of the houston independent school district.\n",
      "\n",
      "Here's its NEUTRAL counterpart #6659: \n",
      "\t reagan, which enrolls students in grades nine through twelve , is a part of the houston independent school district.\n",
      "---------------------------------------------------------------------\n",
      "\n",
      "Record #9594 classified as NEUTRAL, when actually SUBJECTIVE: \n",
      "\t bijou video also has acquired and is restoring a large collection of vintage gay pornographic films, magazines, photos, and posters.\n",
      "\n",
      "Here's its NEUTRAL counterpart #9595: \n",
      "\t bijou video also has acquired and is restoring a collection of vintage gay pornographic films, magazines, photos, and posters.\n",
      "---------------------------------------------------------------------\n",
      "\n"
     ]
    }
   ],
   "source": [
    "sce.highlight_classification_errors(kind=\"fp\", n=25)"
   ]
  },
  {
   "cell_type": "markdown",
   "id": "79bed5d2-6a44-431e-8c83-5b2544061074",
   "metadata": {},
   "source": [
    "### Severe False Negatives (i.e. predicted `subjective` when actually `neutral`)"
   ]
  },
  {
   "cell_type": "code",
   "execution_count": 169,
   "id": "ff0bbcbd-69ef-4799-a3eb-efe33023ca98",
   "metadata": {},
   "outputs": [
    {
     "name": "stdout",
     "output_type": "stream",
     "text": [
      "Record #5235 classified as SUBJECTIVE, when actually NEUTRAL: \n",
      "\t the patriotic nigras (also known by the initialism pn) are a group of griefers in the online world of second life.\n",
      "\n",
      "Here's its SUBJECTIVE counterpart #5235: \n",
      "\t the patriotic nigras (also known by the initialism pn) are an awesome group of griefers in the online world of second life.\n",
      "---------------------------------------------------------------------\n",
      "\n",
      "Record #8099 classified as SUBJECTIVE, when actually NEUTRAL: \n",
      "\t julia scarlett elizabeth louis-dreyfus (born january 13, 1961) is an american actress and comedienne best known for her roles as elaine benes on the nbc sitcom seinfeld in the 1990s, and as christine campbell on the current cbs sitcom the new adventures of old christine.\n",
      "\n",
      "Here's its SUBJECTIVE counterpart #8099: \n",
      "\t julia scarlett elizabeth louis-dreyfus (born january 13, 1961) is an american actor and comedienne best known for her roles as elaine benes on the nbc sitcom seinfeld in the 1990s, and as christine campbell on the current cbs sitcom the new adventures of old christine.\n",
      "---------------------------------------------------------------------\n",
      "\n",
      "Record #10091 classified as SUBJECTIVE, when actually NEUTRAL: \n",
      "\t microsoft windows is the name of several families of absolute fucked up, low quiality, crashing proprietary operating systems by shitty microsoft.\n",
      "\n",
      "Here's its SUBJECTIVE counterpart #10091: \n",
      "\t microsoft windows is the name of several families of proprietary operating systems by shitty microsoft.\n",
      "---------------------------------------------------------------------\n",
      "\n",
      "Record #12013 classified as SUBJECTIVE, when actually NEUTRAL: \n",
      "\t double indemnity is perhaps the most well known, definittive example of a genre of films called film noir.\n",
      "\n",
      "Here's its SUBJECTIVE counterpart #12013: \n",
      "\t double indemnity is an excellent example of a genre of films called film noir.\n",
      "---------------------------------------------------------------------\n",
      "\n",
      "Record #4575 classified as SUBJECTIVE, when actually NEUTRAL: \n",
      "\t metheny unquestionably introduced alternate 12-string tunings to jazz; these can be heard to wonderful effect on tunes such as \"sirabhorn\" (from bright size life) and san lorenzo (from pat metheny group and travels).\n",
      "\n",
      "Here's its SUBJECTIVE counterpart #4575: \n",
      "\t metheny unquestionably introduced alternate 12-string tunings to jazz; these can be heard on tunes such as \"sirabhorn\" (from bright size life) and san lorenzo (from pat metheny group and travels).\n",
      "---------------------------------------------------------------------\n",
      "\n",
      "Record #3921 classified as SUBJECTIVE, when actually NEUTRAL: \n",
      "\t tomb of kamal-ol-molk, iran's greatest contemporary painter, in neishabur, iran.ostad kamal-ol-molk, iran's greatest contemporary painter.kamal-ol-molk, mohammad ghaffari, (also kamal-al-molk), is iran's greatest contemporary painter.\n",
      "\n",
      "Here's its SUBJECTIVE counterpart #3921: \n",
      "\t tomb of kamal-ol-molk, iran's greatest contemporary painter, in neishabur, iran.ostad kamal-ol-molk, iran's greatest contemporary painter.kamal-ol-molk, mohammad ghaffari, (also kamal-al-molk), is an iranian painter .\n",
      "---------------------------------------------------------------------\n",
      "\n",
      "Record #10255 classified as SUBJECTIVE, when actually NEUTRAL: \n",
      "\t his four children include andrew cahn, formerly chef de cabinet of european commissioner neil kinnock and now the executive director of uk trade and investment, and alison cahn, formerly a well respected producer of television documentaries.\n",
      "\n",
      "Here's its SUBJECTIVE counterpart #10255: \n",
      "\t his four children include andrew cahn, formerly chef de cabinet of european commissioner neil kinnock and now the executive director of uk trade and investment, and alison cahn, formerly a respected producer of television documentaries.\n",
      "---------------------------------------------------------------------\n",
      "\n",
      "Record #4449 classified as SUBJECTIVE, when actually NEUTRAL: \n",
      "\t though hardly noticed, final fight (and both of its sequels) featured a disturbing continue screen in the vein of the arcade version of ninja gaiden.\n",
      "\n",
      "Here's its SUBJECTIVE counterpart #4449: \n",
      "\t final fight (and both of its sequels) featured a disturbing continue screen in the vein of the arcade version of ninja gaiden.\n",
      "---------------------------------------------------------------------\n",
      "\n",
      "Record #57 classified as SUBJECTIVE, when actually NEUTRAL: \n",
      "\t in 1948, john lee was tragically killed after a mugging.\n",
      "\n",
      "Here's its SUBJECTIVE counterpart #57: \n",
      "\t in 1948, john lee was tragically in a mugging.\n",
      "---------------------------------------------------------------------\n",
      "\n",
      "Record #941 classified as SUBJECTIVE, when actually NEUTRAL: \n",
      "\t another strikingly elegant four-door saloon for the s3 continental came from james young).\n",
      "\n",
      "Here's its SUBJECTIVE counterpart #941: \n",
      "\t another elegant four-door saloon for the s3 continental came from james young).\n",
      "---------------------------------------------------------------------\n",
      "\n",
      "Record #4419 classified as SUBJECTIVE, when actually NEUTRAL: \n",
      "\t the islanders promptly signed yashin to an enormous 10-year, $87.5 million usd contract.\n",
      "\n",
      "Here's its SUBJECTIVE counterpart #4419: \n",
      "\t the islanders signed yashin to an enormous 10-year, $87.5 million usd contract.\n",
      "---------------------------------------------------------------------\n",
      "\n",
      "Record #16801 classified as SUBJECTIVE, when actually NEUTRAL: \n",
      "\t backstage assault (although terrible) had some pretty interesting weapon concepts and ideas.\n",
      "\n",
      "Here's its SUBJECTIVE counterpart #16801: \n",
      "\t backstage assault had some pretty interesting weapon concepts and ideas.\n",
      "---------------------------------------------------------------------\n",
      "\n",
      "Record #10357 classified as SUBJECTIVE, when actually NEUTRAL: \n",
      "\t david crane, born august 10, 1957, is an extremely successful american writer and producer.\n",
      "\n",
      "Here's its SUBJECTIVE counterpart #10357: \n",
      "\t david crane, born august 10, 1957, is a successful american writer and producer.\n",
      "---------------------------------------------------------------------\n",
      "\n",
      "Record #15029 classified as SUBJECTIVE, when actually NEUTRAL: \n",
      "\t roger federer (born august 8, 1981) is a unbelievable talented swiss professional tennis player.\n",
      "\n",
      "Here's its SUBJECTIVE counterpart #15029: \n",
      "\t roger federer (born august 8, 1981) is a talented swiss professional tennis player.\n",
      "---------------------------------------------------------------------\n",
      "\n",
      "Record #4979 classified as SUBJECTIVE, when actually NEUTRAL: \n",
      "\t there is also a picturesque weir on the river avon which is slated for a micro hydro electric scheme when the environment agency eventually give a workable licence - from 2009 to date(june 2013) there is still no result .\n",
      "\n",
      "Here's its SUBJECTIVE counterpart #4979: \n",
      "\t there is also a picturesque weir on the river avon where permission for a micro hydro electric scheme was applied for from the environment agency in 2009 , but this is still awaited in 2013 .\n",
      "---------------------------------------------------------------------\n",
      "\n",
      "Record #8815 classified as SUBJECTIVE, when actually NEUTRAL: \n",
      "\t in 2011 he followed up this debacle with anther rude letter to a constituent.\n",
      "\n",
      "Here's its SUBJECTIVE counterpart #8815: \n",
      "\t in 2011 he followed this up with another rude letter to a constituent.\n",
      "---------------------------------------------------------------------\n",
      "\n",
      "Record #9849 classified as SUBJECTIVE, when actually NEUTRAL: \n",
      "\t interestingly, lindsey buckingham also wrote a song inspired by dennis on his go insane solo album entitled \"dw suite\".\n",
      "\n",
      "Here's its SUBJECTIVE counterpart #9849: \n",
      "\t lindsey buckingham also wrote a song inspired by dennis on his go insane solo album entitled \"dw suite\".\n",
      "---------------------------------------------------------------------\n",
      "\n",
      "Record #25 classified as SUBJECTIVE, when actually NEUTRAL: \n",
      "\t in 2018, the club added the dubious mls wooden spoon to its trophy case for ending up bottom of the mls league table, finishing the season with a mere 21 points in 34 games.\n",
      "\n",
      "Here's its SUBJECTIVE counterpart #25: \n",
      "\t in 2018, the club added the dubious mls wooden spoon to its trophy case for ending up bottom of the mls league table, finishing the season with 21 points in 34 games.\n",
      "---------------------------------------------------------------------\n",
      "\n",
      "Record #2955 classified as SUBJECTIVE, when actually NEUTRAL: \n",
      "\t academy music group (or amg) is a good leading owner-operator of music venues in the united kingdom.\n",
      "\n",
      "Here's its SUBJECTIVE counterpart #2955: \n",
      "\t academy music group (or amg) is a leading owner-operator of music venues in the united kingdom.\n",
      "---------------------------------------------------------------------\n",
      "\n",
      "Record #16603 classified as SUBJECTIVE, when actually NEUTRAL: \n",
      "\t milan's 1990-91 european season was ruined in the semi-final against olympique marseille (blame adriano galliani) , which led to the club receiving a year long ban from european football, van basten had early been banned for four matches following a cynical elbowing offense.\n",
      "\n",
      "Here's its SUBJECTIVE counterpart #16603: \n",
      "\t milan's 1990-91 european season was ruined in the semi-final against olympique marseille, which led to the club receiving a year long ban from european football, van basten had been banned for four matches earlier in the competition following a cynical elbowing offense.\n",
      "---------------------------------------------------------------------\n",
      "\n",
      "Record #7281 classified as SUBJECTIVE, when actually NEUTRAL: \n",
      "\t interestingly in mainland china, there is a legal party called the revolutionary committee of the kuomintang that is officially one of the nine \"consultative parties,\" according to the chinese people's political consultative conference.\n",
      "\n",
      "Here's its SUBJECTIVE counterpart #7281: \n",
      "\t interestingly in mainland china, there is a legal party called the revolutionary committee of the kuomintang that is officially one of the nine \"consultative parties,\" according to the prc people's political consultative conference.\n",
      "---------------------------------------------------------------------\n",
      "\n",
      "Record #5443 classified as SUBJECTIVE, when actually NEUTRAL: \n",
      "\t todor aleksandrov poporushov also transliterated as todor alexandrov ( macedonian : ) also spelt alexandroff, (march 4, 1881 - august 31, 1924) was a macedonian freedom fighter and member of the bulgarian macedonian-adrianople revolutionary committees (bmarc) since 1897 and later of the central committee of the internal macedonian revolutionary organisation (vmro) ( macedonian : .\n",
      "\n",
      "Here's its SUBJECTIVE counterpart #5443: \n",
      "\t todor aleksandrov poporushov also transliterated as todor alexandrov ( bulgarian : ) also spelt alexandroff, (march 4, 1881 - august 31, 1924) was a bulgarian freedom fighter and member of the bulgarian macedonian-adrianople revolutionary committees (bmarc) since 1897 and later of the central committee of the internal macedonian revolutionary organisation (vmro) ( bulgarian : .\n",
      "---------------------------------------------------------------------\n",
      "\n",
      "Record #4363 classified as SUBJECTIVE, when actually NEUTRAL: \n",
      "\t claudia schiffer (born august 25, 1970 in rheinberg, north rhine-westphalia) is a german model who reached uber hot supermodel status during the 1990s.\n",
      "\n",
      "Here's its SUBJECTIVE counterpart #4363: \n",
      "\t claudia schiffer (born august 25, 1970 in rheinberg, north rhine-westphalia) is a german model who reached supermodel status during the 1990s.\n",
      "---------------------------------------------------------------------\n",
      "\n",
      "Record #11627 classified as SUBJECTIVE, when actually NEUTRAL: \n",
      "\t the classic rock band mott the hoople hail from hereford as do more recent punk rock sensations tastyhead.\n",
      "\n",
      "Here's its SUBJECTIVE counterpart #11627: \n",
      "\t the classic rock band mott the hoople hail from hereford as do more recent punk rock band tastyhead .\n",
      "---------------------------------------------------------------------\n",
      "\n",
      "Record #7443 classified as SUBJECTIVE, when actually NEUTRAL: \n",
      "\t unfortunately for elarton , he has not regained the glory of 2000. in 2001, enron field got its revenge and elarton's era continued to skyrocket up to a miserable 7.14. he was traded to the rockies for pedro astacio at the trading deadline.\n",
      "\n",
      "Here's its SUBJECTIVE counterpart #7443: \n",
      "\t elarton has not regained the glory of 2000. in 2001, enron field got its revenge and elarton's era continued to skyrocket up to a miserable 7.14. he was traded to the rockies for pedro astacio at the trading deadline.\n",
      "---------------------------------------------------------------------\n",
      "\n"
     ]
    }
   ],
   "source": [
    "sce.highlight_classification_errors(kind=\"fn\", n=25)"
   ]
  },
  {
   "cell_type": "code",
   "execution_count": null,
   "id": "c6b00932-4e20-423c-ac0c-c0103b140214",
   "metadata": {},
   "outputs": [],
   "source": []
  }
 ],
 "metadata": {
  "kernelspec": {
   "display_name": "Python 3",
   "language": "python",
   "name": "python3"
  },
  "language_info": {
   "codemirror_mode": {
    "name": "ipython",
    "version": 3
   },
   "file_extension": ".py",
   "mimetype": "text/x-python",
   "name": "python",
   "nbconvert_exporter": "python",
   "pygments_lexer": "ipython3",
   "version": "3.9.7"
  }
 },
 "nbformat": 4,
 "nbformat_minor": 5
}
