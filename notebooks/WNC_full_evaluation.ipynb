{
 "cells": [
  {
   "cell_type": "markdown",
   "id": "1a45ab66-0a2e-4ab8-a676-eb49cb4f2155",
   "metadata": {},
   "source": [
    "# WNC Full Dataset Evaluation"
   ]
  },
  {
   "cell_type": "code",
   "execution_count": 1,
   "id": "1fac6489-23db-4b98-8106-3b632a5ececc",
   "metadata": {},
   "outputs": [],
   "source": [
    "train_samples = 154197\n",
    "epochs = 10\n",
    "batch_size = 8"
   ]
  },
  {
   "cell_type": "code",
   "execution_count": 3,
   "id": "41b27a84-6aef-4ecb-8e89-7eef1158b316",
   "metadata": {},
   "outputs": [
    {
     "data": {
      "text/plain": [
       "192746.25"
      ]
     },
     "execution_count": 3,
     "metadata": {},
     "output_type": "execute_result"
    }
   ],
   "source": [
    "(train_samples / batch_size) * epochs"
   ]
  },
  {
   "cell_type": "markdown",
   "id": "23f16a34-fe75-499d-b1b9-e95211bc183d",
   "metadata": {},
   "source": [
    "## Load Fine-Tuned Model"
   ]
  },
  {
   "cell_type": "code",
   "execution_count": 1,
   "id": "14c7b18c-d511-483e-a0c3-dce6635a8697",
   "metadata": {},
   "outputs": [],
   "source": [
    "import os\n",
    "import torch\n",
    "from transformers import AutoModelForSeq2SeqLM, AutoTokenizer, DataCollatorForSeq2Seq\n",
    "from datasets import load_from_disk, load_metric\n",
    "\n",
    "%load_ext lab_black\n",
    "%load_ext tensorboard"
   ]
  },
  {
   "cell_type": "code",
   "execution_count": 2,
   "id": "4e286be9-0039-49b0-a3b7-a9814c3bf549",
   "metadata": {},
   "outputs": [],
   "source": [
    "DATASETS_PATH = \"/home/cdsw/data/processed/WNC_full\"\n",
    "MODEL_PATH = \"/home/cdsw/models/bart-tst-full\"\n",
    "\n",
    "wnc_datasets = load_from_disk(DATASETS_PATH)\n",
    "tokenizer = AutoTokenizer.from_pretrained(MODEL_PATH)\n",
    "model = AutoModelForSeq2SeqLM.from_pretrained(MODEL_PATH)"
   ]
  },
  {
   "cell_type": "markdown",
   "id": "d236e4a8-a71c-4e76-9792-e5f1852e2ecf",
   "metadata": {},
   "source": [
    "## Evaluation Walkthrough"
   ]
  },
  {
   "cell_type": "code",
   "execution_count": 3,
   "id": "fe83b7ab-b91f-4ab2-abe6-0fcd8251aaac",
   "metadata": {
    "tags": []
   },
   "outputs": [
    {
     "data": {
      "text/plain": [
       "{'rev_id': ['582489816',\n",
       "  '660141066',\n",
       "  '789327615',\n",
       "  '375171903',\n",
       "  '286179975',\n",
       "  '229377529',\n",
       "  '202866053',\n",
       "  '818668820',\n",
       "  '121439225',\n",
       "  '12637366'],\n",
       " 'source_text': ['allegations of apocrypha by opponents of the ppaca',\n",
       "  'mcgowan had an excellent rookie year and was named golf digest / rolex rookie-of-the-year in 1978.',\n",
       "  'hcis also organizes a yearly talent competition called the innofest where students in hcis get an opportunity to showcase their amazing talents.',\n",
       "  'in the north-east of aunis there is a huge forest of hardwood trees, the forest of benon, which fortunately has been protected because it is unique to the region.',\n",
       "  'on march 8, 2009, the impeccable, while monitoring submarine activity 75\\xa0miles south of hainan, china, was harassed by several chinese naval ships.',\n",
       "  'the new term is designed to be neutral, to avoid the social stigma associated with the conflation of \"manic\" and \"depression.\"',\n",
       "  'the news-press was sold by the new york times company in 2000, and is now independently owned by wendy p. mccaw, a local resident and a biased and eerily thick-headed woman .',\n",
       "  'the area in which the palestine pound circulated was divided into several political entities: the state of israel, the hashemite kingdom of transjordan, the jordanian- ruled west bank and the egyptian-occupied gaza strip.',\n",
       "  'paul francis gadd aka gary glitter (born may 8 1944) is an english rock and pop singer and songwriter who had a string of chart successes with a collection of 1970s glam rock hits including \"rock and roll parts 1 & 2\", \"i love you love me love\", \"i\\'m the leader of the gang (i am)\" and \"hello, hello, i\\'m back again\".',\n",
       "  'kmfdm stands for \"kein mehrheit fr die mitleid \", which roughly means \"no pity for the majority\" in english.'],\n",
       " 'target_text': ['allegations by opponents of the ppaca',\n",
       "  'mcgowan was named golf digest / rolex rookie-of-the-year in 1978.',\n",
       "  'hcis also organizes a yearly talent competition called the innofest where students in hcis get an opportunity to showcase their talents.',\n",
       "  'in the north-east of aunis there is a huge forest of hardwood trees, the forest of benon, which has been protected because it is unique to the region.',\n",
       "  'on march 8, 2009, the impeccable, while monitoring submarine activity 75\\xa0miles south of hainan, china, was engaged by several chinese naval ships.',\n",
       "  'the new term is designed to avoid the social stigma associated with the conflation of \"manic\" and \"depression.\"',\n",
       "  'the news-press was sold by the new york times company in 2000, and is now independently owned by wendy p. mccaw, a local resident and outspoken environmentalist .',\n",
       "  'the area in which the palestine pound circulated was divided into several political entities: the state of israel, the hashemite kingdom of transjordan, the jordanian- occupied west bank and the egyptian-occupied gaza strip.',\n",
       "  'paul francis gadd aka gary glitter (born may 8 1944) is an english rock and pop singer , songwriter and paedophile who had a string of chart successes with a collection of 1970s glam rock hits including \"rock and roll parts 1 & 2\", \"i love you love me love\", \"i\\'m the leader of the gang (i am)\" and \"hello, hello, i\\'m back again\".',\n",
       "  'kmfdm stands for \"kein mitleid fr die mehrheit \", which roughly means \"no pity for the majority\" in english.']}"
      ]
     },
     "execution_count": 3,
     "metadata": {},
     "output_type": "execute_result"
    }
   ],
   "source": [
    "examples = wnc_datasets[\"test\"][:10]\n",
    "examples"
   ]
  },
  {
   "cell_type": "code",
   "execution_count": 6,
   "id": "e06ef3a5-124e-4b0d-ab51-632b00cf336a",
   "metadata": {},
   "outputs": [],
   "source": [
    "testing = {\n",
    "    \"rev_id\": 123,\n",
    "    \"source_text\": [\"Sir Alex Ferguson is the greatest football manager of all time.\"],\n",
    "    \"target_text\": [\"yada\"],\n",
    "}"
   ]
  },
  {
   "cell_type": "code",
   "execution_count": 7,
   "id": "a0a5c0c7-defe-4d35-9d71-7284ed099bc7",
   "metadata": {},
   "outputs": [],
   "source": [
    "max_source_length = 1024\n",
    "max_target_length = 1024\n",
    "\n",
    "\n",
    "def preprocess_function(examples: dict):\n",
    "\n",
    "    inputs = examples[\"source_text\"]\n",
    "    targets = examples[\"target_text\"]\n",
    "\n",
    "    model_inputs = tokenizer(\n",
    "        inputs,\n",
    "        max_length=max_source_length,\n",
    "        padding=True,\n",
    "        truncation=True,\n",
    "        return_tensors=\"pt\",\n",
    "    )\n",
    "\n",
    "    with tokenizer.as_target_tokenizer():\n",
    "        labels = tokenizer(\n",
    "            targets,\n",
    "            max_length=max_target_length,\n",
    "            padding=True,\n",
    "            truncation=True,\n",
    "            return_tensors=\"pt\",\n",
    "        )\n",
    "\n",
    "    model_inputs[\"labels\"] = labels[\"input_ids\"]\n",
    "    return model_inputs"
   ]
  },
  {
   "cell_type": "code",
   "execution_count": 8,
   "id": "33198c06-0d1a-45be-9ec8-d382ec521089",
   "metadata": {
    "tags": []
   },
   "outputs": [],
   "source": [
    "# model_inputs = preprocess_function(examples)\n",
    "model_inputs = preprocess_function(testing)"
   ]
  },
  {
   "cell_type": "code",
   "execution_count": 9,
   "id": "0dc69b11-ed5d-4127-992c-23657540fd9c",
   "metadata": {},
   "outputs": [
    {
     "data": {
      "text/plain": [
       "torch.Size([1, 14])"
      ]
     },
     "execution_count": 9,
     "metadata": {},
     "output_type": "execute_result"
    }
   ],
   "source": [
    "model_inputs[\"input_ids\"].shape"
   ]
  },
  {
   "cell_type": "markdown",
   "id": "a8db475b-3fb7-41e0-a5a8-2efd41c895ab",
   "metadata": {},
   "source": [
    "### Generate Text"
   ]
  },
  {
   "cell_type": "code",
   "execution_count": 10,
   "id": "15261255-2189-47b3-809a-b5b2eebdd784",
   "metadata": {},
   "outputs": [],
   "source": [
    "def generate_text(examples: dict):\n",
    "\n",
    "    model_inputs = preprocess_function(examples)\n",
    "\n",
    "    outputs = model.generate(\n",
    "        model_inputs[\"input_ids\"],\n",
    "        max_length=max_target_length,\n",
    "        min_length=4,\n",
    "        length_penalty=2,\n",
    "        num_beams=4,\n",
    "        early_stopping=True,\n",
    "    )\n",
    "\n",
    "    return tokenizer.batch_decode(outputs, skip_special_tokens=True)"
   ]
  },
  {
   "cell_type": "code",
   "execution_count": 20,
   "id": "c1577af1-400e-4458-a6bf-13c5534f6951",
   "metadata": {},
   "outputs": [
    {
     "data": {
      "text/plain": [
       "['opposition to apocrypha by opponents of the ppaca',\n",
       " 'mcgowan had a good rookie year and was named golf digest / rolex rookie-of-the-year in 1978.',\n",
       " 'hcis also organizes a yearly talent competition called the innofest where students in hcis get an opportunity to showcase their talents.',\n",
       " 'in the north-east of aunis there is a huge forest of hardwood trees, the forest of benon, which has been protected because it is unique to the region.',\n",
       " 'on march 8, 2009, the impeccable, while monitoring submarine activity 75\\xa0miles south of hainan, china, was attacked by several chinese naval ships.',\n",
       " 'the new term is designed to avoid the social stigma associated with the conflation of \"manic\" and \"depression.\"',\n",
       " 'the news-press was sold by the new york times company in 2000, and is now independently owned by wendy p. mccaw, a local resident.',\n",
       " 'the area in which the palestine pound circulated was divided into several political entities: the state of israel, the hashemite kingdom of transjordan, the jordanian- occupied west bank and the egyptian-occupied gaza strip.',\n",
       " 'paul francis gadd aka gary glitter (born may 8 1944) is an english rock and pop singer and songwriter who had a string of chart successes with a collection of 1970s glam rock hits including \"rock and roll parts 1 & 2\", \"i love you love me love\", \" i\\'m the leader of the gang (i am)\" and \"hello, hello, i\\'m back again\".',\n",
       " 'kmfdm stands for \"kein mehrheit fr die mitleid \", which roughly means \"no pity for the majority\" in english.']"
      ]
     },
     "execution_count": 20,
     "metadata": {},
     "output_type": "execute_result"
    }
   ],
   "source": [
    "preds = generate_text(examples)\n",
    "preds"
   ]
  },
  {
   "cell_type": "code",
   "execution_count": 11,
   "id": "a3f44f11-0da3-412c-8d6a-e7b3c25afc43",
   "metadata": {},
   "outputs": [
    {
     "data": {
      "text/plain": [
       "['Sir Alex Ferguson is one of the greatest football managers of all time.']"
      ]
     },
     "execution_count": 11,
     "metadata": {},
     "output_type": "execute_result"
    }
   ],
   "source": [
    "preds = generate_text(testing)\n",
    "preds"
   ]
  },
  {
   "cell_type": "code",
   "execution_count": 21,
   "id": "20e60c91-b34d-4722-8fe8-e2298bdbd99d",
   "metadata": {},
   "outputs": [
    {
     "data": {
      "text/plain": [
       "['allegations by opponents of the ppaca',\n",
       " 'mcgowan was named golf digest / rolex rookie-of-the-year in 1978.',\n",
       " 'hcis also organizes a yearly talent competition called the innofest where students in hcis get an opportunity to showcase their talents.',\n",
       " 'in the north-east of aunis there is a huge forest of hardwood trees, the forest of benon, which has been protected because it is unique to the region.',\n",
       " 'on march 8, 2009, the impeccable, while monitoring submarine activity 75\\xa0miles south of hainan, china, was engaged by several chinese naval ships.',\n",
       " 'the new term is designed to avoid the social stigma associated with the conflation of \"manic\" and \"depression.\"',\n",
       " 'the news-press was sold by the new york times company in 2000, and is now independently owned by wendy p. mccaw, a local resident and outspoken environmentalist .',\n",
       " 'the area in which the palestine pound circulated was divided into several political entities: the state of israel, the hashemite kingdom of transjordan, the jordanian- occupied west bank and the egyptian-occupied gaza strip.',\n",
       " 'paul francis gadd aka gary glitter (born may 8 1944) is an english rock and pop singer , songwriter and paedophile who had a string of chart successes with a collection of 1970s glam rock hits including \"rock and roll parts 1 & 2\", \"i love you love me love\", \"i\\'m the leader of the gang (i am)\" and \"hello, hello, i\\'m back again\".',\n",
       " 'kmfdm stands for \"kein mitleid fr die mehrheit \", which roughly means \"no pity for the majority\" in english.']"
      ]
     },
     "execution_count": 21,
     "metadata": {},
     "output_type": "execute_result"
    }
   ],
   "source": [
    "labels = examples[\"target_text\"]\n",
    "labels"
   ]
  },
  {
   "cell_type": "code",
   "execution_count": 25,
   "id": "29fd8e6b-e1cf-47b9-994d-406f7053cd58",
   "metadata": {},
   "outputs": [
    {
     "data": {
      "text/plain": [
       "['allegations of apocrypha by opponents of the ppaca',\n",
       " 'mcgowan had an excellent rookie year and was named golf digest / rolex rookie-of-the-year in 1978.',\n",
       " 'hcis also organizes a yearly talent competition called the innofest where students in hcis get an opportunity to showcase their amazing talents.',\n",
       " 'in the north-east of aunis there is a huge forest of hardwood trees, the forest of benon, which fortunately has been protected because it is unique to the region.',\n",
       " 'on march 8, 2009, the impeccable, while monitoring submarine activity 75\\xa0miles south of hainan, china, was harassed by several chinese naval ships.',\n",
       " 'the new term is designed to be neutral, to avoid the social stigma associated with the conflation of \"manic\" and \"depression.\"',\n",
       " 'the news-press was sold by the new york times company in 2000, and is now independently owned by wendy p. mccaw, a local resident and a biased and eerily thick-headed woman .',\n",
       " 'the area in which the palestine pound circulated was divided into several political entities: the state of israel, the hashemite kingdom of transjordan, the jordanian- ruled west bank and the egyptian-occupied gaza strip.',\n",
       " 'paul francis gadd aka gary glitter (born may 8 1944) is an english rock and pop singer and songwriter who had a string of chart successes with a collection of 1970s glam rock hits including \"rock and roll parts 1 & 2\", \"i love you love me love\", \"i\\'m the leader of the gang (i am)\" and \"hello, hello, i\\'m back again\".',\n",
       " 'kmfdm stands for \"kein mehrheit fr die mitleid \", which roughly means \"no pity for the majority\" in english.']"
      ]
     },
     "execution_count": 25,
     "metadata": {},
     "output_type": "execute_result"
    }
   ],
   "source": [
    "inputs = examples[\"source_text\"]\n",
    "inputs"
   ]
  },
  {
   "cell_type": "code",
   "execution_count": 28,
   "id": "aca3fa18-1c2a-4f6e-858c-c8a82932cd60",
   "metadata": {},
   "outputs": [
    {
     "name": "stdout",
     "output_type": "stream",
     "text": [
      "0 \n",
      "\n",
      "INPUT: allegations of apocrypha by opponents of the ppaca\n",
      "\n",
      "TRUTH: allegations by opponents of the ppaca\n",
      "\n",
      "PREDI: opposition to apocrypha by opponents of the ppaca\n",
      "\n",
      "-------------------------------------------------\n",
      "1 \n",
      "\n",
      "INPUT: mcgowan had an excellent rookie year and was named golf digest / rolex rookie-of-the-year in 1978.\n",
      "\n",
      "TRUTH: mcgowan was named golf digest / rolex rookie-of-the-year in 1978.\n",
      "\n",
      "PREDI: mcgowan had a good rookie year and was named golf digest / rolex rookie-of-the-year in 1978.\n",
      "\n",
      "-------------------------------------------------\n",
      "2 \n",
      "\n",
      "INPUT: hcis also organizes a yearly talent competition called the innofest where students in hcis get an opportunity to showcase their amazing talents.\n",
      "\n",
      "TRUTH: hcis also organizes a yearly talent competition called the innofest where students in hcis get an opportunity to showcase their talents.\n",
      "\n",
      "PREDI: hcis also organizes a yearly talent competition called the innofest where students in hcis get an opportunity to showcase their talents.\n",
      "\n",
      "-------------------------------------------------\n",
      "3 \n",
      "\n",
      "INPUT: in the north-east of aunis there is a huge forest of hardwood trees, the forest of benon, which fortunately has been protected because it is unique to the region.\n",
      "\n",
      "TRUTH: in the north-east of aunis there is a huge forest of hardwood trees, the forest of benon, which has been protected because it is unique to the region.\n",
      "\n",
      "PREDI: in the north-east of aunis there is a huge forest of hardwood trees, the forest of benon, which has been protected because it is unique to the region.\n",
      "\n",
      "-------------------------------------------------\n",
      "4 \n",
      "\n",
      "INPUT: on march 8, 2009, the impeccable, while monitoring submarine activity 75 miles south of hainan, china, was harassed by several chinese naval ships.\n",
      "\n",
      "TRUTH: on march 8, 2009, the impeccable, while monitoring submarine activity 75 miles south of hainan, china, was engaged by several chinese naval ships.\n",
      "\n",
      "PREDI: on march 8, 2009, the impeccable, while monitoring submarine activity 75 miles south of hainan, china, was attacked by several chinese naval ships.\n",
      "\n",
      "-------------------------------------------------\n",
      "5 \n",
      "\n",
      "INPUT: the new term is designed to be neutral, to avoid the social stigma associated with the conflation of \"manic\" and \"depression.\"\n",
      "\n",
      "TRUTH: the new term is designed to avoid the social stigma associated with the conflation of \"manic\" and \"depression.\"\n",
      "\n",
      "PREDI: the new term is designed to avoid the social stigma associated with the conflation of \"manic\" and \"depression.\"\n",
      "\n",
      "-------------------------------------------------\n",
      "6 \n",
      "\n",
      "INPUT: the news-press was sold by the new york times company in 2000, and is now independently owned by wendy p. mccaw, a local resident and a biased and eerily thick-headed woman .\n",
      "\n",
      "TRUTH: the news-press was sold by the new york times company in 2000, and is now independently owned by wendy p. mccaw, a local resident and outspoken environmentalist .\n",
      "\n",
      "PREDI: the news-press was sold by the new york times company in 2000, and is now independently owned by wendy p. mccaw, a local resident.\n",
      "\n",
      "-------------------------------------------------\n",
      "7 \n",
      "\n",
      "INPUT: the area in which the palestine pound circulated was divided into several political entities: the state of israel, the hashemite kingdom of transjordan, the jordanian- ruled west bank and the egyptian-occupied gaza strip.\n",
      "\n",
      "TRUTH: the area in which the palestine pound circulated was divided into several political entities: the state of israel, the hashemite kingdom of transjordan, the jordanian- occupied west bank and the egyptian-occupied gaza strip.\n",
      "\n",
      "PREDI: the area in which the palestine pound circulated was divided into several political entities: the state of israel, the hashemite kingdom of transjordan, the jordanian- occupied west bank and the egyptian-occupied gaza strip.\n",
      "\n",
      "-------------------------------------------------\n",
      "8 \n",
      "\n",
      "INPUT: paul francis gadd aka gary glitter (born may 8 1944) is an english rock and pop singer and songwriter who had a string of chart successes with a collection of 1970s glam rock hits including \"rock and roll parts 1 & 2\", \"i love you love me love\", \"i'm the leader of the gang (i am)\" and \"hello, hello, i'm back again\".\n",
      "\n",
      "TRUTH: paul francis gadd aka gary glitter (born may 8 1944) is an english rock and pop singer , songwriter and paedophile who had a string of chart successes with a collection of 1970s glam rock hits including \"rock and roll parts 1 & 2\", \"i love you love me love\", \"i'm the leader of the gang (i am)\" and \"hello, hello, i'm back again\".\n",
      "\n",
      "PREDI: paul francis gadd aka gary glitter (born may 8 1944) is an english rock and pop singer and songwriter who had a string of chart successes with a collection of 1970s glam rock hits including \"rock and roll parts 1 & 2\", \"i love you love me love\", \" i'm the leader of the gang (i am)\" and \"hello, hello, i'm back again\".\n",
      "\n",
      "-------------------------------------------------\n",
      "9 \n",
      "\n",
      "INPUT: kmfdm stands for \"kein mehrheit fr die mitleid \", which roughly means \"no pity for the majority\" in english.\n",
      "\n",
      "TRUTH: kmfdm stands for \"kein mitleid fr die mehrheit \", which roughly means \"no pity for the majority\" in english.\n",
      "\n",
      "PREDI: kmfdm stands for \"kein mehrheit fr die mitleid \", which roughly means \"no pity for the majority\" in english.\n",
      "\n",
      "-------------------------------------------------\n"
     ]
    }
   ],
   "source": [
    "for i, (inp, pred, label) in enumerate(zip(inputs, preds, labels)):\n",
    "    print(i, \"\\n\")\n",
    "    print(f\"INPUT: {inp}\")\n",
    "    print()\n",
    "    print(f\"TRUTH: {label}\")\n",
    "    print()\n",
    "    print(f\"PREDI: {pred}\")\n",
    "    print()\n",
    "    print(\"-------------------------------------------------\")"
   ]
  },
  {
   "cell_type": "markdown",
   "id": "56ac16ee-6c66-40c9-8397-e9c54d80e73d",
   "metadata": {},
   "source": [
    "**Interesting Ones**: 1, 3, 6"
   ]
  },
  {
   "cell_type": "code",
   "execution_count": null,
   "id": "37ee8e59-a5b3-4e5c-9e2f-9c6db071930f",
   "metadata": {},
   "outputs": [],
   "source": []
  },
  {
   "cell_type": "code",
   "execution_count": null,
   "id": "4f88fa36-4fb8-476d-982e-878f22753ebf",
   "metadata": {},
   "outputs": [],
   "source": []
  },
  {
   "cell_type": "markdown",
   "id": "912d58ec-f459-426e-acb5-aa15b3f28443",
   "metadata": {
    "tags": []
   },
   "source": [
    "### Open Questions:\n",
    "1. Why does eval loss increase while eval accuracy/bleu also increase?\n",
    "    - \"In typical text generation settings, there exists a discrepancy between the training objective and evaluation criteria.\" \n",
    "    - [this paper](https://sailinglab.github.io/pgm-spring-2019/assets/project/final-reports/project3.pdf) introduces DEBLEU which is differentiable version of BLEU as loss function specifically for TST\n",
    "2. What does performance look like across cohorts (length_delta, generation length)??   \n",
    "3. [This paper] analyzes and discusses various TST evaluation metrics and how the correlate to human level evaluation."
   ]
  },
  {
   "cell_type": "code",
   "execution_count": null,
   "id": "57447228-3f0b-4751-8e55-6cec8a1cb4d0",
   "metadata": {},
   "outputs": [],
   "source": []
  }
 ],
 "metadata": {
  "kernelspec": {
   "display_name": "Python 3",
   "language": "python",
   "name": "python3"
  },
  "language_info": {
   "codemirror_mode": {
    "name": "ipython",
    "version": 3
   },
   "file_extension": ".py",
   "mimetype": "text/x-python",
   "name": "python",
   "nbconvert_exporter": "python",
   "pygments_lexer": "ipython3",
   "version": "3.9.7"
  }
 },
 "nbformat": 4,
 "nbformat_minor": 5
}
