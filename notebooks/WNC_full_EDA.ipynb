{
 "cells": [
  {
   "cell_type": "markdown",
   "id": "00aa3c16-f02f-4e71-8b01-30098c496b3e",
   "metadata": {},
   "source": [
    "# EDA on WNC \"full version\""
   ]
  },
  {
   "cell_type": "code",
   "execution_count": 23,
   "id": "a31780bb-d656-4dfd-aa4a-0cef612876b4",
   "metadata": {},
   "outputs": [],
   "source": [
    "from src.data_utils import (\n",
    "    build_hf_dataset,\n",
    "    remove_duplicate_by_revid,\n",
    "    plot_length_dist_bysplit,\n",
    "    plot_length_delta_bysplit,\n",
    "    get_descriptive_stats,\n",
    ")\n",
    "\n",
    "# %load_ext lab_black"
   ]
  },
  {
   "cell_type": "markdown",
   "id": "8389b295-37e6-4009-b98d-a8ff13058d75",
   "metadata": {},
   "source": [
    "## Prepare"
   ]
  },
  {
   "cell_type": "markdown",
   "id": "ea6d8b28-b322-4816-8743-fe6a458141ec",
   "metadata": {},
   "source": [
    "### Load data and create splits"
   ]
  },
  {
   "cell_type": "code",
   "execution_count": 3,
   "id": "41d0bd3f-190a-4fb1-abad-b0259363b489",
   "metadata": {},
   "outputs": [
    {
     "name": "stderr",
     "output_type": "stream",
     "text": [
      "181496it [00:03, 59987.13it/s]\n"
     ]
    }
   ],
   "source": [
    "DATA_PATH = \"/home/cdsw/data/raw/bias_data/WNC\"\n",
    "\n",
    "wnc_datasets = build_hf_dataset(DATA_PATH, one_word=False)"
   ]
  },
  {
   "cell_type": "code",
   "execution_count": 4,
   "id": "db4e7024-094a-4339-add0-aa38cb539266",
   "metadata": {},
   "outputs": [
    {
     "data": {
      "text/plain": [
       "DatasetDict({\n",
       "    train: Dataset({\n",
       "        features: ['rev_id', 'translation'],\n",
       "        num_rows: 163346\n",
       "    })\n",
       "    test: Dataset({\n",
       "        features: ['rev_id', 'translation'],\n",
       "        num_rows: 9075\n",
       "    })\n",
       "    dev: Dataset({\n",
       "        features: ['rev_id', 'translation'],\n",
       "        num_rows: 9075\n",
       "    })\n",
       "})"
      ]
     },
     "execution_count": 4,
     "metadata": {},
     "output_type": "execute_result"
    }
   ],
   "source": [
    "wnc_datasets"
   ]
  },
  {
   "cell_type": "markdown",
   "id": "49ce6d65-bac7-4115-90d6-6a5497623fba",
   "metadata": {},
   "source": [
    "### Remove duplicates"
   ]
  },
  {
   "cell_type": "code",
   "execution_count": 5,
   "id": "3ba6168f-6bd4-4dfd-85c5-829e751edcf6",
   "metadata": {},
   "outputs": [
    {
     "name": "stdout",
     "output_type": "stream",
     "text": [
      "4700 duplicate records have been removed.\n"
     ]
    },
    {
     "data": {
      "application/vnd.jupyter.widget-view+json": {
       "model_id": "a55f47d8c9484ccf8e72ee60c341372e",
       "version_major": 2,
       "version_minor": 0
      },
      "text/plain": [
       "  0%|          | 0/164 [00:00<?, ?ba/s]"
      ]
     },
     "metadata": {},
     "output_type": "display_data"
    },
    {
     "data": {
      "application/vnd.jupyter.widget-view+json": {
       "model_id": "1a825ce319bb4afba61d6056f8eca97e",
       "version_major": 2,
       "version_minor": 0
      },
      "text/plain": [
       "  0%|          | 0/10 [00:00<?, ?ba/s]"
      ]
     },
     "metadata": {},
     "output_type": "display_data"
    },
    {
     "data": {
      "application/vnd.jupyter.widget-view+json": {
       "model_id": "4475968986184e639ceb4abfe3f4de3e",
       "version_major": 2,
       "version_minor": 0
      },
      "text/plain": [
       "  0%|          | 0/10 [00:00<?, ?ba/s]"
      ]
     },
     "metadata": {},
     "output_type": "display_data"
    }
   ],
   "source": [
    "wnc_datasets = remove_duplicate_by_revid(wnc_datasets)"
   ]
  },
  {
   "cell_type": "code",
   "execution_count": 6,
   "id": "1eafbe2b-bcb5-4446-9ef5-66af56ce13d6",
   "metadata": {},
   "outputs": [
    {
     "data": {
      "text/plain": [
       "DatasetDict({\n",
       "    train: Dataset({\n",
       "        features: ['rev_id', 'translation'],\n",
       "        num_rows: 159228\n",
       "    })\n",
       "    test: Dataset({\n",
       "        features: ['rev_id', 'translation'],\n",
       "        num_rows: 8835\n",
       "    })\n",
       "    dev: Dataset({\n",
       "        features: ['rev_id', 'translation'],\n",
       "        num_rows: 8862\n",
       "    })\n",
       "})"
      ]
     },
     "execution_count": 6,
     "metadata": {},
     "output_type": "execute_result"
    }
   ],
   "source": [
    "wnc_datasets"
   ]
  },
  {
   "cell_type": "markdown",
   "id": "3a2c7087-4ee1-4b39-8a80-56cc710bf91e",
   "metadata": {},
   "source": [
    "## Explore"
   ]
  },
  {
   "cell_type": "markdown",
   "id": "b3e6d9a7-429a-4720-b758-9fbe11a1586e",
   "metadata": {},
   "source": [
    "### Look at some random samples"
   ]
  },
  {
   "cell_type": "code",
   "execution_count": 12,
   "id": "1d1c2d13-55d5-4ffa-adf6-d79c8c3c16bd",
   "metadata": {},
   "outputs": [],
   "source": [
    "random_sample = wnc_datasets[\"train\"].shuffle(seed=45).select(range(25))"
   ]
  },
  {
   "cell_type": "code",
   "execution_count": 13,
   "id": "57188e6c-e91e-4ad4-8d9e-e8b658f7410d",
   "metadata": {},
   "outputs": [],
   "source": [
    "import pandas as pd\n",
    "\n",
    "def inspect_df(wnc_dataset_df: pd.DataFrame):\n",
    "\n",
    "    for rev_id in set(wnc_dataset_df[\"rev_id\"]):\n",
    "        print(rev_id)\n",
    "        print()\n",
    "        temp_df = wnc_dataset_df[\n",
    "            wnc_dataset_df.rev_id == str(rev_id)\n",
    "        ]  ## this is for duplicate inspection later on\n",
    "        for i, row in temp_df.iterrows():\n",
    "            print(i)\n",
    "            print(\"PRE: \", row[\"translation\"][\"pre\"])\n",
    "            print(\"POST: \", row[\"translation\"][\"post\"])\n",
    "            print()\n",
    "\n",
    "        print(\"-------------------------------\")\n",
    "        print()"
   ]
  },
  {
   "cell_type": "code",
   "execution_count": 14,
   "id": "cc71e565-e6d6-444f-b2b2-77c32b2d64e1",
   "metadata": {},
   "outputs": [
    {
     "name": "stdout",
     "output_type": "stream",
     "text": [
      "4038764\n",
      "\n",
      "17\n",
      "PRE:  the pale or the english pale comprised a region in a radius of 20 miles around dublin which the english in ireland gradually fortified against the wildness of gaelic ireland.\n",
      "POST:  the pale or the english pale comprised a region in a radius of 20 miles around dublin which the english in ireland gradually fortified against incursion from gaelic ireland.\n",
      "\n",
      "-------------------------------\n",
      "\n",
      "60993915\n",
      "\n",
      "21\n",
      "PRE:  the leela group has commissioned a 1.37 lakh sq ft state of the art building.\n",
      "POST:  the leela group has commissioned a 1.37 lakh sq ft building.\n",
      "\n",
      "-------------------------------\n",
      "\n",
      "59552927\n",
      "\n",
      "12\n",
      "PRE:  }}north korea, officially the democratic people's republic of korea, is an east asian state occupying the northern half of the korean peninsula.\n",
      "POST:  }}north korea, officially the democratic people's republic of korea, is an east asian country occupying the northern half of the korean peninsula.\n",
      "\n",
      "-------------------------------\n",
      "\n",
      "140321245\n",
      "\n",
      "22\n",
      "PRE:  googlezon is the name of a fictional future company created when google merges with amazon.com in the popular dystopian flash movie epic 2014, released in november 2004. as the story goes, google, having consolidated all of its services into the google grid a \"universal platform that provides a functionally limitless amount of storage space and bandwidth to store and share media of all kinds\" and amazon.com, with its \"social recommendation engine\" and \"huge commercial infrastructure\" combine forces to battle with microsoft and its fictional newsbotster in the \"news wars of 2010\" which are \"notable for the fact that no actual news organizations take part\".\n",
      "POST:  googlezon is the name of a fictional future company created when google merges with amazon.com in the popular flash movie epic 2014, released in november 2004. as the story goes, google, having consolidated all of its services into the google grid a \"universal platform that provides a functionally limitless amount of storage space and bandwidth to store and share media of all kinds\" and amazon.com, with its \"social recommendation engine\" and \"huge commercial infrastructure\" combine forces to battle with microsoft and its fictional newsbotster in the \"news wars of 2010\" which are \"notable for the fact that no actual news organizations take part\".\n",
      "\n",
      "-------------------------------\n",
      "\n",
      "474862854\n",
      "\n",
      "13\n",
      "PRE:  these limitations helped persuade moreno to incorporate the museum into the new and growing university of la plata (today argentina's second-largest) in 1906. this led to his retirement as director, though by no means of his role as its preeminent caretaker, which occupied him until his passing in 1919.\n",
      "POST:  these limitations helped persuade moreno to incorporate the museum into the new and growing university of la plata (today argentina's second-largest) in 1906. this led to his retirement as director, though by no means of his role as its preeminent caretaker, which occupied him until his death in 1919.\n",
      "\n",
      "-------------------------------\n",
      "\n",
      "419961113\n",
      "\n",
      "5\n",
      "PRE:  drama students were stranded at the already sold gateway theatre for several months, and student union and sports facilities were uncompleted as of december 2007: both the drama school and student union facilities opened in march 2008. the new campus has now been described as \"inspirational\" for students and people consider the campus to be a benchmark in design ; however, the constant problem including subsidence and sewage problems means that students tend to avoid the campus where possible .\n",
      "POST:  drama students were stranded at the already sold gateway theatre for several months, and student union and sports facilities were uncompleted as of december 2007: both the drama school and student union facilities opened in march 2008. the new campus has now been described as \"inspirational\" for students and people consider the campus to be a benchmark in design.\n",
      "\n",
      "-------------------------------\n",
      "\n",
      "171636946\n",
      "\n",
      "4\n",
      "PRE:  this is in contrast to systems such as the international phonetic alphabet, which attempt to put pronunciation schemes on a scientific footing , though at the cost of being indecipherable to laymen .\n",
      "POST:  this is in contrast to systems such as the international phonetic alphabet, which attempt to put pronunciation schemes on a scientific footing.\n",
      "\n",
      "-------------------------------\n",
      "\n",
      "294591953\n",
      "\n",
      "19\n",
      "PRE:  a 2007 study which simulated various diets' land use for the geography of new york state concluded that although vegetarian diets used the smallest amount of land per capita, a low fat diet which included some meat and dairy (less than 2 oz of meat/eggs per day— significantly less than consumed by the average american) could support slightly more people on the same available land than could be fed on some high fat vegetarian diets, since animal food crops can be grown on lower quality land than crops for human consumption.\n",
      "POST:  a 2007 study which simulated various diets' land use for the geography of new york state concluded that although vegetarian diets used the smallest amount of land per capita, a low fat diet which included some meat and dairy (less than 2 oz of meat/eggs per day— significantly less than consumed by the average american) could support more people on the same available land than could be fed on some high fat vegetarian diets, since animal food crops can be grown on lower quality land than crops for human consumption.\n",
      "\n",
      "-------------------------------\n",
      "\n",
      "116130519\n",
      "\n",
      "14\n",
      "PRE:  the all-time attendance record for autzen stadium was set on september 16th, 2006 when 59,269 fans watched then 18th ranked oregon defeat then 15th ranked oklahoma 34-33. during the game, the noise level reached125 decibels, the loudest any stadium has been able to acheive .\n",
      "POST:  the all-time attendance record for autzen stadium was set on september 16th, 2006 when 59,269 fans watched then 18th ranked oregon defeat then 15th ranked oklahoma 34-33. during the game, the noise level reached 125 decibels, far above the threshold of pain .\n",
      "\n",
      "-------------------------------\n",
      "\n",
      "843461601\n",
      "\n",
      "8\n",
      "PRE:  they have also announced the production of their second full-length album entitled \"transience\" which is set to release on 29.06.2018 .\n",
      "POST:  they have also announced the production of their second full-length album entitled \"transience\".\n",
      "\n",
      "-------------------------------\n",
      "\n",
      "473157070\n",
      "\n",
      "0\n",
      "PRE:  star trek received critical acclaim from film critics.\n",
      "POST:  star trek received positive reviews from film critics.\n",
      "\n",
      "-------------------------------\n",
      "\n",
      "487946870\n",
      "\n",
      "15\n",
      "PRE:  the lord of the rings: the return of the king is a 2003 epic fantasy-drama film directed by peter jackson that is based on the second and third volumes of j. r. r. tolkien's the lord of the rings.\n",
      "POST:  the lord of the rings: the return of the king is a 2003 fantasy-drama film directed by peter jackson that is based on the second and third volumes of j. r. r. tolkien's the lord of the rings.\n",
      "\n",
      "-------------------------------\n",
      "\n",
      "419325606\n",
      "\n",
      "3\n",
      "PRE:  according to radley balko at reason.com, charles and david donated a combined $20 million to the aclu, a non-partisan organization, seeking to defeat the patriot act .\n",
      "POST:  on reason.com, radley balko commented that charles and david donated a combined $20 million to the aclu, a non-partisan organization, seeking to defeat the patriot act .\n",
      "\n",
      "-------------------------------\n",
      "\n",
      "196972565\n",
      "\n",
      "24\n",
      "PRE:  soon the concept was amended by the use of smooth synthetic door and drawer fronts, first in white, recalling a sense of cleanliness and alluding to sterile lab or hospital settings, but soon after in lively, friendly colors, too.\n",
      "POST:  soon the concept was amended by the use of smooth synthetic door and drawer fronts, first in white, recalling a sense of cleanliness and alluding to sterile lab or hospital settings, but soon after in more lively colors, too.\n",
      "\n",
      "-------------------------------\n",
      "\n",
      "177351376\n",
      "\n",
      "16\n",
      "PRE:  water from a fire sprinkler system explosion in 2007\n",
      "POST:  water from a fire sprinkler system failure in 2007\n",
      "\n",
      "-------------------------------\n",
      "\n",
      "234365795\n",
      "\n",
      "23\n",
      "PRE:  the webcomic xkcd by randall munroe has called attention to the general absurdity of deconstruction in strip number 451 , pointing out how an imposter could easily pose as an expert in the field.\n",
      "POST:  the webcomic xkcd refers to deconstruction in strip number 451 where it is humorously alleged that an imposter could pose as an expert in the field.\n",
      "\n",
      "-------------------------------\n",
      "\n",
      "210743452\n",
      "\n",
      "7\n",
      "PRE:  is a japanese writing utensils company producing a variety of writing utensils that could ostensibly be called pens .\n",
      "POST:  is a japanese writing utensils company producing a variety of writing utensils.\n",
      "\n",
      "-------------------------------\n",
      "\n",
      "673300696\n",
      "\n",
      "6\n",
      "PRE:  a free india did not mean merely transferring the established british administrative structure into indian hands.\n",
      "POST:  an independent india did not mean merely transferring the established british administrative structure into indian hands.\n",
      "\n",
      "-------------------------------\n",
      "\n",
      "173532884\n",
      "\n",
      "18\n",
      "PRE:  american political activists have sometimes unintentionally invoked the tea party ironically as a symbol of futile rebellion against the establishment.\n",
      "POST:  american political activists have sometimes invoked the tea party as a symbol of rebellion against the establishment.\n",
      "\n",
      "-------------------------------\n",
      "\n",
      "557005334\n",
      "\n",
      "11\n",
      "PRE:  singapore has a highly developed and successful market economy.\n",
      "POST:  singapore has a highly developed trade-oriented market economy.\n",
      "\n",
      "-------------------------------\n",
      "\n",
      "587041453\n",
      "\n",
      "10\n",
      "PRE:  elvis and slick monty is an emmy-winning television series which aired on nttv from 2004 to 2006.\n",
      "POST:  elvis and slick monty is a television series which aired on nttv from 2004 to 2006.\n",
      "\n",
      "-------------------------------\n",
      "\n",
      "450038945\n",
      "\n",
      "1\n",
      "PRE:  the outage only lasted around 25 minutes.\n",
      "POST:  the outage lasted around 25 minutes.\n",
      "\n",
      "-------------------------------\n",
      "\n",
      "12102113\n",
      "\n",
      "20\n",
      "PRE:  on march 28, 2005, the new york times reported that the schindlers planned to sell a list of people and organizations who have contributed financially to their legal fight to a direct-marketing organization that will solicit money from these people for a wide range of rightist causes, particularly anti-abortion groups.\n",
      "POST:  on march 28, 2005, the new york times reported that the schindlers planned to sell a list of people and organizations who have contributed financially to their legal fight to a direct-marketing organization that will solicit money from these people for anti-abortion and conservative groups.\n",
      "\n",
      "-------------------------------\n",
      "\n",
      "46579689\n",
      "\n",
      "2\n",
      "PRE:  coal liquefaction in particular becomes economically viable when the price of oil reaches $35/barrel - a price only slightly more than half the market price as of march 2006. peak oil proponents point out that such technologies are less efficient and claim that they will not be sufficient to replace the dwindling supply of oil.\n",
      "POST:  coal liquefaction in particular becomes economically viable when the price of oil reaches $35/barrel - a price only slightly more than half the market price as of march 2006. peak oil proponents point out that such technologies are less efficient and claim that they will not be sufficient to replace the declining supplies of oil which they predict .\n",
      "\n",
      "-------------------------------\n",
      "\n",
      "872873754\n",
      "\n",
      "9\n",
      "PRE:  goldsworthy's rather tendentious theories consider stories and movies about ruritania to be a form of \"literary exploitation or narrative colonization\" of the peoples of the balkans.\n",
      "POST:  goldsworthy's theories consider stories and movies about ruritania to be a form of \"literary exploitation or narrative colonization\" of the peoples of the balkans.\n",
      "\n",
      "-------------------------------\n",
      "\n"
     ]
    }
   ],
   "source": [
    "inspect_df(random_sample.to_pandas())"
   ]
  },
  {
   "cell_type": "markdown",
   "id": "e2346ce3-2325-4a30-a345-ef89187eddc6",
   "metadata": {},
   "source": [
    "### Descriptive stats"
   ]
  },
  {
   "cell_type": "code",
   "execution_count": 15,
   "id": "a4e3811e-9819-4f1b-8122-ac9c1ff8c7d8",
   "metadata": {},
   "outputs": [
    {
     "data": {
      "application/vnd.jupyter.widget-view+json": {
       "model_id": "92982aa9553c438bab341fd11d336525",
       "version_major": 2,
       "version_minor": 0
      },
      "text/plain": [
       "0ex [00:00, ?ex/s]"
      ]
     },
     "metadata": {},
     "output_type": "display_data"
    },
    {
     "data": {
      "application/vnd.jupyter.widget-view+json": {
       "model_id": "c814f9a692964b38bd3189be3c4e9da7",
       "version_major": 2,
       "version_minor": 0
      },
      "text/plain": [
       "0ex [00:00, ?ex/s]"
      ]
     },
     "metadata": {},
     "output_type": "display_data"
    },
    {
     "data": {
      "application/vnd.jupyter.widget-view+json": {
       "model_id": "27898ac5690940ccb29c9245f7dbda07",
       "version_major": 2,
       "version_minor": 0
      },
      "text/plain": [
       "0ex [00:00, ?ex/s]"
      ]
     },
     "metadata": {},
     "output_type": "display_data"
    },
    {
     "data": {
      "application/vnd.jupyter.widget-view+json": {
       "model_id": "3f6d6fc1c79940ac824a788fe68372fe",
       "version_major": 2,
       "version_minor": 0
      },
      "text/plain": [
       "0ex [00:00, ?ex/s]"
      ]
     },
     "metadata": {},
     "output_type": "display_data"
    },
    {
     "data": {
      "application/vnd.jupyter.widget-view+json": {
       "model_id": "11f8404868814c8b8b90125784b5606f",
       "version_major": 2,
       "version_minor": 0
      },
      "text/plain": [
       "0ex [00:00, ?ex/s]"
      ]
     },
     "metadata": {},
     "output_type": "display_data"
    },
    {
     "data": {
      "application/vnd.jupyter.widget-view+json": {
       "model_id": "7fc46b5a4e4e4fbb9384dae7c2d9d6a5",
       "version_major": 2,
       "version_minor": 0
      },
      "text/plain": [
       "0ex [00:00, ?ex/s]"
      ]
     },
     "metadata": {},
     "output_type": "display_data"
    }
   ],
   "source": [
    "# create new dataset with calculated column lengths\n",
    "wnc_datasets = wnc_datasets.map(\n",
    "    lambda example: {\n",
    "        \"length_pre\": len(example[\"translation\"][\"pre\"].split()),\n",
    "        \"length_post\": len(example[\"translation\"][\"post\"].split()),\n",
    "    }\n",
    ").map(lambda example: {\"length_delta\": example[\"length_post\"] - example[\"length_pre\"]})"
   ]
  },
  {
   "cell_type": "markdown",
   "id": "3b4d5711-56b0-4994-9c9b-4618d70c6463",
   "metadata": {},
   "source": [
    "#### Plot text length distribution by split"
   ]
  },
  {
   "cell_type": "code",
   "execution_count": 16,
   "id": "e5cd12eb-0573-4e90-9cc7-2dca18f8293a",
   "metadata": {},
   "outputs": [
    {
     "data": {
      "image/png": "[encoded data removed]",
      "text/plain": [
       "<Figure size 814.375x360 with 1 Axes>"
      ]
     },
     "metadata": {
      "needs_background": "light"
     },
     "output_type": "display_data"
    },
    {
     "data": {
      "image/png": "[encoded data removed]",
      "text/plain": [
       "<Figure size 814.375x360 with 1 Axes>"
      ]
     },
     "metadata": {
      "needs_background": "light"
     },
     "output_type": "display_data"
    },
    {
     "data": {
      "image/png": "[encoded data removed]",
      "text/plain": [
       "<Figure size 814.375x360 with 1 Axes>"
      ]
     },
     "metadata": {
      "needs_background": "light"
     },
     "output_type": "display_data"
    }
   ],
   "source": [
    "plot_length_dist_bysplit(wnc_datasets)"
   ]
  },
  {
   "cell_type": "code",
   "execution_count": 17,
   "id": "d8a430af-414e-4aae-aa47-c50e092b9072",
   "metadata": {},
   "outputs": [
    {
     "data": {
      "text/html": [
       "<div>\n",
       "<style scoped>\n",
       "    .dataframe tbody tr th:only-of-type {\n",
       "        vertical-align: middle;\n",
       "    }\n",
       "\n",
       "    .dataframe tbody tr th {\n",
       "        vertical-align: top;\n",
       "    }\n",
       "\n",
       "    .dataframe thead tr th {\n",
       "        text-align: left;\n",
       "    }\n",
       "</style>\n",
       "<table border=\"1\" class=\"dataframe\">\n",
       "  <thead>\n",
       "    <tr>\n",
       "      <th></th>\n",
       "      <th colspan=\"2\" halign=\"left\">dev</th>\n",
       "      <th colspan=\"2\" halign=\"left\">test</th>\n",
       "      <th colspan=\"2\" halign=\"left\">train</th>\n",
       "    </tr>\n",
       "    <tr>\n",
       "      <th></th>\n",
       "      <th>length_post</th>\n",
       "      <th>length_pre</th>\n",
       "      <th>length_post</th>\n",
       "      <th>length_pre</th>\n",
       "      <th>length_post</th>\n",
       "      <th>length_pre</th>\n",
       "    </tr>\n",
       "  </thead>\n",
       "  <tbody>\n",
       "    <tr>\n",
       "      <th>count</th>\n",
       "      <td>8862.00</td>\n",
       "      <td>8862.00</td>\n",
       "      <td>8835.00</td>\n",
       "      <td>8835.00</td>\n",
       "      <td>159228.00</td>\n",
       "      <td>159228.00</td>\n",
       "    </tr>\n",
       "    <tr>\n",
       "      <th>mean</th>\n",
       "      <td>27.00</td>\n",
       "      <td>28.83</td>\n",
       "      <td>27.11</td>\n",
       "      <td>29.10</td>\n",
       "      <td>27.32</td>\n",
       "      <td>29.23</td>\n",
       "    </tr>\n",
       "    <tr>\n",
       "      <th>std</th>\n",
       "      <td>14.28</td>\n",
       "      <td>14.76</td>\n",
       "      <td>14.36</td>\n",
       "      <td>14.94</td>\n",
       "      <td>14.71</td>\n",
       "      <td>15.27</td>\n",
       "    </tr>\n",
       "    <tr>\n",
       "      <th>min</th>\n",
       "      <td>2.00</td>\n",
       "      <td>2.00</td>\n",
       "      <td>1.00</td>\n",
       "      <td>2.00</td>\n",
       "      <td>1.00</td>\n",
       "      <td>2.00</td>\n",
       "    </tr>\n",
       "    <tr>\n",
       "      <th>25%</th>\n",
       "      <td>17.00</td>\n",
       "      <td>18.00</td>\n",
       "      <td>17.00</td>\n",
       "      <td>19.00</td>\n",
       "      <td>17.00</td>\n",
       "      <td>19.00</td>\n",
       "    </tr>\n",
       "    <tr>\n",
       "      <th>50%</th>\n",
       "      <td>24.00</td>\n",
       "      <td>26.00</td>\n",
       "      <td>24.00</td>\n",
       "      <td>26.00</td>\n",
       "      <td>24.00</td>\n",
       "      <td>26.00</td>\n",
       "    </tr>\n",
       "    <tr>\n",
       "      <th>75%</th>\n",
       "      <td>34.00</td>\n",
       "      <td>36.00</td>\n",
       "      <td>34.00</td>\n",
       "      <td>37.00</td>\n",
       "      <td>34.00</td>\n",
       "      <td>37.00</td>\n",
       "    </tr>\n",
       "    <tr>\n",
       "      <th>max</th>\n",
       "      <td>156.00</td>\n",
       "      <td>156.00</td>\n",
       "      <td>152.00</td>\n",
       "      <td>155.00</td>\n",
       "      <td>287.00</td>\n",
       "      <td>292.00</td>\n",
       "    </tr>\n",
       "  </tbody>\n",
       "</table>\n",
       "</div>"
      ],
      "text/plain": [
       "              dev                   test                  train           \n",
       "      length_post length_pre length_post length_pre length_post length_pre\n",
       "count     8862.00    8862.00     8835.00    8835.00   159228.00  159228.00\n",
       "mean        27.00      28.83       27.11      29.10       27.32      29.23\n",
       "std         14.28      14.76       14.36      14.94       14.71      15.27\n",
       "min          2.00       2.00        1.00       2.00        1.00       2.00\n",
       "25%         17.00      18.00       17.00      19.00       17.00      19.00\n",
       "50%         24.00      26.00       24.00      26.00       24.00      26.00\n",
       "75%         34.00      36.00       34.00      37.00       34.00      37.00\n",
       "max        156.00     156.00      152.00     155.00      287.00     292.00"
      ]
     },
     "execution_count": 17,
     "metadata": {},
     "output_type": "execute_result"
    }
   ],
   "source": [
    "get_descriptive_stats(wnc_datasets)"
   ]
  },
  {
   "cell_type": "code",
   "execution_count": 18,
   "id": "9cb0966c-f90c-429a-8286-1d094b309476",
   "metadata": {},
   "outputs": [
    {
     "data": {
      "text/plain": [
       "0.01     6.0\n",
       "0.99    79.0\n",
       "Name: length_pre, dtype: float64"
      ]
     },
     "execution_count": 18,
     "metadata": {},
     "output_type": "execute_result"
    }
   ],
   "source": [
    "wnc_datasets[\"train\"].to_pandas()[\"length_pre\"].quantile(q=[0.01, 0.99])"
   ]
  },
  {
   "cell_type": "markdown",
   "id": "0fa6584f-7b1d-401e-b9ef-c7cf631c3dda",
   "metadata": {},
   "source": [
    "**NOTE:** Similar to the one-word version, let's exclude records where the pre-edit text length is outside the 1st or 99th percentile"
   ]
  },
  {
   "cell_type": "code",
   "execution_count": 19,
   "id": "3c9c974b-ccab-4012-b35c-81ca7084a627",
   "metadata": {},
   "outputs": [
    {
     "name": "stdout",
     "output_type": "stream",
     "text": [
      "Lower: 6.0 | Upper: 79.0\n"
     ]
    },
    {
     "data": {
      "application/vnd.jupyter.widget-view+json": {
       "model_id": "337de4cda5eb4bebb5b78f138402fb5d",
       "version_major": 2,
       "version_minor": 0
      },
      "text/plain": [
       "  0%|          | 0/160 [00:00<?, ?ba/s]"
      ]
     },
     "metadata": {},
     "output_type": "display_data"
    },
    {
     "data": {
      "application/vnd.jupyter.widget-view+json": {
       "model_id": "81e3a04bf7fe424fafeaa5ac41aae41d",
       "version_major": 2,
       "version_minor": 0
      },
      "text/plain": [
       "  0%|          | 0/9 [00:00<?, ?ba/s]"
      ]
     },
     "metadata": {},
     "output_type": "display_data"
    },
    {
     "data": {
      "application/vnd.jupyter.widget-view+json": {
       "model_id": "98818993a1f3418d93858604793d105e",
       "version_major": 2,
       "version_minor": 0
      },
      "text/plain": [
       "  0%|          | 0/9 [00:00<?, ?ba/s]"
      ]
     },
     "metadata": {},
     "output_type": "display_data"
    }
   ],
   "source": [
    "lower_length, upper_length = (\n",
    "        wnc_datasets[\"train\"].to_pandas()[\"length_pre\"].quantile(q=[0.01, 0.99])\n",
    "    )\n",
    "\n",
    "print(f'Lower: {lower_length} | Upper: {upper_length}')\n",
    "\n",
    "wnc_datasets = wnc_datasets.filter(\n",
    "    lambda example: example[\"length_pre\"] <= upper_length\n",
    "    and example[\"length_pre\"] >= lower_length\n",
    ")"
   ]
  },
  {
   "cell_type": "markdown",
   "id": "699ff325-4c66-4935-8cc7-5eba83c82a67",
   "metadata": {},
   "source": [
    "#### Distribution by change in text length"
   ]
  },
  {
   "cell_type": "code",
   "execution_count": 24,
   "id": "4f36faf8-6b68-4dc5-b4a3-f55c6924c812",
   "metadata": {},
   "outputs": [
    {
     "data": {
      "image/png": "[encoded data removed]",
      "text/plain": [
       "<Figure size 1224x576 with 1 Axes>"
      ]
     },
     "metadata": {
      "needs_background": "light"
     },
     "output_type": "display_data"
    }
   ],
   "source": [
    "plot_length_delta_bysplit(wnc_datasets)"
   ]
  },
  {
   "cell_type": "markdown",
   "id": "c7ce80d9-6c9a-425a-b056-30cb01c50d7d",
   "metadata": {},
   "source": [
    "**Observations:**\n",
    "- Roughly 25% of all edits on the full dataset are 1 word removals\n",
    "- 15% are net even replacements\n",
    "- It's odd to me that we'd have extreme additons or subtractions for NPOV related edits... lets investigate"
   ]
  },
  {
   "cell_type": "markdown",
   "id": "d5f72a92-6a44-4081-8b0d-a2865f1db466",
   "metadata": {},
   "source": [
    "##### Minor subtractive"
   ]
  },
  {
   "cell_type": "code",
   "execution_count": null,
   "id": "e9b43927-5652-4bd8-a07a-5fd39296e132",
   "metadata": {},
   "outputs": [],
   "source": [
    "min_s = wnc_datasets.filter(\n",
    "    lambda example: example[\"length_delta\"] in [-6, -5, -4]\n",
    ")"
   ]
  },
  {
   "cell_type": "code",
   "execution_count": null,
   "id": "7a53f88e-50c0-43e4-a580-fa6fbaac9ff2",
   "metadata": {},
   "outputs": [],
   "source": [
    "min_s[\"train\"]['translation'][3]"
   ]
  },
  {
   "cell_type": "code",
   "execution_count": null,
   "id": "8d57087a-df32-4fc6-9ae7-1b660b3d6c4b",
   "metadata": {},
   "outputs": [],
   "source": [
    "min_s[\"train\"]['translation'][4]"
   ]
  },
  {
   "cell_type": "code",
   "execution_count": null,
   "id": "edc41aab-06f4-4a83-8030-aea28032c9a2",
   "metadata": {},
   "outputs": [],
   "source": [
    "min_s[\"train\"]['translation'][58]"
   ]
  },
  {
   "cell_type": "code",
   "execution_count": null,
   "id": "49125314-c2c1-4210-bf92-1039709f2f51",
   "metadata": {},
   "outputs": [],
   "source": [
    "min_s[\"train\"]['translation'][101]"
   ]
  },
  {
   "cell_type": "markdown",
   "id": "65e64dae-0a1c-45a2-ba1e-1d3f45ef7d07",
   "metadata": {},
   "source": [
    "##### Moderate subtractive"
   ]
  },
  {
   "cell_type": "code",
   "execution_count": null,
   "id": "0dde462d-b1d4-4790-8e5e-d7cd4818fb87",
   "metadata": {},
   "outputs": [],
   "source": [
    "mod_s = wnc_datasets.filter(\n",
    "    lambda example: example[\"length_delta\"] in [-13, -10, -9]\n",
    ")"
   ]
  },
  {
   "cell_type": "code",
   "execution_count": null,
   "id": "b0463602-53c9-421c-9ca9-da46d23fedf9",
   "metadata": {},
   "outputs": [],
   "source": [
    "mod_s[\"train\"]['translation'][4]"
   ]
  },
  {
   "cell_type": "code",
   "execution_count": null,
   "id": "59abd9d3-2e0a-40e9-a1e2-46d677ad3ebe",
   "metadata": {},
   "outputs": [],
   "source": [
    "# GOOD example of removing subjective claim\n",
    "mod_s[\"train\"]['translation'][8]"
   ]
  },
  {
   "cell_type": "code",
   "execution_count": null,
   "id": "a2f47c03-7f78-402b-995b-9d26e1475877",
   "metadata": {},
   "outputs": [],
   "source": [
    "mod_s[\"train\"]['translation'][22]"
   ]
  },
  {
   "cell_type": "markdown",
   "id": "fad636b9-eba6-414f-bfb4-d79133bdc753",
   "metadata": {},
   "source": [
    "##### Extreme subtractive"
   ]
  },
  {
   "cell_type": "code",
   "execution_count": null,
   "id": "398851bd-b085-41c3-bd5f-1ab31fa30a4e",
   "metadata": {},
   "outputs": [],
   "source": [
    "ex_s = wnc_datasets.filter(\n",
    "    lambda example: example[\"length_delta\"] in [-33, -30, -25]\n",
    ")"
   ]
  },
  {
   "cell_type": "code",
   "execution_count": null,
   "id": "57322729-c53c-4e4d-a65a-3549a022eecb",
   "metadata": {},
   "outputs": [],
   "source": [
    "# BAD example of removing seemingly disparate sentence without NPOV\n",
    "ex_s[\"train\"]['translation'][3]"
   ]
  },
  {
   "cell_type": "code",
   "execution_count": null,
   "id": "bf176537-7fdf-458b-b938-82a488bd8a3a",
   "metadata": {},
   "outputs": [],
   "source": [
    "# BAD example of removing seemingly disparate sentence without NPOV\n",
    "ex_s[\"train\"]['translation'][4]"
   ]
  },
  {
   "cell_type": "code",
   "execution_count": null,
   "id": "51f28ff5-8e84-4405-a1dd-e1da5f46ea1c",
   "metadata": {},
   "outputs": [],
   "source": [
    "ex_s[\"train\"]['translation'][7]"
   ]
  },
  {
   "cell_type": "code",
   "execution_count": null,
   "id": "08ce0b68-a240-4436-b682-05cda5f6bdfc",
   "metadata": {},
   "outputs": [],
   "source": [
    "ex_s[\"train\"]['translation'][20]"
   ]
  },
  {
   "cell_type": "code",
   "execution_count": null,
   "id": "cce2b2dc-fbda-4d06-8f7a-1fc3e90b7ebe",
   "metadata": {},
   "outputs": [],
   "source": [
    "ex_s[\"train\"]['translation'][15]"
   ]
  },
  {
   "cell_type": "code",
   "execution_count": null,
   "id": "c54f624b-b51d-45a1-84db-278d9cb816ea",
   "metadata": {},
   "outputs": [],
   "source": [
    "ex_s[\"train\"]['translation'][18]"
   ]
  },
  {
   "cell_type": "markdown",
   "id": "50bd4661-a5fb-4171-beac-90fef06b27ef",
   "metadata": {},
   "source": [
    "##### Moderate additive\n"
   ]
  },
  {
   "cell_type": "code",
   "execution_count": null,
   "id": "846bdf99-6d98-4707-bb35-672d39622465",
   "metadata": {},
   "outputs": [],
   "source": [
    "mod_a = wnc_datasets.filter(\n",
    "    lambda example: example[\"length_delta\"] in [13, 10, 9]\n",
    ")"
   ]
  },
  {
   "cell_type": "code",
   "execution_count": null,
   "id": "f329446c-7d01-4521-ad6d-c121f253503b",
   "metadata": {},
   "outputs": [],
   "source": [
    "# Example of factual information being introduced + punctuation inconsistency\n",
    "mod_a[\"train\"]['translation'][18]"
   ]
  },
  {
   "cell_type": "code",
   "execution_count": null,
   "id": "0f7f58c5-f530-4f57-9ed9-9d4a5978c195",
   "metadata": {},
   "outputs": [],
   "source": [
    "# GOOD\n",
    "mod_a[\"train\"]['translation'][79]"
   ]
  },
  {
   "cell_type": "code",
   "execution_count": null,
   "id": "63d32f3c-8834-4056-afb8-2b3d2831d5a7",
   "metadata": {},
   "outputs": [],
   "source": [
    "# Example where the additive edit seems erroneous and includes context out of pre-text scope\n",
    "mod_a[\"train\"]['translation'][29]"
   ]
  },
  {
   "cell_type": "code",
   "execution_count": null,
   "id": "da9f58b1-7c18-4a46-8970-db57eba158fe",
   "metadata": {},
   "outputs": [],
   "source": [
    "# GOOD example of neutralizing statements that presupposed truth\n",
    "mod_a[\"train\"]['translation'][42]"
   ]
  },
  {
   "cell_type": "markdown",
   "id": "f51d7c23-1aa0-4822-88a6-06353b8856fe",
   "metadata": {},
   "source": [
    "##### Extreme additive"
   ]
  },
  {
   "cell_type": "code",
   "execution_count": null,
   "id": "2d412013-f2a0-4a2e-a207-b07b86131224",
   "metadata": {},
   "outputs": [],
   "source": [
    "ex_a = wnc_datasets.filter(\n",
    "    lambda example: example[\"length_delta\"] in [23, 25, 26]\n",
    ")"
   ]
  },
  {
   "cell_type": "code",
   "execution_count": null,
   "id": "d71d421d-248a-4342-9879-6204e696ac9a",
   "metadata": {},
   "outputs": [],
   "source": [
    "ex_a[\"train\"]['translation'][1]"
   ]
  },
  {
   "cell_type": "code",
   "execution_count": null,
   "id": "d2f42a58-07db-4550-8330-1e6d3fc4cb85",
   "metadata": {},
   "outputs": [],
   "source": [
    "## BAD example where additional sentence is added randomly\n",
    "ex_a[\"train\"]['translation'][8]"
   ]
  },
  {
   "cell_type": "markdown",
   "id": "742a5685-1190-4d90-af00-7d0e6b701f71",
   "metadata": {},
   "source": [
    "**Observations:**\n",
    "- On either extreme, it seems there are some \"erroneous\" edits where an additional sentence is added or subtracted that only makes sense in the broader paragraph context that we cannot determine from just the context provided here. Therefore these are not realistic for our model to learn/produce.\n",
    "    - ex_a[\"train\"]['translation'][8]\n",
    "    - mod_a[\"train\"]['translation'][29]  [TO SHOW]\n",
    "    - ex_s[\"train\"]['translation'][4]\n",
    "    - ex_s[\"train\"]['translation'][3]  [TO SHOW]\n",
    "- It appears that some examples do introduce new factual information. This is something we cannot expect our model to account for and have no way of isolating or quantifying the extent of this type of edit. Ideally we would remove.\n",
    "    - mod_a[\"train\"]['translation'][18]  [TO SHOW]\n",
    "- There are lots of multi-word edits that seem reasonable and expected under NPOV\n",
    "    - mod_a[\"train\"]['translation'][42] (presupposing truth)  [TO SHOW]\n",
    "    - mod_s[\"train\"]['translation'][8] (removes subjective claim)  [TO SHOW]\n",
    "    - mod_a[\"train\"]['translation'][79] (changing opinion stated as fact)\n",
    "- These multiword edits can be complicated -- rearanging sentence structure all together. For that reason, the previous idea that simple hueristics for evalution (i.e. did we delete/replace the right word?) are not feasible. For this version of the problem, we'll need to default to some traditional measure of semantic preservation...\n",
    "    \n",
    "    \n",
    "**Actions:**\n",
    "- We cannot account for all issues that are inherent in the data. For now, let's remove extreme additive/subtractive records as defined by length_delta above or below 1st or 99th percentile"
   ]
  },
  {
   "cell_type": "code",
   "execution_count": null,
   "id": "8e5478b0-d968-46bf-aeb3-b489dfc9b2b4",
   "metadata": {},
   "outputs": [],
   "source": [
    "wnc_datasets[\"train\"].to_pandas()[\"length_delta\"].quantile(q=[0.01, 0.99])"
   ]
  },
  {
   "cell_type": "code",
   "execution_count": null,
   "id": "8d03b798-716f-4c44-9ea5-661fa40bc209",
   "metadata": {},
   "outputs": [],
   "source": [
    "subtractive_bound, additive_bound = wnc_datasets[\"train\"].to_pandas()[\"length_delta\"].quantile(q=[0.01, 0.99])\n",
    "\n",
    "\n",
    "print(f'subtractive_bound: {subtractive_bound} | additive_bound: {additive_bound}')\n",
    "\n",
    "wnc_datasets = wnc_datasets.filter(\n",
    "    lambda example: example[\"length_delta\"] >= subtractive_bound\n",
    "        and example[\"length_delta\"] <= additive_bound\n",
    ")"
   ]
  },
  {
   "cell_type": "code",
   "execution_count": null,
   "id": "02d19f85-9de3-43f6-a9ff-0eb39f7cb30a",
   "metadata": {},
   "outputs": [],
   "source": [
    "plot_length_delta_bysplit(wnc_datasets)"
   ]
  },
  {
   "cell_type": "markdown",
   "id": "c947407a-8df2-4e61-bcb8-a10e114282f8",
   "metadata": {},
   "source": [
    "### Look at short examples"
   ]
  },
  {
   "cell_type": "code",
   "execution_count": 25,
   "id": "55d3cfdc-f14b-4d92-a42c-425e518392b7",
   "metadata": {},
   "outputs": [
    {
     "data": {
      "text/plain": [
       "DatasetDict({\n",
       "    train: Dataset({\n",
       "        features: ['rev_id', 'translation', 'length_pre', 'length_post', 'length_delta'],\n",
       "        num_rows: 156662\n",
       "    })\n",
       "    test: Dataset({\n",
       "        features: ['rev_id', 'translation', 'length_pre', 'length_post', 'length_delta'],\n",
       "        num_rows: 8711\n",
       "    })\n",
       "    dev: Dataset({\n",
       "        features: ['rev_id', 'translation', 'length_pre', 'length_post', 'length_delta'],\n",
       "        num_rows: 8733\n",
       "    })\n",
       "})"
      ]
     },
     "execution_count": 25,
     "metadata": {},
     "output_type": "execute_result"
    }
   ],
   "source": [
    "wnc_datasets"
   ]
  },
  {
   "cell_type": "code",
   "execution_count": 26,
   "id": "346be953-9913-4742-8cf9-fed6abc0f19f",
   "metadata": {},
   "outputs": [
    {
     "data": {
      "application/vnd.jupyter.widget-view+json": {
       "model_id": "9102e06f187c4b7689b4e8e241fe84b1",
       "version_major": 2,
       "version_minor": 0
      },
      "text/plain": [
       "  0%|          | 0/157 [00:00<?, ?ba/s]"
      ]
     },
     "metadata": {},
     "output_type": "display_data"
    },
    {
     "data": {
      "application/vnd.jupyter.widget-view+json": {
       "model_id": "ab88ea36c5ad488680c98f09f12a8a95",
       "version_major": 2,
       "version_minor": 0
      },
      "text/plain": [
       "  0%|          | 0/9 [00:00<?, ?ba/s]"
      ]
     },
     "metadata": {},
     "output_type": "display_data"
    },
    {
     "data": {
      "application/vnd.jupyter.widget-view+json": {
       "model_id": "a7f046e1743f493495d61c40b46fea12",
       "version_major": 2,
       "version_minor": 0
      },
      "text/plain": [
       "  0%|          | 0/9 [00:00<?, ?ba/s]"
      ]
     },
     "metadata": {},
     "output_type": "display_data"
    }
   ],
   "source": [
    "wnc_datasets_short = wnc_datasets.filter(\n",
    "    lambda example: example[\"length_pre\"] <= 30\n",
    ")"
   ]
  },
  {
   "cell_type": "code",
   "execution_count": 27,
   "id": "5ccc6651-44a6-481e-ad28-9ea21dab00f0",
   "metadata": {},
   "outputs": [
    {
     "name": "stdout",
     "output_type": "stream",
     "text": [
      "93863982\n",
      "\n",
      "0\n",
      "PRE:  irreducible complexity is the discredited argument that certain biological systems are absolutely too complex to have evolved naturally from simpler, or \"less complete\" predecessors.\n",
      "POST:  irreducible complexity is the position that certain biological systems are absolutely too complex to have evolved naturally from simpler, or \"less complete\" predecessors.\n",
      "\n",
      "-------------------------------\n",
      "\n",
      "102021918\n",
      "\n",
      "30\n",
      "PRE:  of the three girls, rose is the youngest and describes as a \"pixyish girl-next-door\" , seems to get the most male attention .\n",
      "POST:  of the three girls, rose is the youngest and describes as a \"pixyish girl-next-door\".\n",
      "\n",
      "-------------------------------\n",
      "\n",
      "3650259\n",
      "\n",
      "16\n",
      "PRE:  supposed finds of chemical weapons since 2003\n",
      "POST:  finds of chemical weapons since 2003\n",
      "\n",
      "-------------------------------\n",
      "\n",
      "159892714\n",
      "\n",
      "18\n",
      "PRE:  on 21st september 2007 he kicked the vital drop goal to give wigan a 31-30 vistory in a paly off victory at bradford.\n",
      "POST:  on 21st september 2007 he kicked the vital drop goal to give wigan a 31-30 win aganst bradford.\n",
      "\n",
      "-------------------------------\n",
      "\n",
      "209153526\n",
      "\n",
      "20\n",
      "PRE:  by mid-1845, doctrinal lines amongst the various millerite groups began to solidify and the groups emphasized their differences; a process george r. knight accurately terms sect building.\n",
      "POST:  by mid-1845, doctrinal lines amongst the various millerite groups began to solidify and the groups emphasized their differences; a process george r. knight terms sect building.\n",
      "\n",
      "-------------------------------\n",
      "\n",
      "622346177\n",
      "\n",
      "42\n",
      "PRE:  vic wertz's dramatic two-out home run in the ninth inning off bob porterfield wins the game at briggs stadium.\n",
      "POST:  vic wertz's two-out home run in the ninth inning off bob porterfield wins the game at briggs stadium.\n",
      "\n",
      "-------------------------------\n",
      "\n",
      "78486700\n",
      "\n",
      "23\n",
      "PRE:  muhammad (; also mohammed, and other variants) 570-632 ce, was an arab religious and political leader who preached a religion he called islam.\n",
      "POST:  muhammad (; also mohammed, and other variants) 570-632 ce, was an arab religious and political leader and the historical founder of islam.\n",
      "\n",
      "-------------------------------\n",
      "\n",
      "100277100\n",
      "\n",
      "38\n",
      "PRE:  in spite of such strong evidence , the relationship between global warming and hurricanes is still being debated.\n",
      "POST:  nevertheless , the relationship between global warming and hurricanes is still being debated.\n",
      "\n",
      "-------------------------------\n",
      "\n",
      "26565883\n",
      "\n",
      "37\n",
      "PRE:  giovanni pontiero (d. 1997) was a brilliant and famous translator of portuguese fiction, most notably the works of jos saramago.\n",
      "POST:  giovanni pontiero (d. 1997) was a translator of portuguese fiction, most notably the works of jos saramago.\n",
      "\n",
      "-------------------------------\n",
      "\n",
      "762170458\n",
      "\n",
      "10\n",
      "PRE:  in economics, market structure is best defined as the organisational and other characteristics of a market.\n",
      "POST:  in economics, market structure is an organisational and other characteristics of a market.\n",
      "\n",
      "-------------------------------\n",
      "\n",
      "874830526\n",
      "\n",
      "44\n",
      "PRE:  falling springs, natural beauty in cahokia area\n",
      "POST:  falling springs, a waterfall in the cahokia area\n",
      "\n",
      "-------------------------------\n",
      "\n",
      "322649982\n",
      "\n",
      "26\n",
      "PRE:  he considers the encounter with the mirai as an opportunity to change the history for the \" better \" (from his perspective, at least . )\n",
      "POST:  he considers the encounter with the mirai as an opportunity to change the history for the better.\n",
      "\n",
      "-------------------------------\n",
      "\n",
      "40024551\n",
      "\n",
      "7\n",
      "PRE:  de grey's methuselah foundation matched the $10,000, making the prize for debunking him a generous $20,000.\n",
      "POST:  de grey's methuselah foundation matched the $10,000, making the prize for debunking him a $20,000.\n",
      "\n",
      "-------------------------------\n",
      "\n",
      "56581984\n",
      "\n",
      "47\n",
      "PRE:  cardiff is starting to become a centre for good contemporary music, with excellent musicians like the automatic and charlotte church tracing their roots from here.\n",
      "POST:  cardiff is starting to become a centre for contemporary music, with musicians like the automatic and charlotte church tracing their roots from here.\n",
      "\n",
      "-------------------------------\n",
      "\n",
      "800669853\n",
      "\n",
      "12\n",
      "PRE:  nolle lenoir (born 27 april 1948 in neuilly-sur-seine, hauts-de-seine) is a french stateswoman .\n",
      "POST:  nolle lenoir (born 27 april 1948 in neuilly-sur-seine, hauts-de-seine) is a french politician.\n",
      "\n",
      "-------------------------------\n",
      "\n",
      "171453265\n",
      "\n",
      "4\n",
      "PRE:  christopher hill , the world-renowned historian, explains that, long before the english revolution there was a \"lower-class heretical culture\".\n",
      "POST:  british historian christopher hill explains that, long before the english revolution there was a \"lower-class heretical culture\".\n",
      "\n",
      "-------------------------------\n",
      "\n",
      "426713397\n",
      "\n",
      "8\n",
      "PRE:  the operation resulted in one-third of kashmir being conquered by pakistani troops in quick time.\n",
      "POST:  the operation resulted in one-third of kashmir being taken by pakistani troops in quick time.\n",
      "\n",
      "-------------------------------\n",
      "\n",
      "34449524\n",
      "\n",
      "24\n",
      "PRE:  there are no records of ross making any political donations to any candidate or political party, but his politics are clearly right-wing .\n",
      "POST:  there are no records of ross making any political donations to any candidate or political party .\n",
      "\n",
      "-------------------------------\n",
      "\n",
      "255583524\n",
      "\n",
      "36\n",
      "PRE:  newark academy is located on a beautiful 68-acre campus in northern new jersey.\n",
      "POST:  newark academy is located on a 68-acre campus in northern new jersey.\n",
      "\n",
      "-------------------------------\n",
      "\n",
      "597679881\n",
      "\n",
      "1\n",
      "PRE:  sitak was sadly taken out in the third and final round of qualifying by a future atp top 100 player teimuraz gabashvili 6-4 7-5.\n",
      "POST:  sitak was taken out in the third and final round of qualifying by a future atp top 100 player teimuraz gabashvili 6-4 7-5.\n",
      "\n",
      "-------------------------------\n",
      "\n",
      "171927900\n",
      "\n",
      "43\n",
      "PRE:  the rubik's cube is a remarkable object in that it provides a tangible representation of a mathematical group.\n",
      "POST:  the rubik's cube provides a tangible representation of a mathematical group.\n",
      "\n",
      "-------------------------------\n",
      "\n",
      "118204569\n",
      "\n",
      "48\n",
      "PRE:  map of arab league states in dark green with non-arab areas in light green and somalia and mauritania in striped green due to their arab league membership but non-arab population.\n",
      "POST:  map of arab league states in dark green with non-arab areas in light green and somalia and djibouti in striped green due to their arab league membership but non-arab population.\n",
      "\n",
      "-------------------------------\n",
      "\n",
      "373441798\n",
      "\n",
      "40\n",
      "PRE:  paragould is strategically located in northeast arkansas approximately 88 miles northwest of memphis, tn.\n",
      "POST:  paragould is located in northeast arkansas approximately 88 miles northwest of memphis, tn .\n",
      "\n",
      "-------------------------------\n",
      "\n",
      "285678232\n",
      "\n",
      "5\n",
      "PRE:  however, due to its more than 55% non-white population, the accent of native rochesterians is changing, sadly due to influences from african american and hispanic american migrants to the city.\n",
      "POST:  however, due to its more than 55% non-white population, the accent of native rochesterians is changing, due to influences from african american and hispanic american migrants to the city.\n",
      "\n",
      "-------------------------------\n",
      "\n",
      "508334856\n",
      "\n",
      "9\n",
      "PRE:  j. k. rowling, author of the harry potter series, created the clever twist on a wizarding world and our world .\n",
      "POST:  j. k. rowling, author of the harry potter series, created the harry potter universe.\n",
      "\n",
      "-------------------------------\n",
      "\n",
      "22636582\n",
      "\n",
      "33\n",
      "PRE:  instead, vladimir kramnik was given the chance to play kasparov in 2000. against all expectations , kramnik won .\n",
      "POST:  instead, vladimir kramnik was given the chance to play kasparov in 2000. kramnik won the match with two wins , fourteen draws, and no losses .\n",
      "\n",
      "-------------------------------\n",
      "\n",
      "703105433\n",
      "\n",
      "32\n",
      "PRE:  since russia annexed crimea in 2014, fewer trains have served the simferopol station.\n",
      "POST:  since russia overtook crimea in 2014, fewer trains have served the simferopol station.\n",
      "\n",
      "-------------------------------\n",
      "\n",
      "230874047\n",
      "\n",
      "45\n",
      "PRE:  katherine ann moss, commonly known as kate moss (born 16 january 1974), is an english supermodel who has appeared on over 300 magazine covers .\n",
      "POST:  katherine ann moss, commonly known as kate moss (born 16 january 1974), is an english model who has appeared on over 300 magazine covers .\n",
      "\n",
      "-------------------------------\n",
      "\n",
      "58597233\n",
      "\n",
      "15\n",
      "PRE:  a significant and much needed change is a more complete implementation of ipv6 which is now supported by all networking components, services, and the user interface.\n",
      "POST:  a significant change is a more complete implementation of ipv6 which is now supported by all networking components, services, and the user interface.\n",
      "\n",
      "-------------------------------\n",
      "\n",
      "57306634\n",
      "\n",
      "11\n",
      "PRE:  the latest incarnation of the esx series, the esx iii demonstrated that dodge was serious about cornering the hybrid market .\n",
      "POST:  the latest incarnation of the esx series, the esx iii demonstrated that dodge has continued its hybrid vehicle development .\n",
      "\n",
      "-------------------------------\n",
      "\n",
      "296222458\n",
      "\n",
      "2\n",
      "PRE:  furthermore, in one of the most authoritative scriptures the vachamanamrut, bhagwan swaminarayan states one of the prerequisites for attaining akshardham.\n",
      "POST:  furthermore, in one of the most authoritative scriptures the vachamanamrut, swaminarayan states one of the prerequisites for attaining akshardham.\n",
      "\n",
      "-------------------------------\n",
      "\n",
      "840060293\n",
      "\n",
      "25\n",
      "PRE:  on april 5, 2018, polyvore was shut down without warning and bought by ssense.\n",
      "POST:  on april 5, 2018, polyvore announced that it had been acquired by ssense and would cease operations immediately .\n",
      "\n",
      "-------------------------------\n",
      "\n",
      "600061915\n",
      "\n",
      "29\n",
      "PRE:  dramatic changes were accompanied by social unrest, giving rise to populist, socialist, and anarchist movements.\n",
      "POST:  dramatic changes were accompanied by social unrest, and the rise of populist, socialist, and anarchist movements.\n",
      "\n",
      "-------------------------------\n",
      "\n",
      "215870771\n",
      "\n",
      "28\n",
      "PRE:  alongside with its rival miss world and miss earth contests, this pageant is one of the most publicized beauty contests in the world.\n",
      "POST:  alongside with the miss world and miss earth contests, this pageant is one of the most publicized beauty contests in the world.\n",
      "\n",
      "-------------------------------\n",
      "\n",
      "45803684\n",
      "\n",
      "13\n",
      "PRE:  haiti has always been one of the poorest and most poorly-governed countries in the americas.\n",
      "POST:  haiti has always been one of the poorest countries in the americas.\n",
      "\n",
      "-------------------------------\n",
      "\n",
      "110736752\n",
      "\n",
      "34\n",
      "PRE:  metro detroit is an economic powerhouse and has made michigan's economy a leader in information technology, life sciences, and advanced manufacturing.\n",
      "POST:  metro detroit has made michigan's economy a leader in information technology, life sciences, and advanced manufacturing.\n",
      "\n",
      "-------------------------------\n",
      "\n",
      "271696011\n",
      "\n",
      "27\n",
      "PRE:  the orchestra rise during the drowning is quoted in luciano berio's postmodern 1968 piece \"sinfonia\".\n",
      "POST:  the orchestra rise during the drowning is quoted in luciano berio's \"sinfonia\" (196869) .\n",
      "\n",
      "-------------------------------\n",
      "\n",
      "486083495\n",
      "\n",
      "35\n",
      "PRE:  later, india saw the period of central asian and afghan (pashtun) invaders, which saw the emergence of the mughlai cuisine many people now associate with india .\n",
      "POST:  later, india saw the period of central asia n invaders, which saw the emergence of the mughlai cuisine , a mix of indian and central asian cuisine .\n",
      "\n",
      "-------------------------------\n",
      "\n",
      "792015667\n",
      "\n",
      "22\n",
      "PRE:  state and federal agencies in new york created a program to allow food stamp recipients the option to purchase healthful foods online and have them delivered to their homes .\n",
      "POST:  state and federal agencies in new york created a program to allow food stamp recipients the option to purchase healthful foods online for home delivery .\n",
      "\n",
      "-------------------------------\n",
      "\n",
      "500003469\n",
      "\n",
      "39\n",
      "PRE:  (later, at empress wu's request, emperor gaozong further executed the former empress wang and consort xiao cruelly .)\n",
      "POST:  (later, at empress wu's request, emperor gaozong further executed the former empress wang and consort xiao.)\n",
      "\n",
      "-------------------------------\n",
      "\n",
      "206256409\n",
      "\n",
      "3\n",
      "PRE:  the church became widely known during the 2008 united states presidential election when the media focused attention on soundbites of several controversial sermons by wright.\n",
      "POST:  the church became widely known during the 2008 united states presidential election when the media focused attention on several controversial sermons by wright , which were greeted with outrage around the country .\n",
      "\n",
      "-------------------------------\n",
      "\n",
      "475005367\n",
      "\n",
      "6\n",
      "PRE:  arab citizens of israel (also called israeli-arabs) are non-jewish israeli citizens whose cultural and linguistic heritage or ethnic identity is arab.\n",
      "POST:  arab citizens of israel are non-jewish israeli citizens whose cultural and linguistic heritage or ethnic identity is arab.\n",
      "\n",
      "-------------------------------\n",
      "\n",
      "96800702\n",
      "\n",
      "49\n",
      "PRE:  harry's nascent mid-life crisis means he welcomes, tentatively, her attentions, eventually purchasing an expensive necklace for her (from jewelery salesman rufus, hilariously played by rowan atkinson) for christmas.\n",
      "POST:  harry's nascent mid-life crisis means he welcomes, tentatively, her attentions, eventually purchasing an expensive necklace for her (from jewelery salesman rufus, played by rowan atkinson) for christmas.\n",
      "\n",
      "-------------------------------\n",
      "\n",
      "87454039\n",
      "\n",
      "21\n",
      "PRE:  many of frp 's critics connect them to right-wing populism in europe , because they are skeptical towards immigration and have the same perspective on means to combat crime.\n",
      "POST:  frp are sometimes connected to right-wing populism in europe , because they are skeptical towards immigration and have the same perspective on means to combat crime.\n",
      "\n",
      "-------------------------------\n",
      "\n",
      "670883465\n",
      "\n",
      "46\n",
      "PRE:  under the guidance of director lautner, the diverse team created a sound palette that complemented perfectly the dark tone of the film.\n",
      "POST:  under the guidance of director lautner, the diverse team created a sound palette according to the dark tone of the film.\n",
      "\n",
      "-------------------------------\n",
      "\n",
      "573732551\n",
      "\n",
      "41\n",
      "PRE:  sarah kate silverman (born december 1, 1970) is an american comedienne , writer, and actress.\n",
      "POST:  sarah kate silverman (born december 1, 1970) is an american comedian , writer, and actress.\n",
      "\n",
      "-------------------------------\n",
      "\n",
      "53049468\n",
      "\n",
      "17\n",
      "PRE:  harper was opposed because first nations were ignored in the accord's process.\n",
      "POST:  harper was opposed because he did not believe first nations had been adequately involved in the accord's process.\n",
      "\n",
      "-------------------------------\n",
      "\n",
      "702382217\n",
      "\n",
      "19\n",
      "PRE:  eliezer ben-yehuda while working on his dictionary.\n",
      "POST:  eliezer ben-yehuda while working on the hebrew dictionary.\n",
      "\n",
      "-------------------------------\n",
      "\n",
      "19909298\n",
      "\n",
      "14\n",
      "PRE:  since they were not ba'athist, and had as much right to the houses as the coalition authorities to the vacated houses , they were not evicted .\n",
      "POST:  they felt that since they were not ba'athist, they had as much right to the houses as the coalition authorities to the vacated houses.\n",
      "\n",
      "-------------------------------\n",
      "\n",
      "83021540\n",
      "\n",
      "31\n",
      "PRE:  hasbro , unsurprisingly, are creating a toyline, and paramount have set up a competition for a fan to write a line of dialogue for optimus prime on the official website.\n",
      "POST:  hasbro is creating a toyline, and paramount have set up a competition for a fan to write a line of dialogue for optimus prime on the official website.\n",
      "\n",
      "-------------------------------\n",
      "\n"
     ]
    }
   ],
   "source": [
    "test = wnc_datasets_short[\"train\"].shuffle(seed=45).select(range(50))\n",
    "inspect_df(test.to_pandas())"
   ]
  },
  {
   "cell_type": "code",
   "execution_count": null,
   "id": "9a7bce30-ae62-44e5-96f2-52602cf3b2fa",
   "metadata": {},
   "outputs": [],
   "source": []
  }
 ],
 "metadata": {
  "kernelspec": {
   "display_name": "Python 3",
   "language": "python",
   "name": "python3"
  },
  "language_info": {
   "codemirror_mode": {
    "name": "ipython",
    "version": 3
   },
   "file_extension": ".py",
   "mimetype": "text/x-python",
   "name": "python",
   "nbconvert_exporter": "python",
   "pygments_lexer": "ipython3",
   "version": "3.9.7"
  }
 },
 "nbformat": 4,
 "nbformat_minor": 5
}
