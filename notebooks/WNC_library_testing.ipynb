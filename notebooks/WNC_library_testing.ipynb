{
 "cells": [
  {
   "cell_type": "markdown",
   "metadata": {},
   "source": [
    "# WNC Library Functionality Testing"
   ]
  },
  {
   "cell_type": "code",
   "execution_count": 1,
   "metadata": {},
   "outputs": [],
   "source": [
    "%load_ext lab_black\n",
    "%load_ext autoreload\n",
    "%autoreload 2"
   ]
  },
  {
   "cell_type": "code",
   "execution_count": 2,
   "metadata": {},
   "outputs": [],
   "source": [
    "examples = [\n",
    "    \"Sir Alex Ferguson is the greatest football manager of all time.\",\n",
    "    \"Sir Alex Ferguson is a great football manager.\",\n",
    "    \"Sir Alex Ferguson is a football manager.\",\n",
    "    \"the news-press was sold by the new york times company in 2000, and is now independently owned by wendy p. mccaw, a local resident and a biased and eerily thick-headed woman .\",\n",
    "    \"it also marked the last season in quarteback 's brett favre illustrious career as a packer .\",\n",
    "]"
   ]
  },
  {
   "cell_type": "markdown",
   "metadata": {
    "tags": []
   },
   "source": [
    "## `SubjectivityNeutralizer` Testing"
   ]
  },
  {
   "cell_type": "code",
   "execution_count": 3,
   "metadata": {},
   "outputs": [],
   "source": [
    "from src.inference import SubjectivityNeutralizer"
   ]
  },
  {
   "cell_type": "code",
   "execution_count": 4,
   "metadata": {},
   "outputs": [],
   "source": [
    "MODEL_PATH = \"/home/cdsw/models/bart-tst-full\"\n",
    "sn = SubjectivityNeutralizer(model_identifier=MODEL_PATH)"
   ]
  },
  {
   "cell_type": "code",
   "execution_count": 5,
   "metadata": {},
   "outputs": [
    {
     "data": {
      "text/plain": [
       "['Sir Alex Ferguson is one of the greatest football managers of all time.',\n",
       " 'Sir Alex Ferguson is a football manager.',\n",
       " 'Sir Alex Ferguson is a football manager.',\n",
       " 'the news-press was sold by the new york times company in 2000, and is now independently owned by wendy p. mccaw, a local resident.',\n",
       " \"it also marked the last season in quarteback 's career.\"]"
      ]
     },
     "execution_count": 5,
     "metadata": {},
     "output_type": "execute_result"
    }
   ],
   "source": [
    "sn.transfer(examples)"
   ]
  },
  {
   "cell_type": "code",
   "execution_count": 6,
   "metadata": {},
   "outputs": [],
   "source": [
    "tests = [\n",
    "    \"Sir Alex Ferguson is the greatest football manager of all time.\",\n",
    "    \"Sir Alex Ferguson is considered by some to be the greatest football manager of all time.\",\n",
    "    \"Sir Alex Ferguson is one of the greatest football managers of all time.\",\n",
    "    \"Sir Alex Ferguson is widely regarded as one of the greatest football managers of all time\",\n",
    "]"
   ]
  },
  {
   "cell_type": "markdown",
   "metadata": {},
   "source": [
    "## `StyleIntensityClassifier` Testing"
   ]
  },
  {
   "cell_type": "code",
   "execution_count": 7,
   "metadata": {},
   "outputs": [],
   "source": [
    "from src.inference import StyleIntensityClassifier"
   ]
  },
  {
   "cell_type": "code",
   "execution_count": 8,
   "metadata": {},
   "outputs": [],
   "source": [
    "MODEL_PATH = \"../models/bert-cls-full3/checkpoint-96000\"\n",
    "sc = StyleIntensityClassifier(model_identifier=MODEL_PATH)"
   ]
  },
  {
   "cell_type": "code",
   "execution_count": 9,
   "metadata": {},
   "outputs": [
    {
     "data": {
      "text/plain": [
       "['Sir Alex Ferguson is the greatest football manager of all time.',\n",
       " 'Sir Alex Ferguson is considered by some to be the greatest football manager of all time.',\n",
       " 'Sir Alex Ferguson is one of the greatest football managers of all time.',\n",
       " 'Sir Alex Ferguson is widely regarded as one of the greatest football managers of all time']"
      ]
     },
     "execution_count": 9,
     "metadata": {},
     "output_type": "execute_result"
    }
   ],
   "source": [
    "tests"
   ]
  },
  {
   "cell_type": "code",
   "execution_count": 10,
   "metadata": {},
   "outputs": [
    {
     "data": {
      "text/plain": [
       "[{'label': 'LABEL_0',\n",
       "  'score': 0.9861143827438354,\n",
       "  'distribution': [0.9861143827438354, 0.013885647989809513]},\n",
       " {'label': 'LABEL_1',\n",
       "  'score': 0.833655059337616,\n",
       "  'distribution': [0.16634498536586761, 0.833655059337616]},\n",
       " {'label': 'LABEL_0',\n",
       "  'score': 0.9462658762931824,\n",
       "  'distribution': [0.9462658762931824, 0.05373416841030121]},\n",
       " {'label': 'LABEL_1',\n",
       "  'score': 0.8195207118988037,\n",
       "  'distribution': [0.18047933280467987, 0.8195207118988037]}]"
      ]
     },
     "execution_count": 10,
     "metadata": {},
     "output_type": "execute_result"
    }
   ],
   "source": [
    "sc.score(tests)"
   ]
  },
  {
   "cell_type": "code",
   "execution_count": null,
   "metadata": {},
   "outputs": [],
   "source": []
  },
  {
   "cell_type": "code",
   "execution_count": 11,
   "metadata": {},
   "outputs": [
    {
     "data": {
      "text/plain": [
       "[{'label': 'LABEL_0',\n",
       "  'score': 0.9861143827438354,\n",
       "  'distribution': [0.9861143827438354, 0.013885647989809513]},\n",
       " {'label': 'LABEL_0',\n",
       "  'score': 0.9860873818397522,\n",
       "  'distribution': [0.9860873818397522, 0.013912606984376907]},\n",
       " {'label': 'LABEL_1',\n",
       "  'score': 0.9913819432258606,\n",
       "  'distribution': [0.008618118241429329, 0.9913819432258606]},\n",
       " {'label': 'LABEL_0',\n",
       "  'score': 0.9853444695472717,\n",
       "  'distribution': [0.9853444695472717, 0.014655554667115211]},\n",
       " {'label': 'LABEL_0',\n",
       "  'score': 0.9856260418891907,\n",
       "  'distribution': [0.9856260418891907, 0.014373908750712872]}]"
      ]
     },
     "execution_count": 11,
     "metadata": {},
     "output_type": "execute_result"
    }
   ],
   "source": [
    "sc.score(examples)"
   ]
  },
  {
   "cell_type": "markdown",
   "metadata": {},
   "source": [
    "### Calculate Style Transfer Intensity"
   ]
  },
  {
   "cell_type": "code",
   "execution_count": 12,
   "metadata": {},
   "outputs": [
    {
     "data": {
      "text/plain": [
       "{'input_text': ['Sir Alex Ferguson is the greatest football manager of all time.',\n",
       "  'Sir Alex Ferguson is a great football manager.'],\n",
       " 'output_text': ['Sir Alex Ferguson is one of the greatest football managers of all time.',\n",
       "  'Sir Alex Ferguson is a football manager.']}"
      ]
     },
     "execution_count": 12,
     "metadata": {},
     "output_type": "execute_result"
    }
   ],
   "source": [
    "# transfer style from examples\n",
    "input_text = examples[:2]\n",
    "output_text = sn.transfer(examples[:2])\n",
    "\n",
    "text_pairs = {\"input_text\": input_text, \"output_text\": output_text}\n",
    "text_pairs"
   ]
  },
  {
   "cell_type": "code",
   "execution_count": 13,
   "metadata": {},
   "outputs": [
    {
     "data": {
      "text/plain": [
       "[0.0398, 0.9775]"
      ]
     },
     "execution_count": 13,
     "metadata": {},
     "output_type": "execute_result"
    }
   ],
   "source": [
    "sc.calculate_transfer_intensity(**text_pairs)"
   ]
  },
  {
   "cell_type": "code",
   "execution_count": null,
   "metadata": {},
   "outputs": [],
   "source": []
  },
  {
   "cell_type": "code",
   "execution_count": null,
   "metadata": {},
   "outputs": [],
   "source": []
  }
 ],
 "metadata": {
  "interpreter": {
   "hash": "aee8b7b246df8f9039afb4144a1f6fd8d2ca17a180786b69acc140d282b71a49"
  },
  "kernelspec": {
   "display_name": "Python 3",
   "language": "python",
   "name": "python3"
  },
  "language_info": {
   "codemirror_mode": {
    "name": "ipython",
    "version": 3
   },
   "file_extension": ".py",
   "mimetype": "text/x-python",
   "name": "python",
   "nbconvert_exporter": "python",
   "pygments_lexer": "ipython3",
   "version": "3.9.7"
  }
 },
 "nbformat": 4,
 "nbformat_minor": 4
}
