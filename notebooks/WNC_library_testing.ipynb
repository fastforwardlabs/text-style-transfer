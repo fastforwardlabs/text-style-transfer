{
 "cells": [
  {
   "cell_type": "markdown",
   "metadata": {},
   "source": [
    "# WNC Library Functionality Testing"
   ]
  },
  {
   "cell_type": "code",
   "execution_count": 4,
   "metadata": {},
   "outputs": [
    {
     "name": "stdout",
     "output_type": "stream",
     "text": [
      "The autoreload extension is already loaded. To reload it, use:\n",
      "  %reload_ext autoreload\n"
     ]
    }
   ],
   "source": [
    "%load_ext lab_black\n",
    "%load_ext autoreload\n",
    "%autoreload 2"
   ]
  },
  {
   "cell_type": "code",
   "execution_count": 19,
   "metadata": {},
   "outputs": [],
   "source": [
    "examples = [\n",
    "    \"Sir Alex Ferguson is the greatest football manager of all time.\",\n",
    "    \"Sir Alex Ferguson is a great football manager.\",\n",
    "    \"Sir Alex Ferguson is a football manager.\",\n",
    "    \"the news-press was sold by the new york times company in 2000, and is now independently owned by wendy p. mccaw, a local resident and a biased and eerily thick-headed woman .\",\n",
    "    \"it also marked the last season in quarteback 's brett favre illustrious career as a packer .\",\n",
    "]"
   ]
  },
  {
   "cell_type": "markdown",
   "metadata": {
    "tags": []
   },
   "source": [
    "## `SubjectivityNeutralizer` Testing"
   ]
  },
  {
   "cell_type": "code",
   "execution_count": 20,
   "metadata": {},
   "outputs": [],
   "source": [
    "from src.inference import SubjectivityNeutralizer"
   ]
  },
  {
   "cell_type": "code",
   "execution_count": 62,
   "metadata": {},
   "outputs": [],
   "source": [
    "MODEL_PATH = \"/home/cdsw/models/bart-tst-full\"\n",
    "sn = SubjectivityNeutralizer(model_identifier=MODEL_PATH)"
   ]
  },
  {
   "cell_type": "code",
   "execution_count": 63,
   "metadata": {},
   "outputs": [
    {
     "data": {
      "text/plain": [
       "['Sir Alex Ferguson is the greatest football manager of all time.',\n",
       " 'Sir Alex Ferguson is a great football manager.',\n",
       " 'Sir Alex Ferguson is a football manager.',\n",
       " 'the news-press was sold by the new york times company in 2000, and is now independently owned by wendy p. mccaw, a local resident and a biased and eerily thick-headed woman .',\n",
       " \"it also marked the last season in quarteback 's brett favre illustrious career as a packer .\"]"
      ]
     },
     "execution_count": 63,
     "metadata": {},
     "output_type": "execute_result"
    }
   ],
   "source": [
    "examples"
   ]
  },
  {
   "cell_type": "code",
   "execution_count": 64,
   "metadata": {},
   "outputs": [
    {
     "data": {
      "text/plain": [
       "['Sir Alex Ferguson is one of the greatest football managers of all time.',\n",
       " 'Sir Alex Ferguson is a football manager.',\n",
       " 'Sir Alex Ferguson is a football manager.',\n",
       " 'the news-press was sold by the new york times company in 2000, and is now independently owned by wendy p. mccaw, a local resident.',\n",
       " \"it also marked the last season in quarteback 's career.\"]"
      ]
     },
     "execution_count": 64,
     "metadata": {},
     "output_type": "execute_result"
    }
   ],
   "source": [
    "sn.transfer(examples)"
   ]
  },
  {
   "cell_type": "markdown",
   "metadata": {},
   "source": [
    "## `StyleIntensityClassifier` Testing"
   ]
  },
  {
   "cell_type": "code",
   "execution_count": 23,
   "metadata": {},
   "outputs": [],
   "source": [
    "from src.inference import StyleIntensityClassifier"
   ]
  },
  {
   "cell_type": "code",
   "execution_count": 24,
   "metadata": {},
   "outputs": [],
   "source": [
    "MODEL_PATH = \"../models/bert-cls-full3/checkpoint-96000\"\n",
    "sc = StyleIntensityClassifier(model_identifier=MODEL_PATH)"
   ]
  },
  {
   "cell_type": "code",
   "execution_count": 25,
   "metadata": {},
   "outputs": [
    {
     "data": {
      "text/plain": [
       "[{'label': 'LABEL_0',\n",
       "  'score': 0.9861143827438354,\n",
       "  'distribution': [0.9861143827438354, 0.013885647989809513]},\n",
       " {'label': 'LABEL_0',\n",
       "  'score': 0.9860873818397522,\n",
       "  'distribution': [0.9860873818397522, 0.013912606984376907]},\n",
       " {'label': 'LABEL_1',\n",
       "  'score': 0.9913819432258606,\n",
       "  'distribution': [0.008618118241429329, 0.9913819432258606]},\n",
       " {'label': 'LABEL_0',\n",
       "  'score': 0.9853444695472717,\n",
       "  'distribution': [0.9853444695472717, 0.014655554667115211]},\n",
       " {'label': 'LABEL_0',\n",
       "  'score': 0.9856260418891907,\n",
       "  'distribution': [0.9856260418891907, 0.014373908750712872]}]"
      ]
     },
     "execution_count": 25,
     "metadata": {},
     "output_type": "execute_result"
    }
   ],
   "source": [
    "sc.score(examples)"
   ]
  },
  {
   "cell_type": "markdown",
   "metadata": {},
   "source": [
    "### Calculate Style Transfer Intensity"
   ]
  },
  {
   "cell_type": "code",
   "execution_count": 180,
   "metadata": {},
   "outputs": [
    {
     "data": {
      "text/plain": [
       "{'input_text': ['Sir Alex Ferguson is the greatest football manager of all time.',\n",
       "  'Sir Alex Ferguson is a great football manager.'],\n",
       " 'output_text': ['Sir Alex Ferguson is one of the greatest football managers of all time.',\n",
       "  'Sir Alex Ferguson is a football manager.']}"
      ]
     },
     "execution_count": 180,
     "metadata": {},
     "output_type": "execute_result"
    }
   ],
   "source": [
    "# transfer style from examples\n",
    "input_text = examples[:2]\n",
    "output_text = sn.transfer(examples[:2])\n",
    "\n",
    "text_pairs = {\"input_text\": input_text, \"output_text\": output_text}\n",
    "text_pairs"
   ]
  },
  {
   "cell_type": "code",
   "execution_count": 182,
   "metadata": {},
   "outputs": [
    {
     "name": "stderr",
     "output_type": "stream",
     "text": [
      "/home/cdsw/.local/lib/python3.9/site-packages/transformers/pipelines/base.py:997: UserWarning: You seem to be using the pipelines sequentially on GPU. In order to maximize efficiency please use a dataset\n",
      "  warnings.warn(\n"
     ]
    },
    {
     "data": {
      "text/plain": [
       "[0.0398, 0.9775]"
      ]
     },
     "execution_count": 182,
     "metadata": {},
     "output_type": "execute_result"
    }
   ],
   "source": [
    "sc.calculate_transfer_intensity(**text_pairs)"
   ]
  },
  {
   "cell_type": "code",
   "execution_count": null,
   "metadata": {},
   "outputs": [],
   "source": []
  },
  {
   "cell_type": "code",
   "execution_count": null,
   "metadata": {},
   "outputs": [],
   "source": []
  },
  {
   "cell_type": "code",
   "execution_count": null,
   "metadata": {},
   "outputs": [],
   "source": []
  },
  {
   "cell_type": "code",
   "execution_count": null,
   "metadata": {},
   "outputs": [],
   "source": []
  },
  {
   "cell_type": "markdown",
   "metadata": {},
   "source": [
    "#### Build Intensity Metric"
   ]
  },
  {
   "cell_type": "code",
   "execution_count": null,
   "metadata": {},
   "outputs": [],
   "source": []
  },
  {
   "cell_type": "code",
   "execution_count": 73,
   "metadata": {},
   "outputs": [],
   "source": [
    "input_text = examples[:2]\n",
    "output_text = sn.transfer(examples[:2])"
   ]
  },
  {
   "cell_type": "code",
   "execution_count": 76,
   "metadata": {},
   "outputs": [
    {
     "data": {
      "text/plain": [
       "['Sir Alex Ferguson is the greatest football manager of all time.',\n",
       " 'Sir Alex Ferguson is a great football manager.']"
      ]
     },
     "execution_count": 76,
     "metadata": {},
     "output_type": "execute_result"
    }
   ],
   "source": [
    "input_text"
   ]
  },
  {
   "cell_type": "code",
   "execution_count": 77,
   "metadata": {},
   "outputs": [
    {
     "data": {
      "text/plain": [
       "['Sir Alex Ferguson is one of the greatest football managers of all time.',\n",
       " 'Sir Alex Ferguson is a football manager.']"
      ]
     },
     "execution_count": 77,
     "metadata": {},
     "output_type": "execute_result"
    }
   ],
   "source": [
    "output_text"
   ]
  },
  {
   "cell_type": "code",
   "execution_count": 85,
   "metadata": {},
   "outputs": [],
   "source": [
    "text_pairs = {\"input_text\": input_text, \"output_text\": output_text}"
   ]
  },
  {
   "cell_type": "code",
   "execution_count": 176,
   "metadata": {},
   "outputs": [],
   "source": [
    "from typing import List\n",
    "\n",
    "\n",
    "def calculate_transfer_intensity(\n",
    "    input_text: List[str], output_text: List[str], target_class_idx: int = 1\n",
    "):\n",
    "    \"\"\"\n",
    "\n",
    "    Args:\n",
    "        input_text (list) - list of input texts with indicies corresponding\n",
    "            to counterpart in output_text\n",
    "        ouptput_text (list) - list of output texts with indicies corresponding\n",
    "            to counterpart in input_text\n",
    "\n",
    "    \"\"\"\n",
    "\n",
    "    if len(input_text) != len(output_text):\n",
    "        raise ValueError(\n",
    "            \"input_text and output_text must be of same length with corresponding items\"\n",
    "        )\n",
    "\n",
    "    input_dist = [item[\"distribution\"] for item in sc.score(input_text)]\n",
    "    output_dist = [item[\"distribution\"] for item in sc.score(output_text)]\n",
    "\n",
    "    return [\n",
    "        calculate_emd(input_dist[i], output_dist[i], target_class_idx)\n",
    "        for i in range(len(input_dist))\n",
    "    ]"
   ]
  },
  {
   "cell_type": "code",
   "execution_count": 177,
   "metadata": {},
   "outputs": [
    {
     "data": {
      "text/plain": [
       "[0.0398, 0.9775]"
      ]
     },
     "execution_count": 177,
     "metadata": {},
     "output_type": "execute_result"
    }
   ],
   "source": [
    "calculate_transfer_intensity(**text_pairs)"
   ]
  },
  {
   "cell_type": "code",
   "execution_count": 133,
   "metadata": {},
   "outputs": [
    {
     "data": {
      "text/plain": [
       "'Sir Alex Ferguson is a great football manager.'"
      ]
     },
     "execution_count": 133,
     "metadata": {},
     "output_type": "execute_result"
    }
   ],
   "source": [
    "input_text[1]"
   ]
  },
  {
   "cell_type": "code",
   "execution_count": 134,
   "metadata": {},
   "outputs": [
    {
     "data": {
      "text/plain": [
       "'Sir Alex Ferguson is a football manager.'"
      ]
     },
     "execution_count": 134,
     "metadata": {},
     "output_type": "execute_result"
    }
   ],
   "source": [
    "output_text[1]"
   ]
  },
  {
   "cell_type": "code",
   "execution_count": 146,
   "metadata": {},
   "outputs": [],
   "source": [
    "input_dist = sc.score(input_text[1])[0][\"distribution\"]"
   ]
  },
  {
   "cell_type": "code",
   "execution_count": 147,
   "metadata": {},
   "outputs": [],
   "source": [
    "output_dist = sc.score(output_text[1])[0][\"distribution\"]"
   ]
  },
  {
   "cell_type": "code",
   "execution_count": 148,
   "metadata": {},
   "outputs": [
    {
     "data": {
      "text/plain": [
       "[0.9860873818397522, 0.013912606984376907]"
      ]
     },
     "execution_count": 148,
     "metadata": {},
     "output_type": "execute_result"
    }
   ],
   "source": [
    "input_dist"
   ]
  },
  {
   "cell_type": "code",
   "execution_count": 150,
   "metadata": {},
   "outputs": [
    {
     "data": {
      "text/plain": [
       "[0.008618118241429329, 0.9913819432258606]"
      ]
     },
     "execution_count": 150,
     "metadata": {},
     "output_type": "execute_result"
    }
   ],
   "source": [
    "output_dist"
   ]
  },
  {
   "cell_type": "code",
   "execution_count": 163,
   "metadata": {},
   "outputs": [
    {
     "data": {
      "text/plain": [
       "0.0053"
      ]
     },
     "execution_count": 163,
     "metadata": {},
     "output_type": "execute_result"
    }
   ],
   "source": [
    "calculate_emd(input_dist * 100, output_dist * 100, 1)"
   ]
  },
  {
   "cell_type": "code",
   "execution_count": 162,
   "metadata": {},
   "outputs": [
    {
     "data": {
      "text/plain": [
       "-0.0053"
      ]
     },
     "execution_count": 162,
     "metadata": {},
     "output_type": "execute_result"
    }
   ],
   "source": [
    "calculate_emd(output_dist, input_dist, 1)"
   ]
  },
  {
   "cell_type": "code",
   "execution_count": null,
   "metadata": {},
   "outputs": [],
   "source": []
  },
  {
   "cell_type": "code",
   "execution_count": 158,
   "metadata": {},
   "outputs": [],
   "source": [
    "from pyemd import emd, emd_samples"
   ]
  },
  {
   "cell_type": "code",
   "execution_count": 160,
   "metadata": {},
   "outputs": [
    {
     "data": {
      "text/plain": [
       "0.0"
      ]
     },
     "execution_count": 160,
     "metadata": {},
     "output_type": "execute_result"
    }
   ],
   "source": [
    "emd_samples(input_dist, output_dist)"
   ]
  },
  {
   "cell_type": "code",
   "execution_count": 161,
   "metadata": {},
   "outputs": [
    {
     "data": {
      "text/plain": [
       "([0.9860873818397522, 0.013912606984376907],\n",
       " [0.008618118241429329, 0.9913819432258606])"
      ]
     },
     "execution_count": 161,
     "metadata": {},
     "output_type": "execute_result"
    }
   ],
   "source": [
    "input_dist, output_dist"
   ]
  },
  {
   "cell_type": "code",
   "execution_count": null,
   "metadata": {},
   "outputs": [],
   "source": []
  },
  {
   "cell_type": "code",
   "execution_count": 155,
   "metadata": {},
   "outputs": [],
   "source": [
    "N = len(input_dist)\n",
    "distance_matrix = np.ones((N, N))\n",
    "emd(np.array(input_dist), np.array(output_dist), distance_matrix)"
   ]
  },
  {
   "cell_type": "code",
   "execution_count": 157,
   "metadata": {},
   "outputs": [
    {
     "data": {
      "text/plain": [
       "0.9774691327255313"
      ]
     },
     "execution_count": 157,
     "metadata": {},
     "output_type": "execute_result"
    }
   ],
   "source": [
    "emd(np.array(input_dist), np.array(output_dist), distance_matrix)"
   ]
  },
  {
   "cell_type": "code",
   "execution_count": null,
   "metadata": {},
   "outputs": [],
   "source": []
  },
  {
   "cell_type": "code",
   "execution_count": null,
   "metadata": {},
   "outputs": [],
   "source": []
  },
  {
   "cell_type": "code",
   "execution_count": null,
   "metadata": {},
   "outputs": [],
   "source": []
  },
  {
   "cell_type": "code",
   "execution_count": 151,
   "metadata": {},
   "outputs": [
    {
     "data": {
      "text/plain": [
       "0.0052945250645279884"
      ]
     },
     "execution_count": 151,
     "metadata": {},
     "output_type": "execute_result"
    }
   ],
   "source": [
    "wasserstein_distance(input_dist, output_dist)"
   ]
  },
  {
   "cell_type": "code",
   "execution_count": 170,
   "metadata": {},
   "outputs": [],
   "source": [
    "from scipy.stats import wasserstein_distance\n",
    "from pyemd import emd\n",
    "\n",
    "\n",
    "def calculate_emd(input_dist, output_dist, target_class_idx):\n",
    "    \"\"\"\n",
    "    Calculate the direction-corrected Earth Mover's Distance (aka Wasserstein distance)\n",
    "    between two distributions of equal length. Here we penalize the EMD score if\n",
    "    the output text style moved further away from the target style.\n",
    "\n",
    "    Ref: https://github.com/passeul/style-transfer-model-evaluation/blob/master/code/style_transfer_intensity.py\n",
    "\n",
    "    Args:\n",
    "        input_dist (list) - probabilities assigned to the style classes\n",
    "            from the input text to style transfer model\n",
    "        output_dist (list) - probabilities assigned to the style classes\n",
    "            from the outut text of the style transfer model\n",
    "\n",
    "    Returns:\n",
    "        emd (float) - Earth Movers Distance between the two distributions\n",
    "\n",
    "    \"\"\"\n",
    "\n",
    "    N = len(input_dist)\n",
    "    distance_matrix = np.ones((N, N))\n",
    "    dist = emd(np.array(input_dist), np.array(output_dist), distance_matrix)\n",
    "\n",
    "    transfer_direction_correction = (\n",
    "        1 if output_dist[target_class_idx] >= input_dist[target_class_idx] else -1\n",
    "    )\n",
    "\n",
    "    return round(dist * transfer_direction_correction, 4)"
   ]
  },
  {
   "cell_type": "code",
   "execution_count": 168,
   "metadata": {},
   "outputs": [
    {
     "data": {
      "text/plain": [
       "0.0052945250645279884"
      ]
     },
     "execution_count": 168,
     "metadata": {},
     "output_type": "execute_result"
    }
   ],
   "source": [
    "wasserstein_distance(input_dist, output_dist)"
   ]
  },
  {
   "cell_type": "code",
   "execution_count": 169,
   "metadata": {},
   "outputs": [
    {
     "data": {
      "text/plain": [
       "0.9775"
      ]
     },
     "execution_count": 169,
     "metadata": {},
     "output_type": "execute_result"
    }
   ],
   "source": [
    "calculate_emd(input_dist, output_dist, target_class_idx=1)"
   ]
  },
  {
   "cell_type": "code",
   "execution_count": null,
   "metadata": {},
   "outputs": [],
   "source": []
  }
 ],
 "metadata": {
  "interpreter": {
   "hash": "aee8b7b246df8f9039afb4144a1f6fd8d2ca17a180786b69acc140d282b71a49"
  },
  "kernelspec": {
   "display_name": "Python 3",
   "language": "python",
   "name": "python3"
  },
  "language_info": {
   "codemirror_mode": {
    "name": "ipython",
    "version": 3
   },
   "file_extension": ".py",
   "mimetype": "text/x-python",
   "name": "python",
   "nbconvert_exporter": "python",
   "pygments_lexer": "ipython3",
   "version": "3.9.7"
  }
 },
 "nbformat": 4,
 "nbformat_minor": 4
}
