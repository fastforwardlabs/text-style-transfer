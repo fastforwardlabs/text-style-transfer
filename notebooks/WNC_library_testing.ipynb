{
 "cells": [
  {
   "cell_type": "markdown",
   "metadata": {},
   "source": [
    "# WNC Library Functionality Testing"
   ]
  },
  {
   "cell_type": "code",
   "execution_count": 1,
   "metadata": {},
   "outputs": [],
   "source": [
    "%load_ext lab_black\n",
    "%load_ext autoreload\n",
    "%autoreload 2"
   ]
  },
  {
   "cell_type": "code",
   "execution_count": 2,
   "metadata": {},
   "outputs": [],
   "source": [
    "examples = [\n",
    "    \"Sir Alex Ferguson is the greatest football manager of all time.\",\n",
    "    \"Sir Alex Ferguson is a great football manager.\",\n",
    "    \"Sir Alex Ferguson is a football manager.\",\n",
    "    \"the news-press was sold by the new york times company in 2000, and is now independently owned by wendy p. mccaw, a local resident and a biased and eerily thick-headed woman .\",\n",
    "    \"it also marked the last season in quarteback 's brett favre illustrious career as a packer .\",\n",
    "]\n",
    "\n",
    "\n",
    "tests = [\n",
    "    \"Sir Alex Ferguson is the greatest football manager of all time.\",\n",
    "    \"Sir Alex Ferguson is considered by some to be the greatest football manager of all time.\",\n",
    "    \"Sir Alex Ferguson is one of the greatest football managers of all time.\",\n",
    "    \"Sir Alex Ferguson is widely regarded as one of the greatest football managers of all time\",\n",
    "]"
   ]
  },
  {
   "cell_type": "markdown",
   "metadata": {
    "tags": []
   },
   "source": [
    "## `SubjectivityNeutralizer` Testing"
   ]
  },
  {
   "cell_type": "code",
   "execution_count": 3,
   "metadata": {},
   "outputs": [],
   "source": [
    "from src.inference import SubjectivityNeutralizer\n",
    "\n",
    "MODEL_PATH = \"/home/cdsw/models/bart-tst-full\"\n",
    "sn = SubjectivityNeutralizer(model_identifier=MODEL_PATH)"
   ]
  },
  {
   "cell_type": "code",
   "execution_count": 4,
   "metadata": {},
   "outputs": [
    {
     "data": {
      "text/plain": [
       "['Sir Alex Ferguson is one of the greatest football managers of all time.',\n",
       " 'Sir Alex Ferguson is a football manager.',\n",
       " 'Sir Alex Ferguson is a football manager.',\n",
       " 'the news-press was sold by the new york times company in 2000, and is now independently owned by wendy p. mccaw, a local resident.',\n",
       " \"it also marked the last season in quarteback 's career.\"]"
      ]
     },
     "execution_count": 4,
     "metadata": {},
     "output_type": "execute_result"
    }
   ],
   "source": [
    "sn.transfer(examples)"
   ]
  },
  {
   "cell_type": "markdown",
   "metadata": {},
   "source": [
    "## `StyleIntensityClassifier` Testing"
   ]
  },
  {
   "cell_type": "code",
   "execution_count": 5,
   "metadata": {},
   "outputs": [],
   "source": [
    "from src.inference import StyleIntensityClassifier\n",
    "\n",
    "MODEL_PATH = \"../models/TRIAL-J-shuffle-lr_3en06-epoch_15-wd_.1-bs_32/checkpoint-67466\"\n",
    "sc = StyleIntensityClassifier(model_identifier=MODEL_PATH)"
   ]
  },
  {
   "cell_type": "code",
   "execution_count": 6,
   "metadata": {},
   "outputs": [
    {
     "data": {
      "text/plain": [
       "[{'label': 'LABEL_0',\n",
       "  'score': 0.993498682975769,\n",
       "  'distribution': [0.993498682975769, 0.006501343566924334]},\n",
       " {'label': 'LABEL_1',\n",
       "  'score': 0.748929500579834,\n",
       "  'distribution': [0.25107046961784363, 0.748929500579834]},\n",
       " {'label': 'LABEL_0',\n",
       "  'score': 0.8673079609870911,\n",
       "  'distribution': [0.8673079609870911, 0.13269200921058655]},\n",
       " {'label': 'LABEL_1',\n",
       "  'score': 0.589175283908844,\n",
       "  'distribution': [0.4108246862888336, 0.589175283908844]}]"
      ]
     },
     "execution_count": 6,
     "metadata": {},
     "output_type": "execute_result"
    }
   ],
   "source": [
    "sc.score(tests)"
   ]
  },
  {
   "cell_type": "code",
   "execution_count": 7,
   "metadata": {},
   "outputs": [
    {
     "data": {
      "text/plain": [
       "[{'label': 'LABEL_0',\n",
       "  'score': 0.993498682975769,\n",
       "  'distribution': [0.993498682975769, 0.006501343566924334]},\n",
       " {'label': 'LABEL_0',\n",
       "  'score': 0.9942171573638916,\n",
       "  'distribution': [0.9942171573638916, 0.005782798398286104]},\n",
       " {'label': 'LABEL_1',\n",
       "  'score': 0.995918333530426,\n",
       "  'distribution': [0.004081716760993004, 0.995918333530426]},\n",
       " {'label': 'LABEL_0',\n",
       "  'score': 0.9957911968231201,\n",
       "  'distribution': [0.9957911968231201, 0.004208787810057402]},\n",
       " {'label': 'LABEL_0',\n",
       "  'score': 0.9760012626647949,\n",
       "  'distribution': [0.9760012626647949, 0.02399877831339836]}]"
      ]
     },
     "execution_count": 7,
     "metadata": {},
     "output_type": "execute_result"
    }
   ],
   "source": [
    "sc.score(examples)"
   ]
  },
  {
   "cell_type": "markdown",
   "metadata": {},
   "source": [
    "### Calculate Style Transfer Intensity"
   ]
  },
  {
   "cell_type": "code",
   "execution_count": 8,
   "metadata": {},
   "outputs": [
    {
     "data": {
      "text/plain": [
       "{'input_text': ['Sir Alex Ferguson is the greatest football manager of all time.',\n",
       "  'Sir Alex Ferguson is a great football manager.'],\n",
       " 'output_text': ['Sir Alex Ferguson is one of the greatest football managers of all time.',\n",
       "  'Sir Alex Ferguson is a football manager.']}"
      ]
     },
     "execution_count": 8,
     "metadata": {},
     "output_type": "execute_result"
    }
   ],
   "source": [
    "# transfer style from examples\n",
    "input_text = examples[:2]\n",
    "output_text = sn.transfer(examples[:2])\n",
    "\n",
    "text_pairs = {\"input_text\": input_text, \"output_text\": output_text}\n",
    "text_pairs"
   ]
  },
  {
   "cell_type": "code",
   "execution_count": 9,
   "metadata": {},
   "outputs": [
    {
     "data": {
      "text/plain": [
       "[0.1262, 0.9901]"
      ]
     },
     "execution_count": 9,
     "metadata": {},
     "output_type": "execute_result"
    }
   ],
   "source": [
    "sc.calculate_transfer_intensity(**text_pairs)"
   ]
  },
  {
   "cell_type": "markdown",
   "metadata": {},
   "source": [
    "## `ContentPreservationScorer` Testing\n",
    "\n",
    "TO-DO: show detailed walkthrough of how the main scoring method actually works by stepping through intermediate steps with an example. Do this also for the others as a final usage notebook."
   ]
  },
  {
   "cell_type": "code",
   "execution_count": 10,
   "metadata": {},
   "outputs": [],
   "source": [
    "from src.inference import ContentPreservationScorer\n",
    "\n",
    "SBERT_MODEL_PATH = \"sentence-transformers/all-MiniLM-L6-v2\"\n",
    "CLS_MODEL_PATH = (\n",
    "    \"../models/TRIAL-J-shuffle-lr_3en06-epoch_15-wd_.1-bs_32/checkpoint-67466\"\n",
    ")\n",
    "cps = ContentPreservationScorer(\n",
    "    sbert_model_identifier=SBERT_MODEL_PATH, cls_model_identifier=CLS_MODEL_PATH\n",
    ")"
   ]
  },
  {
   "cell_type": "code",
   "execution_count": 11,
   "metadata": {},
   "outputs": [
    {
     "data": {
      "text/plain": [
       "{'scores': [0.9571159482002258, 0.9961498975753784],\n",
       " 'masked_input_text': ['sir alex ferguson [PAD] the greatest [PAD] manager of all time.',\n",
       "  'sir alex ferguson is a [PAD] football manager.'],\n",
       " 'masked_output_text': ['sir alex ferguson is [PAD] of the greatest football managers of all time.',\n",
       "  'sir alex ferguson is [PAD] football manager.']}"
      ]
     },
     "execution_count": 11,
     "metadata": {},
     "output_type": "execute_result"
    }
   ],
   "source": [
    "cps.calculate_content_preservation_score(\n",
    "    **text_pairs, threshold=0.3, mask_type=\"pad\", return_all=True\n",
    ")"
   ]
  },
  {
   "cell_type": "code",
   "execution_count": 13,
   "metadata": {},
   "outputs": [
    {
     "data": {
      "text/plain": [
       "{'scores': [0.9852172136306763, 0.9445622563362122],\n",
       " 'masked_input_text': ['Sir Alex Ferguson is the greatest football manager of all time.',\n",
       "  'Sir Alex Ferguson is a great football manager.'],\n",
       " 'masked_output_text': ['Sir Alex Ferguson is one of the greatest football managers of all time.',\n",
       "  'Sir Alex Ferguson is a football manager.']}"
      ]
     },
     "execution_count": 13,
     "metadata": {},
     "output_type": "execute_result"
    }
   ],
   "source": [
    "cps.calculate_content_preservation_score(\n",
    "    **text_pairs, threshold=0.3, mask_type=\"none\", return_all=True\n",
    ")"
   ]
  }
 ],
 "metadata": {
  "interpreter": {
   "hash": "aee8b7b246df8f9039afb4144a1f6fd8d2ca17a180786b69acc140d282b71a49"
  },
  "kernelspec": {
   "display_name": "Python 3",
   "language": "python",
   "name": "python3"
  },
  "language_info": {
   "codemirror_mode": {
    "name": "ipython",
    "version": 3
   },
   "file_extension": ".py",
   "mimetype": "text/x-python",
   "name": "python",
   "nbconvert_exporter": "python",
   "pygments_lexer": "ipython3",
   "version": "3.9.7"
  }
 },
 "nbformat": 4,
 "nbformat_minor": 4
}
