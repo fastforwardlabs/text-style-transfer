{
 "cells": [
  {
   "cell_type": "markdown",
   "id": "1a45ab66-0a2e-4ab8-a676-eb49cb4f2155",
   "metadata": {},
   "source": [
    "# WNC Full Dataset Evaluation"
   ]
  },
  {
   "cell_type": "code",
   "execution_count": 1,
   "id": "1fac6489-23db-4b98-8106-3b632a5ececc",
   "metadata": {},
   "outputs": [],
   "source": [
    "train_samples = 154197\n",
    "epochs = 10\n",
    "batch_size = 8"
   ]
  },
  {
   "cell_type": "code",
   "execution_count": 3,
   "id": "41b27a84-6aef-4ecb-8e89-7eef1158b316",
   "metadata": {},
   "outputs": [
    {
     "data": {
      "text/plain": [
       "192746.25"
      ]
     },
     "execution_count": 3,
     "metadata": {},
     "output_type": "execute_result"
    }
   ],
   "source": [
    "(train_samples / batch_size) * epochs"
   ]
  },
  {
   "cell_type": "markdown",
   "id": "23f16a34-fe75-499d-b1b9-e95211bc183d",
   "metadata": {},
   "source": [
    "## Load Fine-Tuned Model"
   ]
  },
  {
   "cell_type": "code",
   "execution_count": 2,
   "id": "14c7b18c-d511-483e-a0c3-dce6635a8697",
   "metadata": {},
   "outputs": [],
   "source": [
    "import os\n",
    "import torch\n",
    "from transformers import AutoModelForSeq2SeqLM, AutoTokenizer, DataCollatorForSeq2Seq\n",
    "from datasets import load_from_disk, load_metric\n",
    "\n",
    "# %load_ext lab_black\n",
    "# %load_ext tensorboard"
   ]
  },
  {
   "cell_type": "code",
   "execution_count": 3,
   "id": "4e286be9-0039-49b0-a3b7-a9814c3bf549",
   "metadata": {},
   "outputs": [],
   "source": [
    "DATASETS_PATH = \"/home/cdsw/data/processed/WNC_seq2seq_full\"\n",
    "MODEL_PATH = \"/home/cdsw/models/bart-tst-full\"\n",
    "\n",
    "wnc_datasets = load_from_disk(DATASETS_PATH)\n",
    "# tokenizer = AutoTokenizer.from_pretrained(MODEL_PATH)\n",
    "# model = AutoModelForSeq2SeqLM.from_pretrained(MODEL_PATH)"
   ]
  },
  {
   "cell_type": "code",
   "execution_count": 4,
   "id": "cb0ad9c8-1b1a-4ed6-8995-ee074723de54",
   "metadata": {},
   "outputs": [
    {
     "data": {
      "text/plain": [
       "DatasetDict({\n",
       "    train: Dataset({\n",
       "        features: ['rev_id', 'source_text', 'target_text'],\n",
       "        num_rows: 154197\n",
       "    })\n",
       "    test: Dataset({\n",
       "        features: ['rev_id', 'source_text', 'target_text'],\n",
       "        num_rows: 8577\n",
       "    })\n",
       "    validation: Dataset({\n",
       "        features: ['rev_id', 'source_text', 'target_text'],\n",
       "        num_rows: 8607\n",
       "    })\n",
       "})"
      ]
     },
     "execution_count": 4,
     "metadata": {},
     "output_type": "execute_result"
    }
   ],
   "source": [
    "wnc_datasets"
   ]
  },
  {
   "cell_type": "code",
   "execution_count": 5,
   "id": "2456fe29-b8f3-4d31-b00b-5fb882c33f20",
   "metadata": {},
   "outputs": [
    {
     "data": {
      "text/html": [
       "<div>\n",
       "<style scoped>\n",
       "    .dataframe tbody tr th:only-of-type {\n",
       "        vertical-align: middle;\n",
       "    }\n",
       "\n",
       "    .dataframe tbody tr th {\n",
       "        vertical-align: top;\n",
       "    }\n",
       "\n",
       "    .dataframe thead th {\n",
       "        text-align: right;\n",
       "    }\n",
       "</style>\n",
       "<table border=\"1\" class=\"dataframe\">\n",
       "  <thead>\n",
       "    <tr style=\"text-align: right;\">\n",
       "      <th></th>\n",
       "      <th>rev_id</th>\n",
       "      <th>source_text</th>\n",
       "      <th>target_text</th>\n",
       "    </tr>\n",
       "  </thead>\n",
       "  <tbody>\n",
       "    <tr>\n",
       "      <th>0</th>\n",
       "      <td>118150338</td>\n",
       "      <td>while for long nearly only women where shown a...</td>\n",
       "      <td>increased tolerance, more tempered censorship,...</td>\n",
       "    </tr>\n",
       "    <tr>\n",
       "      <th>1</th>\n",
       "      <td>304516511</td>\n",
       "      <td>following the end of kenneth kaunda's repressi...</td>\n",
       "      <td>following the end of kenneth kaunda's presiden...</td>\n",
       "    </tr>\n",
       "    <tr>\n",
       "      <th>2</th>\n",
       "      <td>16973997</td>\n",
       "      <td>a brilliant quarterback with the university of...</td>\n",
       "      <td>a quarterback with the university of illinois,...</td>\n",
       "    </tr>\n",
       "    <tr>\n",
       "      <th>3</th>\n",
       "      <td>73550351</td>\n",
       "      <td>traitor to his people adam yahiye gadahn (born...</td>\n",
       "      <td>adam yahiye gadahn (born september 1, 1978) is...</td>\n",
       "    </tr>\n",
       "    <tr>\n",
       "      <th>4</th>\n",
       "      <td>284110112</td>\n",
       "      <td>a funny thing happened on the way to the moon ...</td>\n",
       "      <td>a funny thing happened on the way to the moon ...</td>\n",
       "    </tr>\n",
       "    <tr>\n",
       "      <th>...</th>\n",
       "      <td>...</td>\n",
       "      <td>...</td>\n",
       "      <td>...</td>\n",
       "    </tr>\n",
       "    <tr>\n",
       "      <th>154192</th>\n",
       "      <td>12673529</td>\n",
       "      <td>like many canadian leaders, he married a wife ...</td>\n",
       "      <td>like many canadian leaders, he married a stron...</td>\n",
       "    </tr>\n",
       "    <tr>\n",
       "      <th>154193</th>\n",
       "      <td>397111944</td>\n",
       "      <td>sri lanka won the 1996 cricket world cup by de...</td>\n",
       "      <td>sri lanka won the 1996 cricket world cup by de...</td>\n",
       "    </tr>\n",
       "    <tr>\n",
       "      <th>154194</th>\n",
       "      <td>221816193</td>\n",
       "      <td>regardless of how a received message is format...</td>\n",
       "      <td>regardless of how a received message is format...</td>\n",
       "    </tr>\n",
       "    <tr>\n",
       "      <th>154195</th>\n",
       "      <td>160860061</td>\n",
       "      <td>in peloponnesos, at any rate, the revolution h...</td>\n",
       "      <td>in peloponnesos, at any rate, the revolution h...</td>\n",
       "    </tr>\n",
       "    <tr>\n",
       "      <th>154196</th>\n",
       "      <td>471383973</td>\n",
       "      <td>communism disregarded and hated man : roy in h...</td>\n",
       "      <td>roy in his philosophy devised means to ensure ...</td>\n",
       "    </tr>\n",
       "  </tbody>\n",
       "</table>\n",
       "<p>154197 rows × 3 columns</p>\n",
       "</div>"
      ],
      "text/plain": [
       "           rev_id                                        source_text  \\\n",
       "0       118150338  while for long nearly only women where shown a...   \n",
       "1       304516511  following the end of kenneth kaunda's repressi...   \n",
       "2        16973997  a brilliant quarterback with the university of...   \n",
       "3        73550351  traitor to his people adam yahiye gadahn (born...   \n",
       "4       284110112  a funny thing happened on the way to the moon ...   \n",
       "...           ...                                                ...   \n",
       "154192   12673529  like many canadian leaders, he married a wife ...   \n",
       "154193  397111944  sri lanka won the 1996 cricket world cup by de...   \n",
       "154194  221816193  regardless of how a received message is format...   \n",
       "154195  160860061  in peloponnesos, at any rate, the revolution h...   \n",
       "154196  471383973  communism disregarded and hated man : roy in h...   \n",
       "\n",
       "                                              target_text  \n",
       "0       increased tolerance, more tempered censorship,...  \n",
       "1       following the end of kenneth kaunda's presiden...  \n",
       "2       a quarterback with the university of illinois,...  \n",
       "3       adam yahiye gadahn (born september 1, 1978) is...  \n",
       "4       a funny thing happened on the way to the moon ...  \n",
       "...                                                   ...  \n",
       "154192  like many canadian leaders, he married a stron...  \n",
       "154193  sri lanka won the 1996 cricket world cup by de...  \n",
       "154194  regardless of how a received message is format...  \n",
       "154195  in peloponnesos, at any rate, the revolution h...  \n",
       "154196  roy in his philosophy devised means to ensure ...  \n",
       "\n",
       "[154197 rows x 3 columns]"
      ]
     },
     "execution_count": 5,
     "metadata": {},
     "output_type": "execute_result"
    }
   ],
   "source": [
    "wnc_datasets['train'].to_pandas()"
   ]
  },
  {
   "cell_type": "markdown",
   "id": "d236e4a8-a71c-4e76-9792-e5f1852e2ecf",
   "metadata": {},
   "source": [
    "## Evaluation Walkthrough"
   ]
  },
  {
   "cell_type": "code",
   "execution_count": 3,
   "id": "daadcba9-b730-465c-99ae-b725dda01c52",
   "metadata": {},
   "outputs": [
    {
     "data": {
      "text/plain": [
       "{'rev_id': ['582489816', '660141066'],\n",
       " 'source_text': ['allegations of apocrypha by opponents of the ppaca',\n",
       "  'mcgowan had an excellent rookie year and was named golf digest / rolex rookie-of-the-year in 1978.'],\n",
       " 'target_text': ['allegations by opponents of the ppaca',\n",
       "  'mcgowan was named golf digest / rolex rookie-of-the-year in 1978.']}"
      ]
     },
     "execution_count": 3,
     "metadata": {},
     "output_type": "execute_result"
    }
   ],
   "source": [
    "wnc_datasets[\"test\"][:2]"
   ]
  },
  {
   "cell_type": "code",
   "execution_count": 5,
   "id": "fe83b7ab-b91f-4ab2-abe6-0fcd8251aaac",
   "metadata": {
    "tags": []
   },
   "outputs": [
    {
     "data": {
      "text/plain": [
       "{'rev_id': ['52689715',\n",
       "  '448794606',\n",
       "  '196857981',\n",
       "  '825528498',\n",
       "  '131233720',\n",
       "  '146585550',\n",
       "  '771218377',\n",
       "  '89278271',\n",
       "  '166767775',\n",
       "  '186439773',\n",
       "  '18098702',\n",
       "  '70113581',\n",
       "  '59929686',\n",
       "  '204627922',\n",
       "  '364872143',\n",
       "  '100032595',\n",
       "  '775580555',\n",
       "  '695323829',\n",
       "  '76214091',\n",
       "  '460054252'],\n",
       " 'source_text': ['according to the best current estimates, nazi germany murdered about 11 million people in the holocaust, including nearly 6 million jews .',\n",
       "  'although both the balfour declaration and the terms of the league of nations british mandate of palestine called for a jewish national home in palestine, the british repudiated any linkage between palestine and the situation of european jews.',\n",
       "  \"it also marked the last season in quarteback 's brett favre illustrious career as a packer .\",\n",
       "  'rigidly arbitrary interpretations, represented as being the literal meaning of religious texts , is the greatest cause of conflict with evolutionary and cosmological investigations and conclusions.',\n",
       "  'in many ways, it paved the way to modern philosophy, as well as modern science.',\n",
       "  'summers in louisiana are among the most oppressively hot and humid in the united states with high temperatures from mid-june to mid-september averaging 90f (32c) or more and overnight lows averaging above 70f (22c).',\n",
       "  \"the kincora boys' home was a boys' home in belfast, northern ireland that was the scene of serious organised child sexual abuse, causing a scandal and attempted cover-up in 1980, with credible allegations of state collusion.\",\n",
       "  'this new coke product has half the carbohydrates, sugars , calories, and half the taste compared to standard coke.',\n",
       "  'the new york press reported on june 20, 2007 that congressman hall refused to provide a right-leaning advocacy group with a list of congressional \"pork\" items that he is requesting in the federal budget.',\n",
       "  'beginning with a licensed version of the milled receiver soviet ak-47, valmet then set about upgrading the design at every point.',\n",
       "  \"soon, luther's study of humanism mingle with heracy convinced him that the church had lost sight of several central truths.\",\n",
       "  \"the primary source, tufts' journal of conservative thought , and premiere magazine .\",\n",
       "  'the one: making a music star, an american idol knock-off coming to abc',\n",
       "  'the university of cambridge (often cambridge university), located in cambridge, england, is the second-oldest university in the english-speaking world and has a reputation as one of the most prestigious universities in the world .',\n",
       "  \"the church has been established in 1852. and the building that is currently being used as a place of worship was built in 1923. the church had a wealthy past and it had brought valuable investment to the armenian evangelical union's life .\",\n",
       "  'more than 60 major buildings , most filled with asbestos, and in disrepair support the teaching and research programs of the university.',\n",
       "  'after falling out with the valencia hierarchy , benitez then moved to english club liverpool of the premier league, guiding the club to victory in the uefa champions league in 2005. for the second consecutive season, he was named uefa manager of the year.',\n",
       "  \"collins' theory is one of particular interest because it represents the sociological crossroads between modern and post-modern feminist thought.\",\n",
       "  '(meanwhile, from c. 726 to 843, the eastern roman empire, under the thumb of successive emperors, was dominated by the heresy of iconoclasm.)',\n",
       "  'the dry western shore is commonly known as the kohala coast, home to premier golf courses and seaside resorts.'],\n",
       " 'target_text': ['according to the best current estimates, nazi germany killed about 11 million people in the holocaust, about half of the were jew s .',\n",
       "  'although both the balfour declaration and the terms of the league of nations british mandate of palestine called for a jewish national home in palestine, the british did not accept any linkage between palestine and the situation of european jews.',\n",
       "  \"it also marked the last season in quarterback 's brett favre career as a packer.\",\n",
       "  'literal interpretations of religious texts are the greatest cause of conflict with evolutionary and cosmological investigations and conclusions.',\n",
       "  'in many ways, it had an important influence on modern philosophy, as well as modern science.',\n",
       "  'summers in louisiana are hot and humid with high temperatures from mid-june to mid-september averaging 90f (32c) or more and overnight lows averaging above 70f (22c).',\n",
       "  \"the kincora boys' home was a boys' home in belfast, northern ireland that was the scene of serious organised child sexual abuse, causing a scandal and attempted cover-up in 1980, with allegations of state collusion.\",\n",
       "  'this new coke product has half the carbohydrates, sugars and calories, compared to standard coke.',\n",
       "  'the new york press reported on june 20, 2007 that congressman hall refused to disclose congressional \"pork\" items that he is requesting in the federal budget.',\n",
       "  'beginning with a licensed version of the milled receiver soviet ak-47, valmet set about upgrading the design at every point.',\n",
       "  \"soon, luther's study of the bible convinced him that the church had lost sight of several central truths.\",\n",
       "  \"the primary source, tufts' journal of conservative thought.\",\n",
       "  'the one: making a music star, a reality series similar to american idol , coming to abc and cbc',\n",
       "  'the university of cambridge (often cambridge university), located in cambridge, england, is the second-oldest university in the english-speaking world.',\n",
       "  'the church has been established in 1852. the building that is currently being used as a place of worship was built in 1923. the church has a wealthy past.',\n",
       "  'more than 60 major buildings support the teaching and research programs of the university.',\n",
       "  'after leaving valencia, benitez then moved to english club liverpool of the premier league, guiding the club to victory in the uefa champions league in 2005. for the second consecutive season, he was named uefa manager of the year.',\n",
       "  \"collins' theory represents the sociological crossroads between modern and post-modern feminist thought.\",\n",
       "  '(meanwhile, from c. 726 to 843, the eastern roman empire, under the thumb of successive emperors, was dominated by iconoclasm.)',\n",
       "  'the dry western shore is commonly known as the kohala coast, which has golf courses and seaside resorts.']}"
      ]
     },
     "execution_count": 5,
     "metadata": {},
     "output_type": "execute_result"
    }
   ],
   "source": [
    "examples = wnc_datasets[\"test\"][10:30]\n",
    "examples"
   ]
  },
  {
   "cell_type": "code",
   "execution_count": 7,
   "id": "02f542ef",
   "metadata": {},
   "outputs": [
    {
     "data": {
      "text/plain": [
       "\"it also marked the last season in quarterback 's brett favre career as a packer.\""
      ]
     },
     "execution_count": 7,
     "metadata": {},
     "output_type": "execute_result"
    }
   ],
   "source": [
    "examples['target_text'][2]"
   ]
  },
  {
   "cell_type": "code",
   "execution_count": 3,
   "id": "e06ef3a5-124e-4b0d-ab51-632b00cf336a",
   "metadata": {},
   "outputs": [],
   "source": [
    "testing = {\n",
    "    \"rev_id\": 123,\n",
    "    \"source_text\": [\"Sir Alex Ferguson is the greatest football manager of all time.\"],\n",
    "    \"target_text\": [\"yada\"],\n",
    "}\n",
    "\n",
    "testing = {\n",
    "    \"rev_id\": 123,\n",
    "    \"source_text\": [\"the news-press was sold by the new york times company in 2000, and is now independently owned by wendy p. mccaw, a local resident and a biased and eerily thick-headed woman .\"],\n",
    "    \"target_text\": [\"yada\"],\n",
    "}"
   ]
  },
  {
   "cell_type": "code",
   "execution_count": 4,
   "id": "a0a5c0c7-defe-4d35-9d71-7284ed099bc7",
   "metadata": {},
   "outputs": [],
   "source": [
    "max_source_length = 1024\n",
    "max_target_length = 1024\n",
    "\n",
    "\n",
    "def preprocess_function(examples: dict):\n",
    "\n",
    "    inputs = examples[\"source_text\"]\n",
    "    targets = examples[\"target_text\"]\n",
    "\n",
    "    model_inputs = tokenizer(\n",
    "        inputs,\n",
    "        max_length=max_source_length,\n",
    "        padding=True,\n",
    "        truncation=True,\n",
    "        return_tensors=\"pt\",\n",
    "    )\n",
    "\n",
    "    with tokenizer.as_target_tokenizer():\n",
    "        labels = tokenizer(\n",
    "            targets,\n",
    "            max_length=max_target_length,\n",
    "            padding=True,\n",
    "            truncation=True,\n",
    "            return_tensors=\"pt\",\n",
    "        )\n",
    "\n",
    "    model_inputs[\"labels\"] = labels[\"input_ids\"]\n",
    "    return model_inputs"
   ]
  },
  {
   "cell_type": "code",
   "execution_count": 5,
   "id": "33198c06-0d1a-45be-9ec8-d382ec521089",
   "metadata": {
    "tags": []
   },
   "outputs": [],
   "source": [
    "# model_inputs = preprocess_function(examples)\n",
    "model_inputs = preprocess_function(testing)"
   ]
  },
  {
   "cell_type": "code",
   "execution_count": 6,
   "id": "0dc69b11-ed5d-4127-992c-23657540fd9c",
   "metadata": {},
   "outputs": [
    {
     "data": {
      "text/plain": [
       "torch.Size([1, 48])"
      ]
     },
     "execution_count": 6,
     "metadata": {},
     "output_type": "execute_result"
    }
   ],
   "source": [
    "model_inputs[\"input_ids\"].shape"
   ]
  },
  {
   "cell_type": "markdown",
   "id": "a8db475b-3fb7-41e0-a5a8-2efd41c895ab",
   "metadata": {},
   "source": [
    "### Generate Text"
   ]
  },
  {
   "cell_type": "code",
   "execution_count": 7,
   "id": "15261255-2189-47b3-809a-b5b2eebdd784",
   "metadata": {},
   "outputs": [],
   "source": [
    "def generate_text(examples: dict):\n",
    "\n",
    "    model_inputs = preprocess_function(examples)\n",
    "\n",
    "    outputs = model.generate(\n",
    "        model_inputs[\"input_ids\"],\n",
    "        max_length=max_target_length,\n",
    "        min_length=4,\n",
    "        length_penalty=2,\n",
    "        num_beams=4,\n",
    "        early_stopping=True,\n",
    "    )\n",
    "\n",
    "    return tokenizer.batch_decode(outputs, skip_special_tokens=True)"
   ]
  },
  {
   "cell_type": "code",
   "execution_count": 20,
   "id": "c1577af1-400e-4458-a6bf-13c5534f6951",
   "metadata": {},
   "outputs": [
    {
     "data": {
      "text/plain": [
       "['opposition to apocrypha by opponents of the ppaca',\n",
       " 'mcgowan had a good rookie year and was named golf digest / rolex rookie-of-the-year in 1978.',\n",
       " 'hcis also organizes a yearly talent competition called the innofest where students in hcis get an opportunity to showcase their talents.',\n",
       " 'in the north-east of aunis there is a huge forest of hardwood trees, the forest of benon, which has been protected because it is unique to the region.',\n",
       " 'on march 8, 2009, the impeccable, while monitoring submarine activity 75\\xa0miles south of hainan, china, was attacked by several chinese naval ships.',\n",
       " 'the new term is designed to avoid the social stigma associated with the conflation of \"manic\" and \"depression.\"',\n",
       " 'the news-press was sold by the new york times company in 2000, and is now independently owned by wendy p. mccaw, a local resident.',\n",
       " 'the area in which the palestine pound circulated was divided into several political entities: the state of israel, the hashemite kingdom of transjordan, the jordanian- occupied west bank and the egyptian-occupied gaza strip.',\n",
       " 'paul francis gadd aka gary glitter (born may 8 1944) is an english rock and pop singer and songwriter who had a string of chart successes with a collection of 1970s glam rock hits including \"rock and roll parts 1 & 2\", \"i love you love me love\", \" i\\'m the leader of the gang (i am)\" and \"hello, hello, i\\'m back again\".',\n",
       " 'kmfdm stands for \"kein mehrheit fr die mitleid \", which roughly means \"no pity for the majority\" in english.']"
      ]
     },
     "execution_count": 20,
     "metadata": {},
     "output_type": "execute_result"
    }
   ],
   "source": [
    "preds = generate_text(examples)\n",
    "preds"
   ]
  },
  {
   "cell_type": "code",
   "execution_count": 11,
   "id": "a3f44f11-0da3-412c-8d6a-e7b3c25afc43",
   "metadata": {},
   "outputs": [
    {
     "data": {
      "text/plain": [
       "['Sir Alex Ferguson is one of the greatest football managers of all time.']"
      ]
     },
     "execution_count": 11,
     "metadata": {},
     "output_type": "execute_result"
    }
   ],
   "source": [
    "preds = generate_text(testing)\n",
    "preds"
   ]
  },
  {
   "cell_type": "code",
   "execution_count": 8,
   "id": "86e1e9c1-48d0-498f-9dea-57bc9c77a680",
   "metadata": {},
   "outputs": [
    {
     "data": {
      "text/plain": [
       "['the news-press was sold by the new york times company in 2000, and is now independently owned by wendy p. mccaw, a local resident.']"
      ]
     },
     "execution_count": 8,
     "metadata": {},
     "output_type": "execute_result"
    }
   ],
   "source": [
    "preds = generate_text(testing)\n",
    "preds"
   ]
  },
  {
   "cell_type": "code",
   "execution_count": 21,
   "id": "20e60c91-b34d-4722-8fe8-e2298bdbd99d",
   "metadata": {},
   "outputs": [
    {
     "data": {
      "text/plain": [
       "['allegations by opponents of the ppaca',\n",
       " 'mcgowan was named golf digest / rolex rookie-of-the-year in 1978.',\n",
       " 'hcis also organizes a yearly talent competition called the innofest where students in hcis get an opportunity to showcase their talents.',\n",
       " 'in the north-east of aunis there is a huge forest of hardwood trees, the forest of benon, which has been protected because it is unique to the region.',\n",
       " 'on march 8, 2009, the impeccable, while monitoring submarine activity 75\\xa0miles south of hainan, china, was engaged by several chinese naval ships.',\n",
       " 'the new term is designed to avoid the social stigma associated with the conflation of \"manic\" and \"depression.\"',\n",
       " 'the news-press was sold by the new york times company in 2000, and is now independently owned by wendy p. mccaw, a local resident and outspoken environmentalist .',\n",
       " 'the area in which the palestine pound circulated was divided into several political entities: the state of israel, the hashemite kingdom of transjordan, the jordanian- occupied west bank and the egyptian-occupied gaza strip.',\n",
       " 'paul francis gadd aka gary glitter (born may 8 1944) is an english rock and pop singer , songwriter and paedophile who had a string of chart successes with a collection of 1970s glam rock hits including \"rock and roll parts 1 & 2\", \"i love you love me love\", \"i\\'m the leader of the gang (i am)\" and \"hello, hello, i\\'m back again\".',\n",
       " 'kmfdm stands for \"kein mitleid fr die mehrheit \", which roughly means \"no pity for the majority\" in english.']"
      ]
     },
     "execution_count": 21,
     "metadata": {},
     "output_type": "execute_result"
    }
   ],
   "source": [
    "labels = examples[\"target_text\"]\n",
    "labels"
   ]
  },
  {
   "cell_type": "code",
   "execution_count": 25,
   "id": "29fd8e6b-e1cf-47b9-994d-406f7053cd58",
   "metadata": {},
   "outputs": [
    {
     "data": {
      "text/plain": [
       "['allegations of apocrypha by opponents of the ppaca',\n",
       " 'mcgowan had an excellent rookie year and was named golf digest / rolex rookie-of-the-year in 1978.',\n",
       " 'hcis also organizes a yearly talent competition called the innofest where students in hcis get an opportunity to showcase their amazing talents.',\n",
       " 'in the north-east of aunis there is a huge forest of hardwood trees, the forest of benon, which fortunately has been protected because it is unique to the region.',\n",
       " 'on march 8, 2009, the impeccable, while monitoring submarine activity 75\\xa0miles south of hainan, china, was harassed by several chinese naval ships.',\n",
       " 'the new term is designed to be neutral, to avoid the social stigma associated with the conflation of \"manic\" and \"depression.\"',\n",
       " 'the news-press was sold by the new york times company in 2000, and is now independently owned by wendy p. mccaw, a local resident and a biased and eerily thick-headed woman .',\n",
       " 'the area in which the palestine pound circulated was divided into several political entities: the state of israel, the hashemite kingdom of transjordan, the jordanian- ruled west bank and the egyptian-occupied gaza strip.',\n",
       " 'paul francis gadd aka gary glitter (born may 8 1944) is an english rock and pop singer and songwriter who had a string of chart successes with a collection of 1970s glam rock hits including \"rock and roll parts 1 & 2\", \"i love you love me love\", \"i\\'m the leader of the gang (i am)\" and \"hello, hello, i\\'m back again\".',\n",
       " 'kmfdm stands for \"kein mehrheit fr die mitleid \", which roughly means \"no pity for the majority\" in english.']"
      ]
     },
     "execution_count": 25,
     "metadata": {},
     "output_type": "execute_result"
    }
   ],
   "source": [
    "inputs = examples[\"source_text\"]\n",
    "inputs"
   ]
  },
  {
   "cell_type": "code",
   "execution_count": 28,
   "id": "aca3fa18-1c2a-4f6e-858c-c8a82932cd60",
   "metadata": {},
   "outputs": [
    {
     "name": "stdout",
     "output_type": "stream",
     "text": [
      "0 \n",
      "\n",
      "INPUT: allegations of apocrypha by opponents of the ppaca\n",
      "\n",
      "TRUTH: allegations by opponents of the ppaca\n",
      "\n",
      "PREDI: opposition to apocrypha by opponents of the ppaca\n",
      "\n",
      "-------------------------------------------------\n",
      "1 \n",
      "\n",
      "INPUT: mcgowan had an excellent rookie year and was named golf digest / rolex rookie-of-the-year in 1978.\n",
      "\n",
      "TRUTH: mcgowan was named golf digest / rolex rookie-of-the-year in 1978.\n",
      "\n",
      "PREDI: mcgowan had a good rookie year and was named golf digest / rolex rookie-of-the-year in 1978.\n",
      "\n",
      "-------------------------------------------------\n",
      "2 \n",
      "\n",
      "INPUT: hcis also organizes a yearly talent competition called the innofest where students in hcis get an opportunity to showcase their amazing talents.\n",
      "\n",
      "TRUTH: hcis also organizes a yearly talent competition called the innofest where students in hcis get an opportunity to showcase their talents.\n",
      "\n",
      "PREDI: hcis also organizes a yearly talent competition called the innofest where students in hcis get an opportunity to showcase their talents.\n",
      "\n",
      "-------------------------------------------------\n",
      "3 \n",
      "\n",
      "INPUT: in the north-east of aunis there is a huge forest of hardwood trees, the forest of benon, which fortunately has been protected because it is unique to the region.\n",
      "\n",
      "TRUTH: in the north-east of aunis there is a huge forest of hardwood trees, the forest of benon, which has been protected because it is unique to the region.\n",
      "\n",
      "PREDI: in the north-east of aunis there is a huge forest of hardwood trees, the forest of benon, which has been protected because it is unique to the region.\n",
      "\n",
      "-------------------------------------------------\n",
      "4 \n",
      "\n",
      "INPUT: on march 8, 2009, the impeccable, while monitoring submarine activity 75 miles south of hainan, china, was harassed by several chinese naval ships.\n",
      "\n",
      "TRUTH: on march 8, 2009, the impeccable, while monitoring submarine activity 75 miles south of hainan, china, was engaged by several chinese naval ships.\n",
      "\n",
      "PREDI: on march 8, 2009, the impeccable, while monitoring submarine activity 75 miles south of hainan, china, was attacked by several chinese naval ships.\n",
      "\n",
      "-------------------------------------------------\n",
      "5 \n",
      "\n",
      "INPUT: the new term is designed to be neutral, to avoid the social stigma associated with the conflation of \"manic\" and \"depression.\"\n",
      "\n",
      "TRUTH: the new term is designed to avoid the social stigma associated with the conflation of \"manic\" and \"depression.\"\n",
      "\n",
      "PREDI: the new term is designed to avoid the social stigma associated with the conflation of \"manic\" and \"depression.\"\n",
      "\n",
      "-------------------------------------------------\n",
      "6 \n",
      "\n",
      "INPUT: the news-press was sold by the new york times company in 2000, and is now independently owned by wendy p. mccaw, a local resident and a biased and eerily thick-headed woman .\n",
      "\n",
      "TRUTH: the news-press was sold by the new york times company in 2000, and is now independently owned by wendy p. mccaw, a local resident and outspoken environmentalist .\n",
      "\n",
      "PREDI: the news-press was sold by the new york times company in 2000, and is now independently owned by wendy p. mccaw, a local resident.\n",
      "\n",
      "-------------------------------------------------\n",
      "7 \n",
      "\n",
      "INPUT: the area in which the palestine pound circulated was divided into several political entities: the state of israel, the hashemite kingdom of transjordan, the jordanian- ruled west bank and the egyptian-occupied gaza strip.\n",
      "\n",
      "TRUTH: the area in which the palestine pound circulated was divided into several political entities: the state of israel, the hashemite kingdom of transjordan, the jordanian- occupied west bank and the egyptian-occupied gaza strip.\n",
      "\n",
      "PREDI: the area in which the palestine pound circulated was divided into several political entities: the state of israel, the hashemite kingdom of transjordan, the jordanian- occupied west bank and the egyptian-occupied gaza strip.\n",
      "\n",
      "-------------------------------------------------\n",
      "8 \n",
      "\n",
      "INPUT: paul francis gadd aka gary glitter (born may 8 1944) is an english rock and pop singer and songwriter who had a string of chart successes with a collection of 1970s glam rock hits including \"rock and roll parts 1 & 2\", \"i love you love me love\", \"i'm the leader of the gang (i am)\" and \"hello, hello, i'm back again\".\n",
      "\n",
      "TRUTH: paul francis gadd aka gary glitter (born may 8 1944) is an english rock and pop singer , songwriter and paedophile who had a string of chart successes with a collection of 1970s glam rock hits including \"rock and roll parts 1 & 2\", \"i love you love me love\", \"i'm the leader of the gang (i am)\" and \"hello, hello, i'm back again\".\n",
      "\n",
      "PREDI: paul francis gadd aka gary glitter (born may 8 1944) is an english rock and pop singer and songwriter who had a string of chart successes with a collection of 1970s glam rock hits including \"rock and roll parts 1 & 2\", \"i love you love me love\", \" i'm the leader of the gang (i am)\" and \"hello, hello, i'm back again\".\n",
      "\n",
      "-------------------------------------------------\n",
      "9 \n",
      "\n",
      "INPUT: kmfdm stands for \"kein mehrheit fr die mitleid \", which roughly means \"no pity for the majority\" in english.\n",
      "\n",
      "TRUTH: kmfdm stands for \"kein mitleid fr die mehrheit \", which roughly means \"no pity for the majority\" in english.\n",
      "\n",
      "PREDI: kmfdm stands for \"kein mehrheit fr die mitleid \", which roughly means \"no pity for the majority\" in english.\n",
      "\n",
      "-------------------------------------------------\n"
     ]
    }
   ],
   "source": [
    "for i, (inp, pred, label) in enumerate(zip(inputs, preds, labels)):\n",
    "    print(i, \"\\n\")\n",
    "    print(f\"INPUT: {inp}\")\n",
    "    print()\n",
    "    print(f\"TRUTH: {label}\")\n",
    "    print()\n",
    "    print(f\"PREDI: {pred}\")\n",
    "    print()\n",
    "    print(\"-------------------------------------------------\")"
   ]
  },
  {
   "cell_type": "markdown",
   "id": "56ac16ee-6c66-40c9-8397-e9c54d80e73d",
   "metadata": {},
   "source": [
    "**Interesting Ones**: 1, 3, 6"
   ]
  },
  {
   "cell_type": "markdown",
   "id": "912d58ec-f459-426e-acb5-aa15b3f28443",
   "metadata": {
    "tags": []
   },
   "source": [
    "### Open Questions:\n",
    "1. Why does eval loss increase while eval accuracy/bleu also increase?\n",
    "    - \"In typical text generation settings, there exists a discrepancy between the training objective and evaluation criteria.\" \n",
    "    - [this paper](https://sailinglab.github.io/pgm-spring-2019/assets/project/final-reports/project3.pdf) introduces DEBLEU which is differentiable version of BLEU as loss function specifically for TST\n",
    "2. What does performance look like across cohorts (length_delta, generation length)??   \n",
    "3. [This paper] analyzes and discusses various TST evaluation metrics and how the correlate to human level evaluation."
   ]
  },
  {
   "cell_type": "markdown",
   "id": "95587b66-7076-4f51-a095-9e392580e2b6",
   "metadata": {},
   "source": [
    "# Seq2seq with HF Pipeline"
   ]
  },
  {
   "cell_type": "code",
   "execution_count": 1,
   "id": "fdef016f-c16f-429e-aee8-db23415fc150",
   "metadata": {},
   "outputs": [],
   "source": [
    "import torch\n",
    "from transformers import pipeline\n",
    "\n",
    "# %load_ext lab_black"
   ]
  },
  {
   "cell_type": "code",
   "execution_count": 5,
   "id": "24b84123-9270-4074-9496-3b2fbf67afbe",
   "metadata": {},
   "outputs": [],
   "source": [
    "MODEL_PATH = \"/home/cdsw/models/bart-tst-full\"\n",
    "\n",
    "# tst_generator = pipeline(task=\"text2text-generation\", model=MODEL_PATH, device=-1, max_length=100)"
   ]
  },
  {
   "cell_type": "code",
   "execution_count": 1,
   "id": "d5283511-a2a1-4b0e-8e57-f63b2d3ebf8c",
   "metadata": {},
   "outputs": [],
   "source": [
    "example = \"Sir Alex Ferguson is the greatest football manager of all time.\"\n",
    "examples = [\"Sir Alex Ferguson is the greatest football manager of all time.\", \"the news-press was sold by the new york times company in 2000, and is now independently owned by wendy p. mccaw, a local resident and a biased and eerily thick-headed woman .\"]\n",
    "# example = \"hcis also organizes a yearly talent competition called the innofest where students in hcis get an opportunity to showcase their amazing talents.\"\n",
    "\n",
    "\n",
    "# out = tst_generator(examples)\n",
    "\n"
   ]
  },
  {
   "cell_type": "raw",
   "id": "62c090b2-13e4-434a-9202-76be0260e42f",
   "metadata": {},
   "source": []
  },
  {
   "cell_type": "code",
   "execution_count": 6,
   "id": "80b70a1d-d5ad-4ff2-8862-09ce6d59f845",
   "metadata": {},
   "outputs": [
    {
     "data": {
      "text/plain": [
       "[{'generated_text': 'Sir Alex Ferguson is one of the greatest football managers of all time.'},\n",
       " {'generated_text': 'the news-press was sold by the new york times company in 2000, and is now independently owned by wendy p. mccaw, a local resident.'}]"
      ]
     },
     "execution_count": 6,
     "metadata": {},
     "output_type": "execute_result"
    }
   ],
   "source": [
    "out"
   ]
  },
  {
   "cell_type": "code",
   "execution_count": 5,
   "id": "5cec810e-9e42-48d2-9c9c-30c9223916e6",
   "metadata": {},
   "outputs": [],
   "source": [
    "device = torch.device(\"cuda\") if torch.cuda.is_available() else torch.device(\"cpu\")"
   ]
  },
  {
   "cell_type": "code",
   "execution_count": 10,
   "id": "d20a0693-4332-4600-8334-cf0d662d7a83",
   "metadata": {},
   "outputs": [
    {
     "data": {
      "text/plain": [
       "True"
      ]
     },
     "execution_count": 10,
     "metadata": {},
     "output_type": "execute_result"
    }
   ],
   "source": [
    "torch.cuda.is_available()"
   ]
  },
  {
   "cell_type": "code",
   "execution_count": 12,
   "id": "da8da345-e951-4117-b2c6-67da7c066bbd",
   "metadata": {},
   "outputs": [
    {
     "data": {
      "text/plain": [
       "'Tesla V100-PCIE-32GB'"
      ]
     },
     "execution_count": 12,
     "metadata": {},
     "output_type": "execute_result"
    }
   ],
   "source": [
    "torch.cuda.get_device_name()"
   ]
  },
  {
   "cell_type": "code",
   "execution_count": 13,
   "id": "267861e5-efec-4970-8385-8b5681d46e3e",
   "metadata": {},
   "outputs": [
    {
     "data": {
      "text/plain": [
       "0"
      ]
     },
     "execution_count": 13,
     "metadata": {},
     "output_type": "execute_result"
    }
   ],
   "source": [
    "torch.cuda.current_device()"
   ]
  },
  {
   "cell_type": "code",
   "execution_count": null,
   "id": "a5206e3b-44d4-4d26-9786-22548805a893",
   "metadata": {},
   "outputs": [],
   "source": [
    "if torch.cuda.is_available():\n",
    "    device = torch.cuda.current_device() if torch.cuda.is_available() else N\n",
    "    "
   ]
  },
  {
   "cell_type": "code",
   "execution_count": null,
   "id": "fb9bbc76-b0e2-4880-afec-5489e210fc69",
   "metadata": {},
   "outputs": [],
   "source": [
    "device = torch.cuda.current_device() if torch.cuda.is_available() else -1"
   ]
  },
  {
   "cell_type": "code",
   "execution_count": 4,
   "id": "e4a22119-c732-48c9-9acd-f53b668bda3b",
   "metadata": {},
   "outputs": [
    {
     "data": {
      "text/plain": [
       "[{'generated_text': 'Sir Alex Ferguson is one of the greatest football managers of all time.'},\n",
       " {'generated_text': 'the news-press was sold by the new york times company in 2000, and is now independently owned by wendy p. mccaw, a local resident.'}]"
      ]
     },
     "execution_count": 4,
     "metadata": {},
     "output_type": "execute_result"
    }
   ],
   "source": [
    "out"
   ]
  },
  {
   "cell_type": "code",
   "execution_count": null,
   "id": "3e4dff95-f148-4d4d-896e-ca1e3569346c",
   "metadata": {},
   "outputs": [],
   "source": []
  },
  {
   "cell_type": "code",
   "execution_count": 2,
   "id": "4506f00e-4516-4a5a-8ec4-11c4db89ce8c",
   "metadata": {},
   "outputs": [],
   "source": [
    "%load_ext autoreload\n",
    "%autoreload 2"
   ]
  },
  {
   "cell_type": "code",
   "execution_count": 3,
   "id": "780b7dbc-6c1e-407e-a0a6-b295bfa925c0",
   "metadata": {},
   "outputs": [],
   "source": [
    "from src.inference import SubjectivityNeutralizer"
   ]
  },
  {
   "cell_type": "code",
   "execution_count": 6,
   "id": "1fcd12e8-3e3b-4f41-8803-593a0097f206",
   "metadata": {},
   "outputs": [],
   "source": [
    "sn = SubjectivityNeutralizer(model_identifier=MODEL_PATH)"
   ]
  },
  {
   "cell_type": "code",
   "execution_count": 7,
   "id": "004256ff-4505-4981-9085-bc47fbafc9fc",
   "metadata": {},
   "outputs": [
    {
     "data": {
      "text/plain": [
       "[{'generated_text': 'Sir Alex Ferguson is one of the greatest football managers of all time.'},\n",
       " {'generated_text': 'the news-press was sold by the new york times company in 2000, and is now independently owned by wendy p. mccaw, a local resident.'}]"
      ]
     },
     "execution_count": 7,
     "metadata": {},
     "output_type": "execute_result"
    }
   ],
   "source": [
    "sn.neutralize(examples)"
   ]
  },
  {
   "cell_type": "code",
   "execution_count": null,
   "id": "1b57447e-bf1d-4b0e-9513-45d0846bf083",
   "metadata": {},
   "outputs": [],
   "source": [
    "sn.neutralize("
   ]
  },
  {
   "cell_type": "code",
   "execution_count": null,
   "id": "a59f8b88-98b6-46ff-a358-b69d5e00e2d2",
   "metadata": {},
   "outputs": [],
   "source": []
  }
 ],
 "metadata": {
  "interpreter": {
   "hash": "aee8b7b246df8f9039afb4144a1f6fd8d2ca17a180786b69acc140d282b71a49"
  },
  "kernelspec": {
   "display_name": "Python 3",
   "language": "python",
   "name": "python3"
  },
  "language_info": {
   "codemirror_mode": {
    "name": "ipython",
    "version": 3
   },
   "file_extension": ".py",
   "mimetype": "text/x-python",
   "name": "python",
   "nbconvert_exporter": "python",
   "pygments_lexer": "ipython3",
   "version": "3.9.7"
  }
 },
 "nbformat": 4,
 "nbformat_minor": 5
}
