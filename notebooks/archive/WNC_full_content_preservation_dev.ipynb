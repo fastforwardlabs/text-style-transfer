{
 "cells": [
  {
   "cell_type": "markdown",
   "id": "4e4f6c9f-0500-4ad5-84bd-f7dddc8cda2f",
   "metadata": {},
   "source": [
    "# Content Preservation Metric Development"
   ]
  },
  {
   "cell_type": "markdown",
   "id": "8bb364d4-bafb-411d-9b87-af419fc976e1",
   "metadata": {
    "jupyter": {
     "source_hidden": true
    },
    "tags": []
   },
   "source": [
    "Our intended metric is an extension of the Word Movers Distance-based content preservation metric introduced by [Evaluating Style Transfer for Text](https://arxiv.org/pdf/1904.02295.pdf). However, we chose to replace logistic regression for feature importances with word attributions from the trained BERT style classifier. We also replace WMD for cosine similarity on SBert embeddings as it has shown improvements in accuracy and performance ([from blog](https://vaclavkosar.com/ml/Word-Movers-Embedding-Cheap-WMD-For-Documents)).\n",
    "\n",
    "The general approach is to:\n",
    "\n",
    "1. Build style lexicon from trained classifier feature importances\n",
    "2. Use style lexicon to mask out all style tokens in the x and x’ (“removing the style, only content remains”)\n",
    "3. Compare similarity/distance between these two “content only” sentences using cosine similarity between SBert embeddings\n",
    "\n",
    "![](../images/content_preservation_score.jpeg)\n",
    "\n",
    "Two things we need to figure out:\n",
    "1. Does cosine similarity on [masked] SBert embeddings produce meaningful/expected measures of similarity\n",
    "2. How do we precisely mask out __only__ the style related words?\n"
   ]
  },
  {
   "cell_type": "code",
   "execution_count": 1,
   "id": "bdaf8c50-5f23-4113-a246-289f8d6a8fb3",
   "metadata": {},
   "outputs": [],
   "source": [
    "%load_ext lab_black\n",
    "%load_ext autoreload\n",
    "%autoreload 2"
   ]
  },
  {
   "cell_type": "markdown",
   "id": "76a47425-3c44-4667-9e90-1def51590cc5",
   "metadata": {
    "tags": []
   },
   "source": [
    "## Prove SBert works with `<MASK>` tokens in input and similarity metrics make sense"
   ]
  },
  {
   "cell_type": "code",
   "execution_count": 2,
   "id": "cc00b7a2-7e5c-4e2f-ad2e-eef9b9141815",
   "metadata": {
    "jupyter": {
     "source_hidden": true
    },
    "tags": []
   },
   "outputs": [],
   "source": [
    "# from typing import List\n",
    "\n",
    "# import torch\n",
    "# import pandas as pd\n",
    "# from tqdm import tqdm\n",
    "# from transformers_interpret import SequenceClassificationExplainer\n",
    "# from transformers import AutoTokenizer, AutoModel, AutoModelForSequenceClassification\n",
    "\n",
    "\n",
    "# class ContentPreservationScorer:\n",
    "#     \"\"\"\n",
    "\n",
    "#     Attributes:\n",
    "#         sbert_model_identifier (str)\n",
    "\n",
    "#     \"\"\"\n",
    "\n",
    "#     def __init__(self, cls_model_identifier: str, sbert_model_identifier: str):\n",
    "\n",
    "#         self.cls_model_identifier = cls_model_identifier\n",
    "#         self.sbert_model_identifier = sbert_model_identifier\n",
    "#         self.device = torch.cuda.current_device() if torch.cuda.is_available() else -1\n",
    "\n",
    "#         self._initialize_hf_artifacts()\n",
    "\n",
    "#     def _initialize_hf_artifacts(self):\n",
    "#         \"\"\"\n",
    "#         Initialize a HuggingFace artifacts (tokenizer and model) according\n",
    "#         to the provided identifiers for both SBert and the classification model.\n",
    "#         Then initialize the word attribution explainer with the HF model+tokenizer.\n",
    "\n",
    "#         \"\"\"\n",
    "\n",
    "#         # sbert\n",
    "#         self.sbert_tokenizer = AutoTokenizer.from_pretrained(\n",
    "#             self.sbert_model_identifier\n",
    "#         )\n",
    "#         self.sbert_model = AutoModel.from_pretrained(self.sbert_model_identifier)\n",
    "\n",
    "#         # classifer\n",
    "#         self.cls_tokenizer = AutoTokenizer.from_pretrained(self.cls_model_identifier)\n",
    "#         self.cls_model = AutoModelForSequenceClassification.from_pretrained(\n",
    "#             self.cls_model_identifier\n",
    "#         )\n",
    "#         self.cls_model.to(self.device)\n",
    "#         self.explainer = SequenceClassificationExplainer(\n",
    "#             self.cls_model, self.cls_tokenizer\n",
    "#         )\n",
    "\n",
    "#     def compute_sentence_embeddings(self, input_text: List[str]) -> torch.Tensor:\n",
    "#         \"\"\"\n",
    "#         Compute sentence embeddings for each sentence provided a list of text strings.\n",
    "\n",
    "#         Args:\n",
    "#             input_text (List[str]) - list of input sentences to encode\n",
    "\n",
    "#         Returns:\n",
    "#             sentence_embeddings (torch.Tensor)\n",
    "\n",
    "#         \"\"\"\n",
    "#         # tokenize sentences\n",
    "#         encoded_input = self.sbert_tokenizer(\n",
    "#             input_text,\n",
    "#             padding=True,\n",
    "#             truncation=True,\n",
    "#             max_length=256,\n",
    "#             return_tensors=\"pt\",\n",
    "#         )\n",
    "\n",
    "#         # to device\n",
    "#         self.sbert_model.eval()\n",
    "#         self.sbert_model.to(self.device)\n",
    "#         encoded_input = {k: v.to(self.device) for k, v in encoded_input.items()}\n",
    "\n",
    "#         # compute token embeddings\n",
    "#         with torch.no_grad():\n",
    "#             model_output = self.sbert_model(**encoded_input)\n",
    "\n",
    "#         return (\n",
    "#             self.mean_pooling(model_output, encoded_input[\"attention_mask\"])\n",
    "#             .detach()\n",
    "#             .cpu()\n",
    "#         )\n",
    "\n",
    "#     def calculate_content_preservation_score(self):\n",
    "#         pass\n",
    "\n",
    "#     def calculate_feature_attribution_scores(\n",
    "#         self, text: str, class_index: int = 0, as_norm: bool = False\n",
    "#     ) -> List[tuple]:\n",
    "#         \"\"\"\n",
    "#         Calcualte feature attributions using integrated gradients.\n",
    "\n",
    "#         Args:\n",
    "#             text (str) - text to get attributions for\n",
    "#             class_index (int) - Optional output index to provide attributions for\n",
    "\n",
    "#         \"\"\"\n",
    "#         attributions = self.explainer(text, index=class_index)\n",
    "\n",
    "#         if as_norm:\n",
    "#             idx, values = zip(*attributions)\n",
    "#             df = pd.DataFrame(data=values, index=idx, columns=[\"score\"])\n",
    "#             df[\"abs_norm\"] = df[\"score\"].abs() / df[\"score\"].abs().sum()\n",
    "#             df = df.sort_values(by=\"abs_norm\", ascending=False)\n",
    "#             df[\"cumulative\"] = df[\"abs_norm\"].cumsum()\n",
    "#             return df\n",
    "\n",
    "#         return attributions\n",
    "\n",
    "#     def visualize_feature_attribution_scores(self, text: str, class_index: int = 0):\n",
    "#         \"\"\"\n",
    "#         Calculates and visualizes feature attributions using integrated gradients.\n",
    "\n",
    "#         Args:\n",
    "#             text (str) - text to get attributions for\n",
    "#             class_index (int) - Optional output index to provide attributions for\n",
    "\n",
    "#         \"\"\"\n",
    "#         self.explainer(text, index=class_index)\n",
    "#         self.explainer.visualize()\n",
    "\n",
    "#     @staticmethod\n",
    "#     def cosine_similarity(tensor1: torch.Tensor, tensor2: torch.Tensor) -> List[float]:\n",
    "#         \"\"\" \"\"\"\n",
    "\n",
    "#         assert tensor1.shape == tensor2.shape\n",
    "\n",
    "#         # ensure 2D tensor\n",
    "#         if tensor1.ndim == 1:\n",
    "#             tensor1 = tensor1.unsqueeze(0)\n",
    "#             tensor2 = tensor2.unsqueeze(0)\n",
    "\n",
    "#         cos_sim = torch.nn.CosineSimilarity(dim=1, eps=1e-6)\n",
    "#         return cos_sim(tensor1, tensor2).tolist()\n",
    "\n",
    "#     @staticmethod\n",
    "#     def mean_pooling(model_output, attention_mask):\n",
    "#         \"\"\"\n",
    "#         Peform mean pooling over token embeddings to create sentence embedding. Here we take\n",
    "#         the attention mask into account for correct averaging on active token positions.\n",
    "\n",
    "#         CODE BORROWED FROM:\n",
    "#             https://www.sbert.net/examples/applications/computing-embeddings/README.html#sentence-embeddings-with-transformers\n",
    "\n",
    "#         \"\"\"\n",
    "\n",
    "#         token_embeddings = model_output[\n",
    "#             0\n",
    "#         ]  # First element of model_output contains all token embeddings\n",
    "#         input_mask_expanded = (\n",
    "#             attention_mask.unsqueeze(-1).expand(token_embeddings.size()).float()\n",
    "#         )\n",
    "#         sum_embeddings = torch.sum(token_embeddings * input_mask_expanded, 1)\n",
    "#         sum_mask = torch.clamp(input_mask_expanded.sum(1), min=1e-9)\n",
    "\n",
    "#         return sum_embeddings / sum_mask"
   ]
  },
  {
   "cell_type": "code",
   "execution_count": 4,
   "id": "1091ea05-26a1-4bdb-a413-455f27fae97e",
   "metadata": {},
   "outputs": [],
   "source": [
    "from src.inference import ContentPreservationScorer\n",
    "\n",
    "SBERT_MODEL_PATH = \"sentence-transformers/all-MiniLM-L6-v2\"\n",
    "CLS_MODEL_PATH = (\n",
    "    \"../models/TRIAL-J-shuffle-lr_3en06-epoch_15-wd_.1-bs_32/checkpoint-67466\"\n",
    ")\n",
    "cps = ContentPreservationScorer(\n",
    "    sbert_model_identifier=SBERT_MODEL_PATH, cls_model_identifier=CLS_MODEL_PATH\n",
    ")"
   ]
  },
  {
   "cell_type": "code",
   "execution_count": 5,
   "id": "d8c20727-bed3-4468-af3a-676cced5b32b",
   "metadata": {},
   "outputs": [],
   "source": [
    "test = \"david crane, born august 10, 1957, is an extremely successful american writer and producer.\"\n",
    "test2 = \"david crane, born august 10, 1957, is an [MASK] [MASK] american writer and producer.\"\n",
    "test3 = \"david crane, born august 10, 1957, is an [MASK] [MASK] producer.\"\n",
    "test4 = \"in 2011 he followed up this debacle with anther rude letter to a constituent.\"\n",
    "test5 = \"he born august 10, 1957, is an [MASK] [MASK] american writer and producer.\""
   ]
  },
  {
   "cell_type": "markdown",
   "id": "3f3ac379-7c97-4c9b-9a21-f012079ac410",
   "metadata": {
    "tags": []
   },
   "source": [
    "#### Check that tokenizer handels [MASK] appropriately"
   ]
  },
  {
   "cell_type": "code",
   "execution_count": 6,
   "id": "ccdf14bf-a0a9-4eee-ba67-6d33f646b7a1",
   "metadata": {
    "tags": []
   },
   "outputs": [
    {
     "data": {
      "text/plain": [
       "[101,\n",
       " 2585,\n",
       " 11308,\n",
       " 1010,\n",
       " 2141,\n",
       " 2257,\n",
       " 2184,\n",
       " 1010,\n",
       " 3890,\n",
       " 1010,\n",
       " 2003,\n",
       " 2019,\n",
       " 5186,\n",
       " 3144,\n",
       " 2137,\n",
       " 3213,\n",
       " 1998,\n",
       " 3135,\n",
       " 1012,\n",
       " 102]"
      ]
     },
     "execution_count": 6,
     "metadata": {},
     "output_type": "execute_result"
    }
   ],
   "source": [
    "cps.sbert_tokenizer.encode(test)"
   ]
  },
  {
   "cell_type": "code",
   "execution_count": 7,
   "id": "fbab6ced-bf3c-45ad-91be-70a3a5491b93",
   "metadata": {},
   "outputs": [
    {
     "data": {
      "text/plain": [
       "True"
      ]
     },
     "execution_count": 7,
     "metadata": {},
     "output_type": "execute_result"
    }
   ],
   "source": [
    "103 in cps.sbert_tokenizer.encode(test2)"
   ]
  },
  {
   "cell_type": "markdown",
   "id": "5c77e815-d52d-493e-b13e-f0ca776961c7",
   "metadata": {},
   "source": [
    "#### Check that embedding similarity makes sense with [MASK] tokens"
   ]
  },
  {
   "cell_type": "code",
   "execution_count": 79,
   "id": "c131bb1f-09d9-4367-a747-0e0e14e60df4",
   "metadata": {},
   "outputs": [],
   "source": [
    "embeddings = cps.compute_sentence_embeddings([test, test2, test3, test4, test5])"
   ]
  },
  {
   "cell_type": "code",
   "execution_count": 84,
   "id": "0f913546-56a8-4414-a16e-33fde71a0a55",
   "metadata": {},
   "outputs": [
    {
     "data": {
      "text/plain": [
       "torch.Size([2, 384])"
      ]
     },
     "execution_count": 84,
     "metadata": {},
     "output_type": "execute_result"
    }
   ],
   "source": [
    "embeddings[0:2].shape"
   ]
  },
  {
   "cell_type": "code",
   "execution_count": 86,
   "id": "e3d25b6b-57f9-42dc-b6c9-bec367d95c0b",
   "metadata": {},
   "outputs": [
    {
     "data": {
      "text/plain": [
       "[0.05591192841529846, 0.07668484002351761]"
      ]
     },
     "execution_count": 86,
     "metadata": {},
     "output_type": "execute_result"
    }
   ],
   "source": [
    "cps.cosine_similarity(embeddings[0:2], embeddings[2:4])"
   ]
  },
  {
   "cell_type": "code",
   "execution_count": null,
   "id": "688cc8c4-8269-4b2a-96ac-82b760f9a9c4",
   "metadata": {},
   "outputs": [],
   "source": []
  },
  {
   "cell_type": "code",
   "execution_count": 9,
   "id": "7c142b81-87c7-4ab4-a01c-504e7266245e",
   "metadata": {},
   "outputs": [
    {
     "data": {
      "text/plain": [
       "[1.0]"
      ]
     },
     "execution_count": 9,
     "metadata": {},
     "output_type": "execute_result"
    }
   ],
   "source": [
    "# check that embeddings are deterministic with MASKs\n",
    "cps.cosine_similarity(embeddings[0], embeddings[0])"
   ]
  },
  {
   "cell_type": "code",
   "execution_count": 10,
   "id": "0ab76216-e4be-461c-8a12-b2fefa97bfb7",
   "metadata": {},
   "outputs": [
    {
     "data": {
      "text/plain": [
       "([0.6621647477149963], [0.6621647477149963])"
      ]
     },
     "execution_count": 10,
     "metadata": {},
     "output_type": "execute_result"
    }
   ],
   "source": [
    "# check if cosine similarity is symmetric\n",
    "cps.cosine_similarity(embeddings[0], embeddings[1]), cps.cosine_similarity(\n",
    "    embeddings[1], embeddings[0]\n",
    ")"
   ]
  },
  {
   "cell_type": "code",
   "execution_count": 11,
   "id": "9cced235-c328-4068-8ae5-8ebe8dcc2e0a",
   "metadata": {},
   "outputs": [
    {
     "data": {
      "text/plain": [
       "([0.9872645735740662], [0.06394388526678085])"
      ]
     },
     "execution_count": 11,
     "metadata": {},
     "output_type": "execute_result"
    }
   ],
   "source": [
    "# check that test2/test3 are more similar than test2/test4\n",
    "cps.cosine_similarity(embeddings[1], embeddings[2]), cps.cosine_similarity(\n",
    "    embeddings[2], embeddings[3]\n",
    ")"
   ]
  },
  {
   "cell_type": "markdown",
   "id": "7f84b767-5caa-49cd-a6e8-f461a09a255b",
   "metadata": {},
   "source": [
    "**NOTE:** Looks like the tokenizer can appropriately handle [MASK] special tokens in input text and maintains a reasonable understanding of similarity. Will need to further vet this with real TST examples during evaluation..."
   ]
  },
  {
   "cell_type": "markdown",
   "id": "84746e1e-6d7b-40a0-bfb2-7d5cc4bcff11",
   "metadata": {},
   "source": [
    "### Key Question: Is style masking or style removal more effective at producing similar embeddings?\n",
    "\n",
    "From the paper: With respect to text modification, style masking may be more suitable as it, on average for WMD, exhibits a higher correlation with human judgments.\n",
    "\n"
   ]
  },
  {
   "cell_type": "markdown",
   "id": "bff64aa0-333f-403f-84e1-70d81b6049a8",
   "metadata": {},
   "source": [
    "#### Style Masking"
   ]
  },
  {
   "cell_type": "code",
   "execution_count": 12,
   "id": "92425a3d-31ec-4b4a-bc77-e35a2cfcd293",
   "metadata": {},
   "outputs": [],
   "source": [
    "# original\n",
    "xs = \"Harvard is a beautiful school.\"\n",
    "xn = \"Harvard is a school.\"\n",
    "embeddings = cps.compute_sentence_embeddings([xs, xn])"
   ]
  },
  {
   "cell_type": "code",
   "execution_count": 13,
   "id": "131ee075-b42d-4a68-8711-0dbfbaf68875",
   "metadata": {},
   "outputs": [
    {
     "data": {
      "text/plain": [
       "[0.8552916049957275]"
      ]
     },
     "execution_count": 13,
     "metadata": {},
     "output_type": "execute_result"
    }
   ],
   "source": [
    "cps.cosine_similarity(embeddings[0], embeddings[1])"
   ]
  },
  {
   "cell_type": "code",
   "execution_count": 14,
   "id": "b4133f31-82a0-464c-9dd2-2000279df079",
   "metadata": {},
   "outputs": [],
   "source": [
    "# masked\n",
    "xs = \"Harvard is a [MASK] school.\"\n",
    "xn = \"Harvard is a school.\"\n",
    "embeddings = cps.compute_sentence_embeddings([xs, xn])"
   ]
  },
  {
   "cell_type": "code",
   "execution_count": 15,
   "id": "60ddaf9f-187f-4040-a17a-87af3b2a5394",
   "metadata": {},
   "outputs": [
    {
     "data": {
      "text/plain": [
       "[0.7207826972007751]"
      ]
     },
     "execution_count": 15,
     "metadata": {},
     "output_type": "execute_result"
    }
   ],
   "source": [
    "cps.cosine_similarity(embeddings[0], embeddings[1])"
   ]
  },
  {
   "cell_type": "code",
   "execution_count": 16,
   "id": "e81fd253-034f-43e7-98fa-87a1b21d8e43",
   "metadata": {},
   "outputs": [],
   "source": [
    "# padded???\n",
    "xs = \"Harvard is a [PAD] school.\"\n",
    "xn = \"Harvard is a school.\"\n",
    "embeddings = cps.compute_sentence_embeddings([xs, xn])"
   ]
  },
  {
   "cell_type": "code",
   "execution_count": 17,
   "id": "89af5f9f-950c-4e73-a888-f1db9278bb59",
   "metadata": {},
   "outputs": [
    {
     "data": {
      "text/plain": [
       "[0.9652663469314575]"
      ]
     },
     "execution_count": 17,
     "metadata": {},
     "output_type": "execute_result"
    }
   ],
   "source": [
    "cps.cosine_similarity(embeddings[0], embeddings[1])"
   ]
  },
  {
   "cell_type": "markdown",
   "id": "d2f93c03-b4b5-4eed-99bf-4c133c6fa500",
   "metadata": {},
   "source": [
    "**Observation:** \n",
    "- It appears that `[MASK]` replacements result in lower similarity than the original... this is not what we want.\n",
    "- In this example, since we just have a single style word, removal will result in an identical sentence with identical embeddings.\n",
    "- It looks like the `[PAD]` (or empty) token actually works pretty well here\n"
   ]
  },
  {
   "cell_type": "markdown",
   "id": "12e843c6-782b-433d-9cae-b4703ee47728",
   "metadata": {},
   "source": [
    "#### Style Removal\n",
    "\n",
    "What about sentences that are more complex..."
   ]
  },
  {
   "cell_type": "code",
   "execution_count": 18,
   "id": "61e64cd6-e79a-4778-ba5c-413e97ea649a",
   "metadata": {},
   "outputs": [
    {
     "data": {
      "text/plain": [
       "[0.9796276092529297]"
      ]
     },
     "execution_count": 18,
     "metadata": {},
     "output_type": "execute_result"
    }
   ],
   "source": [
    "# baseline\n",
    "xs = \"double indemnity is perhaps the most well known, definitive example of a genre of films called film noir.\"\n",
    "xn = \"double indemnity is an example of a genre of films called film noir.\"\n",
    "embeddings = cps.compute_sentence_embeddings([xs, xn])\n",
    "cps.cosine_similarity(embeddings[0], embeddings[1])"
   ]
  },
  {
   "cell_type": "code",
   "execution_count": 19,
   "id": "f0da33c5-9d1d-4846-94db-68ac182d1f09",
   "metadata": {},
   "outputs": [
    {
     "data": {
      "text/plain": [
       "[0.6714310050010681]"
      ]
     },
     "execution_count": 19,
     "metadata": {},
     "output_type": "execute_result"
    }
   ],
   "source": [
    "# masking\n",
    "xs = \"double indemnity is perhaps the [MASK] [MASK] [MASK] [MASK] [MASK] example of a genre of films called film noir.\"\n",
    "xn = \"double indemnity is an example of a genre of films called film noir.\"\n",
    "embeddings = cps.compute_sentence_embeddings([xs, xn])\n",
    "cps.cosine_similarity(embeddings[0], embeddings[1])"
   ]
  },
  {
   "cell_type": "code",
   "execution_count": 20,
   "id": "a4ab0913-41d1-4d9d-9120-5abae47e11bb",
   "metadata": {},
   "outputs": [
    {
     "data": {
      "text/plain": [
       "[0.9909889698028564]"
      ]
     },
     "execution_count": 20,
     "metadata": {},
     "output_type": "execute_result"
    }
   ],
   "source": [
    "# removal\n",
    "xs = \"double indemnity is perhaps the example of a genre of films called film noir.\"\n",
    "xn = \"double indemnity is an example of a genre of films called film noir.\"\n",
    "embeddings = cps.compute_sentence_embeddings([xs, xn])\n",
    "cps.cosine_similarity(embeddings[0], embeddings[1])"
   ]
  },
  {
   "cell_type": "code",
   "execution_count": 21,
   "id": "f719a7f0-dd4f-4eeb-a472-d91d06e9173e",
   "metadata": {},
   "outputs": [
    {
     "data": {
      "text/plain": [
       "[0.9467359185218811]"
      ]
     },
     "execution_count": 21,
     "metadata": {},
     "output_type": "execute_result"
    }
   ],
   "source": [
    "# pad\n",
    "xs = \"double indemnity is perhaps the [PAD] [PAD] [PAD] [PAD] [PAD] example of a genre of films called film noir.\"\n",
    "xn = \"double indemnity is an example of a genre of films called film noir.\"\n",
    "embeddings = cps.compute_sentence_embeddings([xs, xn])\n",
    "cps.cosine_similarity(embeddings[0], embeddings[1])"
   ]
  },
  {
   "cell_type": "markdown",
   "id": "50aa9eb6-532e-4479-899b-09dbace872ea",
   "metadata": {},
   "source": [
    "Will need to experiment more with both PAD and removal...as of now, looks like removal might better??"
   ]
  },
  {
   "cell_type": "markdown",
   "id": "7fe41757-04ab-4336-a4ac-ca9c917dfbc2",
   "metadata": {},
   "source": [
    "## Build style lexicon for the WNC corpus using word attributions from fine-tuned Style Classificaiton transfomer"
   ]
  },
  {
   "cell_type": "markdown",
   "id": "d91ce7b7-2b04-4849-ba06-2ccd1e65e56e",
   "metadata": {},
   "source": [
    "### First, let's get Integrated Gradients working with Captum + Transformers-Interpret\n",
    "\n",
    "**Integrated gradients** is a method originally proposed in Sundararajan et al., “Axiomatic Attribution for Deep Networks” that aims to attribute an importance value to each input feature of a machine learning model based on the gradients of the model output with respect to the input. In particular, integrated gradients defines an attribution value for each feature by considering the integral of the gradients taken along a straight path from a baseline instance  to the input instance.\n",
    "\n",
    "1. First generate a  \"baseline input\" (informationless) of same size as input example. \n",
    "    - For images, all black picture or random pixels. \n",
    "    - For text, a squence of [PAD] tokens. Ex: `[CLS] + [PAD]*(seq_len-2) + [SEP]`\n",
    "2. Then, generate a linear interpolation between the baseline and the original image. You can think of interpolated images as small steps in the feature space between your baseline and input.\n",
    "\n",
    "![](./images/cat_interp.png)\n",
    "\n",
    "3. Calculate gradients at each step between output predictions with respect to input features. Here a step is a process of introducing more and more information with regards to baseline input. N_steps is a tunable parameter (50 - 300)\n",
    "4. Approximate the integral between your baseline and input by accumulating (cumulative average) these local gradients.\n",
    "\n",
    "\n",
    "Integrated Gradients satisfy both of the following principles and thus represent a good attribution method:\n",
    "\n",
    "- Sensitivity: If an input feature changes the classification score in any way, this input should have an attribution value not equal to 0.\n",
    "- Implementation invariance: The result of the attribution should not depend on the design and structure of the neural network. Thus, if two different neural networks provide the same prediction for the same inputs, their attribution values should also be identical.\n",
    "\n",
    "In this case, we are using `captum.attr.LayerIntegratedGradients` as this allows us to specify a specific layers' inputs/features for which we should assign an importance (attribution) score for. The embedding layer is a standard choice since we can not compute attributions for the raw input due to its discrete structure (i.e., we cannot differentiate the output of the model with respect to the discrete input representation). So we calculate attributions of the output with respect to the embedding layer."
   ]
  },
  {
   "cell_type": "code",
   "execution_count": 23,
   "id": "83183c42-1350-4889-ad82-92cf2117d86a",
   "metadata": {},
   "outputs": [],
   "source": [
    "# !pip3 install transformers-interpret\n",
    "import torch\n",
    "from transformers import AutoModelForSequenceClassification, AutoTokenizer\n",
    "from transformers_interpret import SequenceClassificationExplainer\n",
    "\n",
    "DEVICE = torch.cuda.current_device() if torch.cuda.is_available() else -1\n",
    "CLS_MODEL_PATH = (\n",
    "    \"../models/TRIAL-J-shuffle-lr_3en06-epoch_15-wd_.1-bs_32/checkpoint-67466\"\n",
    ")"
   ]
  },
  {
   "cell_type": "code",
   "execution_count": 24,
   "id": "38bb2fe4-c05e-4564-b2b7-57d8e1837c34",
   "metadata": {},
   "outputs": [],
   "source": [
    "# initialize model\n",
    "model = AutoModelForSequenceClassification.from_pretrained(CLS_MODEL_PATH)\n",
    "model.to(DEVICE)\n",
    "tokenizer = AutoTokenizer.from_pretrained(CLS_MODEL_PATH)"
   ]
  },
  {
   "cell_type": "code",
   "execution_count": 25,
   "id": "f78b50d8-b050-4679-a06a-e48c79804730",
   "metadata": {},
   "outputs": [],
   "source": [
    "test = \"there is an iconic roadhouse, named 'spud's roadhouse', which sells fuel and general shop items , has great meals and has accommodation.\"\n",
    "test = \"chemical abstracts service (cas), a division of the american chemical society, is considered the world's leading source of chemical information.\"\n",
    "test = \"Harvard is a beautiful school.\"\n",
    "test = \" while this subjective assignment of probabilities works well for rolling dice and lotteries, it could also lead to the conclusion that the sun is as likely to rise as to not rise tomorrow morning.\""
   ]
  },
  {
   "cell_type": "code",
   "execution_count": 26,
   "id": "94ab9f2a-64c4-4083-86d8-69d590891382",
   "metadata": {},
   "outputs": [
    {
     "data": {
      "text/plain": [
       "' while this subjective assignment of probabilities works well for rolling dice and lotteries, it could also lead to the conclusion that the sun is as likely to rise as to not rise tomorrow morning.'"
      ]
     },
     "execution_count": 26,
     "metadata": {},
     "output_type": "execute_result"
    }
   ],
   "source": [
    "test"
   ]
  },
  {
   "cell_type": "code",
   "execution_count": 27,
   "id": "023048c8-c0d7-4ab7-9a5e-e6debe049b46",
   "metadata": {},
   "outputs": [],
   "source": [
    "cls_explainer = SequenceClassificationExplainer(model, tokenizer)\n",
    "word_attributions = cls_explainer(test)"
   ]
  },
  {
   "cell_type": "code",
   "execution_count": 28,
   "id": "6caab62b-2bed-43e0-9fe7-0b4ba081e4d4",
   "metadata": {},
   "outputs": [
    {
     "data": {
      "text/plain": [
       "array(1)"
      ]
     },
     "execution_count": 28,
     "metadata": {},
     "output_type": "execute_result"
    }
   ],
   "source": [
    "cls_explainer.predicted_class_index"
   ]
  },
  {
   "cell_type": "markdown",
   "id": "01a87420-8550-4753-b0c4-fe9e81f4153e",
   "metadata": {},
   "source": [
    "Positive attribution numbers indicate a word contributes positively towards the predicted class, while negative numbers indicate a word contributes negatively towards the predicted class."
   ]
  },
  {
   "cell_type": "code",
   "execution_count": 29,
   "id": "3bd23a1d-8458-47fc-b53d-04fa352da936",
   "metadata": {},
   "outputs": [
    {
     "data": {
      "text/plain": [
       "[('[CLS]', 0.0),\n",
       " ('while', -0.05562276560527483),\n",
       " ('this', 0.31572708215573253),\n",
       " ('subjective', -0.8101973803499191),\n",
       " ('assignment', 0.03173935615089209),\n",
       " ('of', 0.02112331660612022),\n",
       " ('pro', 0.16803625226122712),\n",
       " ('##ba', -0.018405146228170802),\n",
       " ('##bilities', 0.08167633396706857),\n",
       " ('works', 0.0563545170894699),\n",
       " ('well', 0.13795646377426188),\n",
       " ('for', 0.04543423120455286),\n",
       " ('rolling', 0.07429776432569471),\n",
       " ('dice', 0.046204336916178465),\n",
       " ('and', -0.013798630256154106),\n",
       " ('lot', 0.09643428609621504),\n",
       " ('##ter', 0.008971655794682445),\n",
       " ('##ies', 0.01728700645220686),\n",
       " (',', -0.08273477807915612),\n",
       " ('it', 0.07640487502611108),\n",
       " ('could', 0.16356631829091245),\n",
       " ('also', 0.20277085910904877),\n",
       " ('lead', -0.006952292595890877),\n",
       " ('to', 0.09858786597049837),\n",
       " ('the', 0.005357464683234663),\n",
       " ('conclusion', 0.021443037809708222),\n",
       " ('that', -0.009867101889515595),\n",
       " ('the', 0.06205404295747667),\n",
       " ('sun', 0.09670662006933084),\n",
       " ('is', 0.08571196298974545),\n",
       " ('as', 0.0505901646890793),\n",
       " ('likely', 0.07037472959231506),\n",
       " ('to', 0.0545439152286877),\n",
       " ('rise', 0.06020159174558515),\n",
       " ('as', 0.10976302458801213),\n",
       " ('to', 0.0322388592818839),\n",
       " ('not', 0.0900313738529604),\n",
       " ('rise', 0.07883317815992594),\n",
       " ('tomorrow', 0.06798506444529745),\n",
       " ('morning', 0.0503133382192434),\n",
       " ('.', 0.046676334515604115),\n",
       " ('[SEP]', 0.0)]"
      ]
     },
     "execution_count": 29,
     "metadata": {},
     "output_type": "execute_result"
    }
   ],
   "source": [
    "word_attributions"
   ]
  },
  {
   "cell_type": "markdown",
   "id": "dafe84e0-3231-48fb-b9d5-9d5ea43e4967",
   "metadata": {},
   "source": [
    "Sometimes the numeric attributions can be difficult to read particularly in instances where there is a lot of text. To help with that we also provide the visualize() method that utilizes Captum's in built viz library to create a HTML file highlighting the attributions.\n",
    "\n",
    "By default, attributions are always calculated with respect to the predicted class (0 in this case)"
   ]
  },
  {
   "cell_type": "code",
   "execution_count": 31,
   "id": "e7db586a-fc19-481d-9cce-b3b46240c109",
   "metadata": {},
   "outputs": [
    {
     "data": {
      "text/html": [
       "<table width: 100%><div style=\"border-top: 1px solid; margin-top: 5px;             padding-top: 5px; display: inline-block\"><b>Legend: </b><span style=\"display: inline-block; width: 10px; height: 10px;                 border: 1px solid; background-color:                 hsl(0, 75%, 60%)\"></span> Negative  <span style=\"display: inline-block; width: 10px; height: 10px;                 border: 1px solid; background-color:                 hsl(0, 75%, 100%)\"></span> Neutral  <span style=\"display: inline-block; width: 10px; height: 10px;                 border: 1px solid; background-color:                 hsl(120, 75%, 50%)\"></span> Positive  </div><tr><th>True Label</th><th>Predicted Label</th><th>Attribution Label</th><th>Attribution Score</th><th>Word Importance</th><tr><td><text style=\"padding-right:2em\"><b>1</b></text></td><td><text style=\"padding-right:2em\"><b>LABEL_1 (0.58)</b></text></td><td><text style=\"padding-right:2em\"><b>LABEL_1</b></text></td><td><text style=\"padding-right:2em\"><b>1.63</b></text></td><td><mark style=\"background-color: hsl(0, 75%, 100%); opacity:1.0;                     line-height:1.75\"><font color=\"black\"> [CLS]                    </font></mark><mark style=\"background-color: hsl(0, 75%, 98%); opacity:1.0;                     line-height:1.75\"><font color=\"black\"> while                    </font></mark><mark style=\"background-color: hsl(120, 75%, 85%); opacity:1.0;                     line-height:1.75\"><font color=\"black\"> this                    </font></mark><mark style=\"background-color: hsl(0, 75%, 68%); opacity:1.0;                     line-height:1.75\"><font color=\"black\"> subjective                    </font></mark><mark style=\"background-color: hsl(120, 75%, 99%); opacity:1.0;                     line-height:1.75\"><font color=\"black\"> assignment                    </font></mark><mark style=\"background-color: hsl(120, 75%, 99%); opacity:1.0;                     line-height:1.75\"><font color=\"black\"> of                    </font></mark><mark style=\"background-color: hsl(120, 75%, 92%); opacity:1.0;                     line-height:1.75\"><font color=\"black\"> pro                    </font></mark><mark style=\"background-color: hsl(0, 75%, 100%); opacity:1.0;                     line-height:1.75\"><font color=\"black\"> ##ba                    </font></mark><mark style=\"background-color: hsl(120, 75%, 96%); opacity:1.0;                     line-height:1.75\"><font color=\"black\"> ##bilities                    </font></mark><mark style=\"background-color: hsl(120, 75%, 98%); opacity:1.0;                     line-height:1.75\"><font color=\"black\"> works                    </font></mark><mark style=\"background-color: hsl(120, 75%, 94%); opacity:1.0;                     line-height:1.75\"><font color=\"black\"> well                    </font></mark><mark style=\"background-color: hsl(120, 75%, 98%); opacity:1.0;                     line-height:1.75\"><font color=\"black\"> for                    </font></mark><mark style=\"background-color: hsl(120, 75%, 97%); opacity:1.0;                     line-height:1.75\"><font color=\"black\"> rolling                    </font></mark><mark style=\"background-color: hsl(120, 75%, 98%); opacity:1.0;                     line-height:1.75\"><font color=\"black\"> dice                    </font></mark><mark style=\"background-color: hsl(0, 75%, 100%); opacity:1.0;                     line-height:1.75\"><font color=\"black\"> and                    </font></mark><mark style=\"background-color: hsl(120, 75%, 96%); opacity:1.0;                     line-height:1.75\"><font color=\"black\"> lot                    </font></mark><mark style=\"background-color: hsl(120, 75%, 100%); opacity:1.0;                     line-height:1.75\"><font color=\"black\"> ##ter                    </font></mark><mark style=\"background-color: hsl(120, 75%, 100%); opacity:1.0;                     line-height:1.75\"><font color=\"black\"> ##ies                    </font></mark><mark style=\"background-color: hsl(0, 75%, 97%); opacity:1.0;                     line-height:1.75\"><font color=\"black\"> ,                    </font></mark><mark style=\"background-color: hsl(120, 75%, 97%); opacity:1.0;                     line-height:1.75\"><font color=\"black\"> it                    </font></mark><mark style=\"background-color: hsl(120, 75%, 92%); opacity:1.0;                     line-height:1.75\"><font color=\"black\"> could                    </font></mark><mark style=\"background-color: hsl(120, 75%, 90%); opacity:1.0;                     line-height:1.75\"><font color=\"black\"> also                    </font></mark><mark style=\"background-color: hsl(0, 75%, 100%); opacity:1.0;                     line-height:1.75\"><font color=\"black\"> lead                    </font></mark><mark style=\"background-color: hsl(120, 75%, 96%); opacity:1.0;                     line-height:1.75\"><font color=\"black\"> to                    </font></mark><mark style=\"background-color: hsl(120, 75%, 100%); opacity:1.0;                     line-height:1.75\"><font color=\"black\"> the                    </font></mark><mark style=\"background-color: hsl(120, 75%, 99%); opacity:1.0;                     line-height:1.75\"><font color=\"black\"> conclusion                    </font></mark><mark style=\"background-color: hsl(0, 75%, 100%); opacity:1.0;                     line-height:1.75\"><font color=\"black\"> that                    </font></mark><mark style=\"background-color: hsl(120, 75%, 97%); opacity:1.0;                     line-height:1.75\"><font color=\"black\"> the                    </font></mark><mark style=\"background-color: hsl(120, 75%, 96%); opacity:1.0;                     line-height:1.75\"><font color=\"black\"> sun                    </font></mark><mark style=\"background-color: hsl(120, 75%, 96%); opacity:1.0;                     line-height:1.75\"><font color=\"black\"> is                    </font></mark><mark style=\"background-color: hsl(120, 75%, 98%); opacity:1.0;                     line-height:1.75\"><font color=\"black\"> as                    </font></mark><mark style=\"background-color: hsl(120, 75%, 97%); opacity:1.0;                     line-height:1.75\"><font color=\"black\"> likely                    </font></mark><mark style=\"background-color: hsl(120, 75%, 98%); opacity:1.0;                     line-height:1.75\"><font color=\"black\"> to                    </font></mark><mark style=\"background-color: hsl(120, 75%, 97%); opacity:1.0;                     line-height:1.75\"><font color=\"black\"> rise                    </font></mark><mark style=\"background-color: hsl(120, 75%, 95%); opacity:1.0;                     line-height:1.75\"><font color=\"black\"> as                    </font></mark><mark style=\"background-color: hsl(120, 75%, 99%); opacity:1.0;                     line-height:1.75\"><font color=\"black\"> to                    </font></mark><mark style=\"background-color: hsl(120, 75%, 96%); opacity:1.0;                     line-height:1.75\"><font color=\"black\"> not                    </font></mark><mark style=\"background-color: hsl(120, 75%, 97%); opacity:1.0;                     line-height:1.75\"><font color=\"black\"> rise                    </font></mark><mark style=\"background-color: hsl(120, 75%, 97%); opacity:1.0;                     line-height:1.75\"><font color=\"black\"> tomorrow                    </font></mark><mark style=\"background-color: hsl(120, 75%, 98%); opacity:1.0;                     line-height:1.75\"><font color=\"black\"> morning                    </font></mark><mark style=\"background-color: hsl(120, 75%, 98%); opacity:1.0;                     line-height:1.75\"><font color=\"black\"> .                    </font></mark><mark style=\"background-color: hsl(0, 75%, 100%); opacity:1.0;                     line-height:1.75\"><font color=\"black\"> [SEP]                    </font></mark></td><tr></table>"
      ],
      "text/plain": [
       "<IPython.core.display.HTML object>"
      ]
     },
     "metadata": {},
     "output_type": "display_data"
    }
   ],
   "source": [
    "cls_explainer.visualize()"
   ]
  },
  {
   "cell_type": "markdown",
   "id": "1427c4a6-93ce-455c-bd2d-a5148ec2259a",
   "metadata": {},
   "source": [
    "**Explaining Attributions for Non Predicted Class** <br>\n",
    "Attribution explanations are not limited to the predicted class. Let's test a more complex sentence that contains mixed sentiments.\n",
    "\n",
    "In the example below we pass class_index=1 as an argument indicating we would like the attributions to be explained for the NEUTRAL class regardless of what the actual prediction is. Effectively because this is a binary classifier we are getting the inverse attributions."
   ]
  },
  {
   "cell_type": "code",
   "execution_count": 32,
   "id": "b53a07ef-cb16-4609-be80-834ae66cc10e",
   "metadata": {},
   "outputs": [
    {
     "name": "stdout",
     "output_type": "stream",
     "text": [
      "CPU times: user 150 ms, sys: 29.2 ms, total: 180 ms\n",
      "Wall time: 177 ms\n"
     ]
    }
   ],
   "source": [
    "%%time\n",
    "cls_explainer_inverse = SequenceClassificationExplainer(model, tokenizer)\n",
    "word_attributions_inverse = cls_explainer_inverse(test, index=1)"
   ]
  },
  {
   "cell_type": "code",
   "execution_count": 33,
   "id": "6ec5cb29-cd02-45f7-94e8-b6fb4df5ef87",
   "metadata": {},
   "outputs": [
    {
     "data": {
      "text/html": [
       "<table width: 100%><div style=\"border-top: 1px solid; margin-top: 5px;             padding-top: 5px; display: inline-block\"><b>Legend: </b><span style=\"display: inline-block; width: 10px; height: 10px;                 border: 1px solid; background-color:                 hsl(0, 75%, 60%)\"></span> Negative  <span style=\"display: inline-block; width: 10px; height: 10px;                 border: 1px solid; background-color:                 hsl(0, 75%, 100%)\"></span> Neutral  <span style=\"display: inline-block; width: 10px; height: 10px;                 border: 1px solid; background-color:                 hsl(120, 75%, 50%)\"></span> Positive  </div><tr><th>True Label</th><th>Predicted Label</th><th>Attribution Label</th><th>Attribution Score</th><th>Word Importance</th><tr><td><text style=\"padding-right:2em\"><b>1</b></text></td><td><text style=\"padding-right:2em\"><b>LABEL_1 (0.58)</b></text></td><td><text style=\"padding-right:2em\"><b>LABEL_1</b></text></td><td><text style=\"padding-right:2em\"><b>1.63</b></text></td><td><mark style=\"background-color: hsl(0, 75%, 100%); opacity:1.0;                     line-height:1.75\"><font color=\"black\"> [CLS]                    </font></mark><mark style=\"background-color: hsl(0, 75%, 98%); opacity:1.0;                     line-height:1.75\"><font color=\"black\"> while                    </font></mark><mark style=\"background-color: hsl(120, 75%, 85%); opacity:1.0;                     line-height:1.75\"><font color=\"black\"> this                    </font></mark><mark style=\"background-color: hsl(0, 75%, 68%); opacity:1.0;                     line-height:1.75\"><font color=\"black\"> subjective                    </font></mark><mark style=\"background-color: hsl(120, 75%, 99%); opacity:1.0;                     line-height:1.75\"><font color=\"black\"> assignment                    </font></mark><mark style=\"background-color: hsl(120, 75%, 99%); opacity:1.0;                     line-height:1.75\"><font color=\"black\"> of                    </font></mark><mark style=\"background-color: hsl(120, 75%, 92%); opacity:1.0;                     line-height:1.75\"><font color=\"black\"> pro                    </font></mark><mark style=\"background-color: hsl(0, 75%, 100%); opacity:1.0;                     line-height:1.75\"><font color=\"black\"> ##ba                    </font></mark><mark style=\"background-color: hsl(120, 75%, 96%); opacity:1.0;                     line-height:1.75\"><font color=\"black\"> ##bilities                    </font></mark><mark style=\"background-color: hsl(120, 75%, 98%); opacity:1.0;                     line-height:1.75\"><font color=\"black\"> works                    </font></mark><mark style=\"background-color: hsl(120, 75%, 94%); opacity:1.0;                     line-height:1.75\"><font color=\"black\"> well                    </font></mark><mark style=\"background-color: hsl(120, 75%, 98%); opacity:1.0;                     line-height:1.75\"><font color=\"black\"> for                    </font></mark><mark style=\"background-color: hsl(120, 75%, 97%); opacity:1.0;                     line-height:1.75\"><font color=\"black\"> rolling                    </font></mark><mark style=\"background-color: hsl(120, 75%, 98%); opacity:1.0;                     line-height:1.75\"><font color=\"black\"> dice                    </font></mark><mark style=\"background-color: hsl(0, 75%, 100%); opacity:1.0;                     line-height:1.75\"><font color=\"black\"> and                    </font></mark><mark style=\"background-color: hsl(120, 75%, 96%); opacity:1.0;                     line-height:1.75\"><font color=\"black\"> lot                    </font></mark><mark style=\"background-color: hsl(120, 75%, 100%); opacity:1.0;                     line-height:1.75\"><font color=\"black\"> ##ter                    </font></mark><mark style=\"background-color: hsl(120, 75%, 100%); opacity:1.0;                     line-height:1.75\"><font color=\"black\"> ##ies                    </font></mark><mark style=\"background-color: hsl(0, 75%, 97%); opacity:1.0;                     line-height:1.75\"><font color=\"black\"> ,                    </font></mark><mark style=\"background-color: hsl(120, 75%, 97%); opacity:1.0;                     line-height:1.75\"><font color=\"black\"> it                    </font></mark><mark style=\"background-color: hsl(120, 75%, 92%); opacity:1.0;                     line-height:1.75\"><font color=\"black\"> could                    </font></mark><mark style=\"background-color: hsl(120, 75%, 90%); opacity:1.0;                     line-height:1.75\"><font color=\"black\"> also                    </font></mark><mark style=\"background-color: hsl(0, 75%, 100%); opacity:1.0;                     line-height:1.75\"><font color=\"black\"> lead                    </font></mark><mark style=\"background-color: hsl(120, 75%, 96%); opacity:1.0;                     line-height:1.75\"><font color=\"black\"> to                    </font></mark><mark style=\"background-color: hsl(120, 75%, 100%); opacity:1.0;                     line-height:1.75\"><font color=\"black\"> the                    </font></mark><mark style=\"background-color: hsl(120, 75%, 99%); opacity:1.0;                     line-height:1.75\"><font color=\"black\"> conclusion                    </font></mark><mark style=\"background-color: hsl(0, 75%, 100%); opacity:1.0;                     line-height:1.75\"><font color=\"black\"> that                    </font></mark><mark style=\"background-color: hsl(120, 75%, 97%); opacity:1.0;                     line-height:1.75\"><font color=\"black\"> the                    </font></mark><mark style=\"background-color: hsl(120, 75%, 96%); opacity:1.0;                     line-height:1.75\"><font color=\"black\"> sun                    </font></mark><mark style=\"background-color: hsl(120, 75%, 96%); opacity:1.0;                     line-height:1.75\"><font color=\"black\"> is                    </font></mark><mark style=\"background-color: hsl(120, 75%, 98%); opacity:1.0;                     line-height:1.75\"><font color=\"black\"> as                    </font></mark><mark style=\"background-color: hsl(120, 75%, 97%); opacity:1.0;                     line-height:1.75\"><font color=\"black\"> likely                    </font></mark><mark style=\"background-color: hsl(120, 75%, 98%); opacity:1.0;                     line-height:1.75\"><font color=\"black\"> to                    </font></mark><mark style=\"background-color: hsl(120, 75%, 97%); opacity:1.0;                     line-height:1.75\"><font color=\"black\"> rise                    </font></mark><mark style=\"background-color: hsl(120, 75%, 95%); opacity:1.0;                     line-height:1.75\"><font color=\"black\"> as                    </font></mark><mark style=\"background-color: hsl(120, 75%, 99%); opacity:1.0;                     line-height:1.75\"><font color=\"black\"> to                    </font></mark><mark style=\"background-color: hsl(120, 75%, 96%); opacity:1.0;                     line-height:1.75\"><font color=\"black\"> not                    </font></mark><mark style=\"background-color: hsl(120, 75%, 97%); opacity:1.0;                     line-height:1.75\"><font color=\"black\"> rise                    </font></mark><mark style=\"background-color: hsl(120, 75%, 97%); opacity:1.0;                     line-height:1.75\"><font color=\"black\"> tomorrow                    </font></mark><mark style=\"background-color: hsl(120, 75%, 98%); opacity:1.0;                     line-height:1.75\"><font color=\"black\"> morning                    </font></mark><mark style=\"background-color: hsl(120, 75%, 98%); opacity:1.0;                     line-height:1.75\"><font color=\"black\"> .                    </font></mark><mark style=\"background-color: hsl(0, 75%, 100%); opacity:1.0;                     line-height:1.75\"><font color=\"black\"> [SEP]                    </font></mark></td><tr></table>"
      ],
      "text/plain": [
       "<IPython.core.display.HTML object>"
      ]
     },
     "metadata": {},
     "output_type": "display_data"
    }
   ],
   "source": [
    "cls_explainer_inverse.visualize()"
   ]
  },
  {
   "cell_type": "code",
   "execution_count": 34,
   "id": "7d2b3ea9-051e-4b3e-8a4f-a0a2ec149568",
   "metadata": {},
   "outputs": [
    {
     "data": {
      "text/plain": [
       "[('[CLS]', 0.0),\n",
       " ('while', -0.05562276560527483),\n",
       " ('this', 0.31572708215573253),\n",
       " ('subjective', -0.8101973803499191),\n",
       " ('assignment', 0.03173935615089209),\n",
       " ('of', 0.02112331660612022),\n",
       " ('pro', 0.16803625226122712),\n",
       " ('##ba', -0.018405146228170802),\n",
       " ('##bilities', 0.08167633396706857),\n",
       " ('works', 0.0563545170894699),\n",
       " ('well', 0.13795646377426188),\n",
       " ('for', 0.04543423120455286),\n",
       " ('rolling', 0.07429776432569471),\n",
       " ('dice', 0.046204336916178465),\n",
       " ('and', -0.013798630256154106),\n",
       " ('lot', 0.09643428609621504),\n",
       " ('##ter', 0.008971655794682445),\n",
       " ('##ies', 0.01728700645220686),\n",
       " (',', -0.08273477807915612),\n",
       " ('it', 0.07640487502611108),\n",
       " ('could', 0.16356631829091245),\n",
       " ('also', 0.20277085910904877),\n",
       " ('lead', -0.006952292595890877),\n",
       " ('to', 0.09858786597049837),\n",
       " ('the', 0.005357464683234663),\n",
       " ('conclusion', 0.021443037809708222),\n",
       " ('that', -0.009867101889515595),\n",
       " ('the', 0.06205404295747667),\n",
       " ('sun', 0.09670662006933084),\n",
       " ('is', 0.08571196298974545),\n",
       " ('as', 0.0505901646890793),\n",
       " ('likely', 0.07037472959231506),\n",
       " ('to', 0.0545439152286877),\n",
       " ('rise', 0.06020159174558515),\n",
       " ('as', 0.10976302458801213),\n",
       " ('to', 0.0322388592818839),\n",
       " ('not', 0.0900313738529604),\n",
       " ('rise', 0.07883317815992594),\n",
       " ('tomorrow', 0.06798506444529745),\n",
       " ('morning', 0.0503133382192434),\n",
       " ('.', 0.046676334515604115),\n",
       " ('[SEP]', 0.0)]"
      ]
     },
     "execution_count": 34,
     "metadata": {},
     "output_type": "execute_result"
    }
   ],
   "source": [
    "word_attributions_inverse"
   ]
  },
  {
   "cell_type": "code",
   "execution_count": 35,
   "id": "0c447b35-f99f-4b86-a147-77d8d3724d7a",
   "metadata": {},
   "outputs": [
    {
     "data": {
      "text/plain": [
       "Embedding(30522, 768, padding_idx=0)"
      ]
     },
     "execution_count": 35,
     "metadata": {},
     "output_type": "execute_result"
    }
   ],
   "source": [
    "model.get_input_embeddings()"
   ]
  },
  {
   "cell_type": "markdown",
   "id": "012ab628-5e12-4979-97e1-55256b263320",
   "metadata": {},
   "source": [
    "### ~~Build a style lexicon~~\n",
    "\n",
    "Let's assemble a style lexicon from feature attributions using integrated gradients from our BERT model that was trained for text classification on WNC. To do so, we'll:\n",
    "- Aggregate token attribution scores for each token across all sentences in the training dataset (upon which the model was trained).\n",
    "- Attribution scores for each feature will be calculated based on a fixed class target (class 0: subjective) to ensure consistent attribution direction\n",
    "- We will populate the lexicon with features/tokens having the highest absolute average score"
   ]
  },
  {
   "cell_type": "markdown",
   "id": "1b2adf80-0cfe-4f88-9fa9-22bb9055bc43",
   "metadata": {
    "tags": []
   },
   "source": [
    "#### **OLD StyleLexicon Class**"
   ]
  },
  {
   "cell_type": "code",
   "execution_count": 140,
   "id": "5a950f48-651f-435c-877a-cb86ec2d9007",
   "metadata": {
    "tags": []
   },
   "outputs": [],
   "source": [
    "# from typing import List\n",
    "# from collections import defaultdict\n",
    "\n",
    "# import torch\n",
    "# from tqdm import tqdm\n",
    "# import pandas as pd\n",
    "# from datasets import load_from_disk\n",
    "# from transformers import AutoModelForSequenceClassification, AutoTokenizer\n",
    "# from transformers_interpret import SequenceClassificationExplainer\n",
    "\n",
    "\n",
    "# class StyleLexicon:\n",
    "#     def __init__(\n",
    "#         self,\n",
    "#         model_identifier: str,\n",
    "#         dataset_identifier: str,\n",
    "#     ):\n",
    "#         self.model_identifier = model_identifier\n",
    "#         self.dataset_identifier = dataset_identifier\n",
    "#         self.device = torch.cuda.current_device() if torch.cuda.is_available() else -1\n",
    "\n",
    "#         self._initialize_hf_artifacts()\n",
    "#         self._construct_dataloader()\n",
    "\n",
    "#     def _initialize_hf_artifacts(self):\n",
    "#         \"\"\"\n",
    "#         Initialize a HuggingFace dataset, tokenizer, and model according\n",
    "#         to the provided identifier. Then initialize the word attribution\n",
    "#         explainer with the huggingface model+tokenizer\n",
    "\n",
    "#         \"\"\"\n",
    "#         self.dataset = load_from_disk(self.dataset_identifier)\n",
    "#         self.tokenizer = AutoTokenizer.from_pretrained(self.model_identifier)\n",
    "#         self.model = AutoModelForSequenceClassification.from_pretrained(\n",
    "#             self.model_identifier\n",
    "#         )\n",
    "#         self.model.to(self.device)\n",
    "#         self.explainer = SequenceClassificationExplainer(self.model, self.tokenizer)\n",
    "\n",
    "#     def _construct_dataloader(self):\n",
    "#         \"\"\"\n",
    "#         Initialize the dataloader on train dataset.\n",
    "\n",
    "#         Note: Here we are batching untokenized sentences since the downstream\n",
    "#         SequenceClassificationExplainer operates on raw text. Note batch size of\n",
    "#         just 1 due to limitations of SequenceClassificationExplainer in handling batches.\n",
    "\n",
    "#         \"\"\"\n",
    "#         self.dataloader = torch.utils.data.DataLoader(\n",
    "#             self.dataset[\"train\"],\n",
    "#             batch_size=1,\n",
    "#             drop_last=False,\n",
    "#             pin_memory=True,\n",
    "#             shuffle=False,\n",
    "#         )\n",
    "\n",
    "#     def calculate_feature_attribution_scores(\n",
    "#         self, text: str, class_index: int = 0, as_norm: bool = False\n",
    "#     ) -> List[tuple]:\n",
    "#         \"\"\"\n",
    "#         Calcualte feature attributions using integrated gradients.\n",
    "\n",
    "#         Args:\n",
    "#             text (str) - text to get attributions for\n",
    "#             class_index (int) - Optional output index to provide attributions for\n",
    "\n",
    "#         \"\"\"\n",
    "#         attributions = self.explainer(text, index=class_index)\n",
    "\n",
    "#         if as_norm:\n",
    "#             idx, values = zip(*attributions)\n",
    "#             df = pd.DataFrame(data=values, index=idx, columns=[\"score\"])\n",
    "#             df[\"abs_norm\"] = df[\"score\"].abs() / df[\"score\"].abs().sum()\n",
    "#             df = df.sort_values(by=\"abs_norm\", ascending=False)\n",
    "#             df[\"cumulative\"] = df[\"abs_norm\"].cumsum()\n",
    "#             return df\n",
    "\n",
    "#         return attributions\n",
    "\n",
    "#     def visualize_feature_attribution_scores(self, text: str, class_index: int = 0):\n",
    "#         \"\"\"\n",
    "#         Calculates and visualizes feature attributions using integrated gradients.\n",
    "\n",
    "#         Args:\n",
    "#             text (str) - text to get attributions for\n",
    "#             class_index (int) - Optional output index to provide attributions for\n",
    "\n",
    "#         \"\"\"\n",
    "#         self.explainer(text, index=class_index)\n",
    "#         self.explainer.visualize()\n",
    "\n",
    "#     def collect_feature_attribution_scores(self):\n",
    "\n",
    "#         score_collection = defaultdict(list)\n",
    "\n",
    "#         for i, batch in enumerate(tqdm(self.dataloader)):\n",
    "\n",
    "#             text = batch[\"text\"][0]\n",
    "#             attributions = self.calculate_feature_attribution_scores(text)\n",
    "#             for token, score in attributions:\n",
    "#                 score_collection[token].append(score)\n",
    "\n",
    "#             if i == 5000:\n",
    "#                 break\n",
    "#         return score_collection"
   ]
  },
  {
   "cell_type": "code",
   "execution_count": 141,
   "id": "ee0665a0-ff83-4071-8ba2-ee8ba897fdf8",
   "metadata": {},
   "outputs": [],
   "source": [
    "# CLS_DATASET_PATH = \"/home/cdsw/data/processed/WNC_cls_full\"\n",
    "# CLS_MODEL_PATH = (\n",
    "#     \"../models/TRIAL-J-shuffle-lr_3en06-epoch_15-wd_.1-bs_32/checkpoint-67466\"\n",
    "# )\n",
    "# style_lexicon = StyleLexicon(\n",
    "#     model_identifier=CLS_MODEL_PATH, dataset_identifier=CLS_DATASET_PATH\n",
    "# )"
   ]
  },
  {
   "cell_type": "markdown",
   "id": "c41ccad6-827e-46d6-9bc9-a94f2bc28a61",
   "metadata": {
    "jp-MarkdownHeadingCollapsed": true,
    "tags": []
   },
   "source": [
    "### Perform \"Token Style Masking\" on a per sentence basis rather than with lexicon dictionary lookup\n",
    "\n",
    "By trying to create a style lexicon, all we really are doing is aggregating high fidelity, local feature importances into low fidelity, global feature importances. This aggregation results in significant information loss, and in fact, kind of negates the power of using a contextual embedding model like BERT in the first place.\n",
    "\n",
    "Instead, we will take advantage of the contextual details and mask/remove tokens on a per sentence basis using word attribution scores as the signal for which tokens to mask/remove. This leaves a few open questions:\n",
    "- What thresholds on word attribution scores for masking?\n",
    "- What threshold on number of words for masking?\n",
    "- Can I develop these based on looking at distributions from train set?\n",
    "\n",
    "\n",
    "**Options:**\n",
    "1. [MEH] Find word attribution score outliers in each sentence using IQR.\n",
    "    - Problem is that most of these won't have an outlier by this definition.\n",
    "    - So, we'd have to change 1.5*IQR to something more lenient (like 1.1*IQR).. this is arbitrary and will be different for each.\n",
    "2. [BAD] Mask top N words proportional to length of sentence\n",
    "    - Problem is that long sentence could have just 1 really strong style word and we'd be masking a number of tokens erroneously just because of length\n",
    "    - Also choosing number of tokens to mask by lenght is arbitrary.\n",
    "3. [MAYBE OK] Mask all tokens that represent up to top X% of style attribution. Or just top token if top token accounts for more than X%.\n",
    "    - Better because it doesn't enforce hard rule on number of tokens to mask\n",
    "    - Rather its however many tokens make up the strongest X% of style attribution\n",
    "    - Problem is still arbitrary determination of that X% threshold...also if no strong style words, then we mask MANY tokens\n",
    "    - Select X to err on the side of precision like the paper --> \"We opt for higher precision and lower recall to minimize the risk of removing content words, which are essential to evaluations of content preservation\"\n"
   ]
  },
  {
   "cell_type": "markdown",
   "id": "912384a6-bdcb-4b90-b9b7-03fa035f6687",
   "metadata": {
    "tags": []
   },
   "source": [
    "### Examples"
   ]
  },
  {
   "cell_type": "markdown",
   "id": "f494dc3b-ca8c-49f6-87db-58ac0027a71a",
   "metadata": {},
   "source": [
    "#### Ex1\n",
    "\n",
    "- \"contagious\" gets broken up and only the latter parts of the word are considered subejctive...\n",
    "- \"pop\" is considered to be subjective??"
   ]
  },
  {
   "cell_type": "code",
   "execution_count": 36,
   "id": "8e323fe3-881d-40a6-8c7a-9035e4e40dc6",
   "metadata": {},
   "outputs": [],
   "source": [
    "ex1_s = (\n",
    "    \"the band plays an engaging and contagious rhythm known as brega pop and calypso.\"\n",
    ")\n",
    "ex1_n = \"the band plays a rhythm known as brega pop and calypso.\""
   ]
  },
  {
   "cell_type": "code",
   "execution_count": 37,
   "id": "4ead2885-9b3f-4ab9-920e-101c1af2d5b6",
   "metadata": {},
   "outputs": [
    {
     "data": {
      "text/html": [
       "<table width: 100%><div style=\"border-top: 1px solid; margin-top: 5px;             padding-top: 5px; display: inline-block\"><b>Legend: </b><span style=\"display: inline-block; width: 10px; height: 10px;                 border: 1px solid; background-color:                 hsl(0, 75%, 60%)\"></span> Negative  <span style=\"display: inline-block; width: 10px; height: 10px;                 border: 1px solid; background-color:                 hsl(0, 75%, 100%)\"></span> Neutral  <span style=\"display: inline-block; width: 10px; height: 10px;                 border: 1px solid; background-color:                 hsl(120, 75%, 50%)\"></span> Positive  </div><tr><th>True Label</th><th>Predicted Label</th><th>Attribution Label</th><th>Attribution Score</th><th>Word Importance</th><tr><td><text style=\"padding-right:2em\"><b>0</b></text></td><td><text style=\"padding-right:2em\"><b>LABEL_0 (0.99)</b></text></td><td><text style=\"padding-right:2em\"><b>LABEL_0</b></text></td><td><text style=\"padding-right:2em\"><b>1.01</b></text></td><td><mark style=\"background-color: hsl(0, 75%, 100%); opacity:1.0;                     line-height:1.75\"><font color=\"black\"> [CLS]                    </font></mark><mark style=\"background-color: hsl(120, 75%, 98%); opacity:1.0;                     line-height:1.75\"><font color=\"black\"> the                    </font></mark><mark style=\"background-color: hsl(120, 75%, 87%); opacity:1.0;                     line-height:1.75\"><font color=\"black\"> band                    </font></mark><mark style=\"background-color: hsl(120, 75%, 94%); opacity:1.0;                     line-height:1.75\"><font color=\"black\"> plays                    </font></mark><mark style=\"background-color: hsl(0, 75%, 91%); opacity:1.0;                     line-height:1.75\"><font color=\"black\"> an                    </font></mark><mark style=\"background-color: hsl(120, 75%, 99%); opacity:1.0;                     line-height:1.75\"><font color=\"black\"> engaging                    </font></mark><mark style=\"background-color: hsl(0, 75%, 98%); opacity:1.0;                     line-height:1.75\"><font color=\"black\"> and                    </font></mark><mark style=\"background-color: hsl(0, 75%, 95%); opacity:1.0;                     line-height:1.75\"><font color=\"black\"> con                    </font></mark><mark style=\"background-color: hsl(120, 75%, 76%); opacity:1.0;                     line-height:1.75\"><font color=\"black\"> ##tag                    </font></mark><mark style=\"background-color: hsl(120, 75%, 76%); opacity:1.0;                     line-height:1.75\"><font color=\"black\"> ##ious                    </font></mark><mark style=\"background-color: hsl(0, 75%, 90%); opacity:1.0;                     line-height:1.75\"><font color=\"black\"> rhythm                    </font></mark><mark style=\"background-color: hsl(0, 75%, 97%); opacity:1.0;                     line-height:1.75\"><font color=\"black\"> known                    </font></mark><mark style=\"background-color: hsl(0, 75%, 95%); opacity:1.0;                     line-height:1.75\"><font color=\"black\"> as                    </font></mark><mark style=\"background-color: hsl(120, 75%, 99%); opacity:1.0;                     line-height:1.75\"><font color=\"black\"> br                    </font></mark><mark style=\"background-color: hsl(120, 75%, 99%); opacity:1.0;                     line-height:1.75\"><font color=\"black\"> ##ega                    </font></mark><mark style=\"background-color: hsl(120, 75%, 78%); opacity:1.0;                     line-height:1.75\"><font color=\"black\"> pop                    </font></mark><mark style=\"background-color: hsl(120, 75%, 98%); opacity:1.0;                     line-height:1.75\"><font color=\"black\"> and                    </font></mark><mark style=\"background-color: hsl(0, 75%, 99%); opacity:1.0;                     line-height:1.75\"><font color=\"black\"> cal                    </font></mark><mark style=\"background-color: hsl(0, 75%, 96%); opacity:1.0;                     line-height:1.75\"><font color=\"black\"> ##yp                    </font></mark><mark style=\"background-color: hsl(120, 75%, 92%); opacity:1.0;                     line-height:1.75\"><font color=\"black\"> ##so                    </font></mark><mark style=\"background-color: hsl(0, 75%, 97%); opacity:1.0;                     line-height:1.75\"><font color=\"black\"> .                    </font></mark><mark style=\"background-color: hsl(0, 75%, 100%); opacity:1.0;                     line-height:1.75\"><font color=\"black\"> [SEP]                    </font></mark></td><tr></table>"
      ],
      "text/plain": [
       "<IPython.core.display.HTML object>"
      ]
     },
     "metadata": {},
     "output_type": "display_data"
    }
   ],
   "source": [
    "cps.visualize_feature_attribution_scores(ex1_s)\n",
    "t = cps.calculate_feature_attribution_scores(ex1_s, as_norm=True)"
   ]
  },
  {
   "cell_type": "code",
   "execution_count": 38,
   "id": "ec31c4a3-5ec0-4ff9-a125-d29099b33112",
   "metadata": {},
   "outputs": [
    {
     "data": {
      "text/plain": [
       "<AxesSubplot:>"
      ]
     },
     "execution_count": 38,
     "metadata": {},
     "output_type": "execute_result"
    },
    {
     "data": {
      "image/png": "[encoded data removed]",
      "text/plain": [
       "<Figure size 432x288 with 1 Axes>"
      ]
     },
     "metadata": {
      "needs_background": "light"
     },
     "output_type": "display_data"
    }
   ],
   "source": [
    "t.score.plot(kind=\"box\")"
   ]
  },
  {
   "cell_type": "code",
   "execution_count": 39,
   "id": "91c1a4d4-fe9f-457a-adba-3ad352066808",
   "metadata": {},
   "outputs": [
    {
     "data": {
      "text/plain": [
       "9     0.496893\n",
       "8     0.482248\n",
       "15    0.455500\n",
       "2     0.260220\n",
       "10   -0.258252\n",
       "4    -0.237123\n",
       "19    0.164310\n",
       "7    -0.137872\n",
       "3     0.134762\n",
       "12   -0.131099\n",
       "18   -0.114123\n",
       "11   -0.097646\n",
       "20   -0.086629\n",
       "6    -0.058542\n",
       "1     0.043909\n",
       "16    0.041001\n",
       "17   -0.035094\n",
       "13    0.034263\n",
       "5     0.033845\n",
       "14    0.020360\n",
       "0     0.000000\n",
       "21    0.000000\n",
       "Name: score, dtype: float64"
      ]
     },
     "execution_count": 39,
     "metadata": {},
     "output_type": "execute_result"
    }
   ],
   "source": [
    "t.score"
   ]
  },
  {
   "cell_type": "code",
   "execution_count": null,
   "id": "d650e1ae-0e60-4423-879a-ec498cdb7c99",
   "metadata": {},
   "outputs": [],
   "source": []
  },
  {
   "cell_type": "code",
   "execution_count": null,
   "id": "61a310a5-fd28-4a4c-be09-8122ee2ceb66",
   "metadata": {},
   "outputs": [],
   "source": []
  },
  {
   "cell_type": "code",
   "execution_count": 40,
   "id": "76937cdb-7327-40f1-80c4-598faeae1a1e",
   "metadata": {},
   "outputs": [
    {
     "data": {
      "text/html": [
       "<table width: 100%><div style=\"border-top: 1px solid; margin-top: 5px;             padding-top: 5px; display: inline-block\"><b>Legend: </b><span style=\"display: inline-block; width: 10px; height: 10px;                 border: 1px solid; background-color:                 hsl(0, 75%, 60%)\"></span> Negative  <span style=\"display: inline-block; width: 10px; height: 10px;                 border: 1px solid; background-color:                 hsl(0, 75%, 100%)\"></span> Neutral  <span style=\"display: inline-block; width: 10px; height: 10px;                 border: 1px solid; background-color:                 hsl(120, 75%, 50%)\"></span> Positive  </div><tr><th>True Label</th><th>Predicted Label</th><th>Attribution Label</th><th>Attribution Score</th><th>Word Importance</th><tr><td><text style=\"padding-right:2em\"><b>0</b></text></td><td><text style=\"padding-right:2em\"><b>LABEL_1 (0.01)</b></text></td><td><text style=\"padding-right:2em\"><b>LABEL_0</b></text></td><td><text style=\"padding-right:2em\"><b>-2.61</b></text></td><td><mark style=\"background-color: hsl(0, 75%, 100%); opacity:1.0;                     line-height:1.75\"><font color=\"black\"> [CLS]                    </font></mark><mark style=\"background-color: hsl(0, 75%, 90%); opacity:1.0;                     line-height:1.75\"><font color=\"black\"> the                    </font></mark><mark style=\"background-color: hsl(0, 75%, 88%); opacity:1.0;                     line-height:1.75\"><font color=\"black\"> band                    </font></mark><mark style=\"background-color: hsl(0, 75%, 98%); opacity:1.0;                     line-height:1.75\"><font color=\"black\"> plays                    </font></mark><mark style=\"background-color: hsl(0, 75%, 73%); opacity:1.0;                     line-height:1.75\"><font color=\"black\"> a                    </font></mark><mark style=\"background-color: hsl(0, 75%, 85%); opacity:1.0;                     line-height:1.75\"><font color=\"black\"> rhythm                    </font></mark><mark style=\"background-color: hsl(0, 75%, 84%); opacity:1.0;                     line-height:1.75\"><font color=\"black\"> known                    </font></mark><mark style=\"background-color: hsl(0, 75%, 96%); opacity:1.0;                     line-height:1.75\"><font color=\"black\"> as                    </font></mark><mark style=\"background-color: hsl(120, 75%, 100%); opacity:1.0;                     line-height:1.75\"><font color=\"black\"> br                    </font></mark><mark style=\"background-color: hsl(120, 75%, 100%); opacity:1.0;                     line-height:1.75\"><font color=\"black\"> ##ega                    </font></mark><mark style=\"background-color: hsl(0, 75%, 99%); opacity:1.0;                     line-height:1.75\"><font color=\"black\"> pop                    </font></mark><mark style=\"background-color: hsl(0, 75%, 96%); opacity:1.0;                     line-height:1.75\"><font color=\"black\"> and                    </font></mark><mark style=\"background-color: hsl(0, 75%, 99%); opacity:1.0;                     line-height:1.75\"><font color=\"black\"> cal                    </font></mark><mark style=\"background-color: hsl(0, 75%, 97%); opacity:1.0;                     line-height:1.75\"><font color=\"black\"> ##yp                    </font></mark><mark style=\"background-color: hsl(0, 75%, 98%); opacity:1.0;                     line-height:1.75\"><font color=\"black\"> ##so                    </font></mark><mark style=\"background-color: hsl(0, 75%, 99%); opacity:1.0;                     line-height:1.75\"><font color=\"black\"> .                    </font></mark><mark style=\"background-color: hsl(0, 75%, 100%); opacity:1.0;                     line-height:1.75\"><font color=\"black\"> [SEP]                    </font></mark></td><tr></table>"
      ],
      "text/plain": [
       "<IPython.core.display.HTML object>"
      ]
     },
     "metadata": {},
     "output_type": "display_data"
    },
    {
     "data": {
      "text/html": [
       "<div>\n",
       "<style scoped>\n",
       "    .dataframe tbody tr th:only-of-type {\n",
       "        vertical-align: middle;\n",
       "    }\n",
       "\n",
       "    .dataframe tbody tr th {\n",
       "        vertical-align: top;\n",
       "    }\n",
       "\n",
       "    .dataframe thead th {\n",
       "        text-align: right;\n",
       "    }\n",
       "</style>\n",
       "<table border=\"1\" class=\"dataframe\">\n",
       "  <thead>\n",
       "    <tr style=\"text-align: right;\">\n",
       "      <th></th>\n",
       "      <th>token</th>\n",
       "      <th>score</th>\n",
       "      <th>abs_norm</th>\n",
       "      <th>cumulative</th>\n",
       "    </tr>\n",
       "  </thead>\n",
       "  <tbody>\n",
       "    <tr>\n",
       "      <th>4</th>\n",
       "      <td>a</td>\n",
       "      <td>-0.686558</td>\n",
       "      <td>0.260588</td>\n",
       "      <td>0.260588</td>\n",
       "    </tr>\n",
       "    <tr>\n",
       "      <th>6</th>\n",
       "      <td>known</td>\n",
       "      <td>-0.401658</td>\n",
       "      <td>0.152452</td>\n",
       "      <td>0.413040</td>\n",
       "    </tr>\n",
       "    <tr>\n",
       "      <th>5</th>\n",
       "      <td>rhythm</td>\n",
       "      <td>-0.380303</td>\n",
       "      <td>0.144347</td>\n",
       "      <td>0.557386</td>\n",
       "    </tr>\n",
       "    <tr>\n",
       "      <th>2</th>\n",
       "      <td>band</td>\n",
       "      <td>-0.319601</td>\n",
       "      <td>0.121307</td>\n",
       "      <td>0.678693</td>\n",
       "    </tr>\n",
       "    <tr>\n",
       "      <th>1</th>\n",
       "      <td>the</td>\n",
       "      <td>-0.272519</td>\n",
       "      <td>0.103436</td>\n",
       "      <td>0.782129</td>\n",
       "    </tr>\n",
       "    <tr>\n",
       "      <th>11</th>\n",
       "      <td>and</td>\n",
       "      <td>-0.117419</td>\n",
       "      <td>0.044567</td>\n",
       "      <td>0.826696</td>\n",
       "    </tr>\n",
       "    <tr>\n",
       "      <th>7</th>\n",
       "      <td>as</td>\n",
       "      <td>-0.110312</td>\n",
       "      <td>0.041869</td>\n",
       "      <td>0.868566</td>\n",
       "    </tr>\n",
       "    <tr>\n",
       "      <th>13</th>\n",
       "      <td>##yp</td>\n",
       "      <td>-0.082348</td>\n",
       "      <td>0.031256</td>\n",
       "      <td>0.899822</td>\n",
       "    </tr>\n",
       "    <tr>\n",
       "      <th>14</th>\n",
       "      <td>##so</td>\n",
       "      <td>-0.070352</td>\n",
       "      <td>0.026703</td>\n",
       "      <td>0.926524</td>\n",
       "    </tr>\n",
       "    <tr>\n",
       "      <th>3</th>\n",
       "      <td>plays</td>\n",
       "      <td>-0.059806</td>\n",
       "      <td>0.022700</td>\n",
       "      <td>0.949224</td>\n",
       "    </tr>\n",
       "    <tr>\n",
       "      <th>15</th>\n",
       "      <td>.</td>\n",
       "      <td>-0.045542</td>\n",
       "      <td>0.017286</td>\n",
       "      <td>0.966510</td>\n",
       "    </tr>\n",
       "    <tr>\n",
       "      <th>10</th>\n",
       "      <td>pop</td>\n",
       "      <td>-0.043753</td>\n",
       "      <td>0.016607</td>\n",
       "      <td>0.983116</td>\n",
       "    </tr>\n",
       "    <tr>\n",
       "      <th>12</th>\n",
       "      <td>cal</td>\n",
       "      <td>-0.029894</td>\n",
       "      <td>0.011346</td>\n",
       "      <td>0.994463</td>\n",
       "    </tr>\n",
       "    <tr>\n",
       "      <th>8</th>\n",
       "      <td>br</td>\n",
       "      <td>0.010176</td>\n",
       "      <td>0.003862</td>\n",
       "      <td>0.998325</td>\n",
       "    </tr>\n",
       "    <tr>\n",
       "      <th>9</th>\n",
       "      <td>##ega</td>\n",
       "      <td>0.004412</td>\n",
       "      <td>0.001675</td>\n",
       "      <td>1.000000</td>\n",
       "    </tr>\n",
       "    <tr>\n",
       "      <th>0</th>\n",
       "      <td>[CLS]</td>\n",
       "      <td>0.000000</td>\n",
       "      <td>0.000000</td>\n",
       "      <td>1.000000</td>\n",
       "    </tr>\n",
       "    <tr>\n",
       "      <th>16</th>\n",
       "      <td>[SEP]</td>\n",
       "      <td>0.000000</td>\n",
       "      <td>0.000000</td>\n",
       "      <td>1.000000</td>\n",
       "    </tr>\n",
       "  </tbody>\n",
       "</table>\n",
       "</div>"
      ],
      "text/plain": [
       "     token     score  abs_norm  cumulative\n",
       "4        a -0.686558  0.260588    0.260588\n",
       "6    known -0.401658  0.152452    0.413040\n",
       "5   rhythm -0.380303  0.144347    0.557386\n",
       "2     band -0.319601  0.121307    0.678693\n",
       "1      the -0.272519  0.103436    0.782129\n",
       "11     and -0.117419  0.044567    0.826696\n",
       "7       as -0.110312  0.041869    0.868566\n",
       "13    ##yp -0.082348  0.031256    0.899822\n",
       "14    ##so -0.070352  0.026703    0.926524\n",
       "3    plays -0.059806  0.022700    0.949224\n",
       "15       . -0.045542  0.017286    0.966510\n",
       "10     pop -0.043753  0.016607    0.983116\n",
       "12     cal -0.029894  0.011346    0.994463\n",
       "8       br  0.010176  0.003862    0.998325\n",
       "9    ##ega  0.004412  0.001675    1.000000\n",
       "0    [CLS]  0.000000  0.000000    1.000000\n",
       "16   [SEP]  0.000000  0.000000    1.000000"
      ]
     },
     "execution_count": 40,
     "metadata": {},
     "output_type": "execute_result"
    }
   ],
   "source": [
    "cps.visualize_feature_attribution_scores(ex1_n)\n",
    "cps.calculate_feature_attribution_scores(ex1_n, as_norm=True)"
   ]
  },
  {
   "cell_type": "markdown",
   "id": "def16996-fcf2-4bf9-b4d0-1f89b6e93ca9",
   "metadata": {},
   "source": [
    "#### Ex2\n",
    "- Gets prestigious and moving as subjective modifiers.\n",
    "- However, also things \"parents\" is a subjective term..."
   ]
  },
  {
   "cell_type": "code",
   "execution_count": 41,
   "id": "bac7941a-427c-4524-9f9d-b308b8e9861f",
   "metadata": {},
   "outputs": [],
   "source": [
    "ex2_s = \"building a difference received the prestigious seal of approval from the parents television council for the moving episode 'page-bailie bunch'.\"\n",
    "ex2_n = \"building a difference received the seal of approval from the parents television council for the episode 'page-bailie bunch'.\""
   ]
  },
  {
   "cell_type": "code",
   "execution_count": 42,
   "id": "f2d7877a-7776-4cf3-8923-0c97090673b4",
   "metadata": {},
   "outputs": [
    {
     "data": {
      "text/html": [
       "<table width: 100%><div style=\"border-top: 1px solid; margin-top: 5px;             padding-top: 5px; display: inline-block\"><b>Legend: </b><span style=\"display: inline-block; width: 10px; height: 10px;                 border: 1px solid; background-color:                 hsl(0, 75%, 60%)\"></span> Negative  <span style=\"display: inline-block; width: 10px; height: 10px;                 border: 1px solid; background-color:                 hsl(0, 75%, 100%)\"></span> Neutral  <span style=\"display: inline-block; width: 10px; height: 10px;                 border: 1px solid; background-color:                 hsl(120, 75%, 50%)\"></span> Positive  </div><tr><th>True Label</th><th>Predicted Label</th><th>Attribution Label</th><th>Attribution Score</th><th>Word Importance</th><tr><td><text style=\"padding-right:2em\"><b>0</b></text></td><td><text style=\"padding-right:2em\"><b>LABEL_0 (0.99)</b></text></td><td><text style=\"padding-right:2em\"><b>LABEL_0</b></text></td><td><text style=\"padding-right:2em\"><b>0.53</b></text></td><td><mark style=\"background-color: hsl(0, 75%, 100%); opacity:1.0;                     line-height:1.75\"><font color=\"black\"> [CLS]                    </font></mark><mark style=\"background-color: hsl(120, 75%, 95%); opacity:1.0;                     line-height:1.75\"><font color=\"black\"> building                    </font></mark><mark style=\"background-color: hsl(0, 75%, 98%); opacity:1.0;                     line-height:1.75\"><font color=\"black\"> a                    </font></mark><mark style=\"background-color: hsl(0, 75%, 100%); opacity:1.0;                     line-height:1.75\"><font color=\"black\"> difference                    </font></mark><mark style=\"background-color: hsl(120, 75%, 94%); opacity:1.0;                     line-height:1.75\"><font color=\"black\"> received                    </font></mark><mark style=\"background-color: hsl(0, 75%, 99%); opacity:1.0;                     line-height:1.75\"><font color=\"black\"> the                    </font></mark><mark style=\"background-color: hsl(120, 75%, 85%); opacity:1.0;                     line-height:1.75\"><font color=\"black\"> prestigious                    </font></mark><mark style=\"background-color: hsl(0, 75%, 98%); opacity:1.0;                     line-height:1.75\"><font color=\"black\"> seal                    </font></mark><mark style=\"background-color: hsl(120, 75%, 100%); opacity:1.0;                     line-height:1.75\"><font color=\"black\"> of                    </font></mark><mark style=\"background-color: hsl(120, 75%, 100%); opacity:1.0;                     line-height:1.75\"><font color=\"black\"> approval                    </font></mark><mark style=\"background-color: hsl(120, 75%, 100%); opacity:1.0;                     line-height:1.75\"><font color=\"black\"> from                    </font></mark><mark style=\"background-color: hsl(0, 75%, 95%); opacity:1.0;                     line-height:1.75\"><font color=\"black\"> the                    </font></mark><mark style=\"background-color: hsl(120, 75%, 80%); opacity:1.0;                     line-height:1.75\"><font color=\"black\"> parents                    </font></mark><mark style=\"background-color: hsl(0, 75%, 94%); opacity:1.0;                     line-height:1.75\"><font color=\"black\"> television                    </font></mark><mark style=\"background-color: hsl(0, 75%, 95%); opacity:1.0;                     line-height:1.75\"><font color=\"black\"> council                    </font></mark><mark style=\"background-color: hsl(0, 75%, 97%); opacity:1.0;                     line-height:1.75\"><font color=\"black\"> for                    </font></mark><mark style=\"background-color: hsl(0, 75%, 89%); opacity:1.0;                     line-height:1.75\"><font color=\"black\"> the                    </font></mark><mark style=\"background-color: hsl(120, 75%, 66%); opacity:1.0;                     line-height:1.75\"><font color=\"black\"> moving                    </font></mark><mark style=\"background-color: hsl(0, 75%, 92%); opacity:1.0;                     line-height:1.75\"><font color=\"black\"> episode                    </font></mark><mark style=\"background-color: hsl(0, 75%, 99%); opacity:1.0;                     line-height:1.75\"><font color=\"black\"> '                    </font></mark><mark style=\"background-color: hsl(120, 75%, 98%); opacity:1.0;                     line-height:1.75\"><font color=\"black\"> page                    </font></mark><mark style=\"background-color: hsl(0, 75%, 100%); opacity:1.0;                     line-height:1.75\"><font color=\"black\"> -                    </font></mark><mark style=\"background-color: hsl(120, 75%, 99%); opacity:1.0;                     line-height:1.75\"><font color=\"black\"> bail                    </font></mark><mark style=\"background-color: hsl(120, 75%, 97%); opacity:1.0;                     line-height:1.75\"><font color=\"black\"> ##ie                    </font></mark><mark style=\"background-color: hsl(0, 75%, 94%); opacity:1.0;                     line-height:1.75\"><font color=\"black\"> bunch                    </font></mark><mark style=\"background-color: hsl(120, 75%, 99%); opacity:1.0;                     line-height:1.75\"><font color=\"black\"> '                    </font></mark><mark style=\"background-color: hsl(120, 75%, 97%); opacity:1.0;                     line-height:1.75\"><font color=\"black\"> .                    </font></mark><mark style=\"background-color: hsl(0, 75%, 100%); opacity:1.0;                     line-height:1.75\"><font color=\"black\"> [SEP]                    </font></mark></td><tr></table>"
      ],
      "text/plain": [
       "<IPython.core.display.HTML object>"
      ]
     },
     "metadata": {},
     "output_type": "display_data"
    },
    {
     "data": {
      "text/html": [
       "<div>\n",
       "<style scoped>\n",
       "    .dataframe tbody tr th:only-of-type {\n",
       "        vertical-align: middle;\n",
       "    }\n",
       "\n",
       "    .dataframe tbody tr th {\n",
       "        vertical-align: top;\n",
       "    }\n",
       "\n",
       "    .dataframe thead th {\n",
       "        text-align: right;\n",
       "    }\n",
       "</style>\n",
       "<table border=\"1\" class=\"dataframe\">\n",
       "  <thead>\n",
       "    <tr style=\"text-align: right;\">\n",
       "      <th></th>\n",
       "      <th>token</th>\n",
       "      <th>score</th>\n",
       "      <th>abs_norm</th>\n",
       "      <th>cumulative</th>\n",
       "    </tr>\n",
       "  </thead>\n",
       "  <tbody>\n",
       "    <tr>\n",
       "      <th>17</th>\n",
       "      <td>moving</td>\n",
       "      <td>0.685320</td>\n",
       "      <td>0.206718</td>\n",
       "      <td>0.206718</td>\n",
       "    </tr>\n",
       "    <tr>\n",
       "      <th>12</th>\n",
       "      <td>parents</td>\n",
       "      <td>0.400371</td>\n",
       "      <td>0.120767</td>\n",
       "      <td>0.327485</td>\n",
       "    </tr>\n",
       "    <tr>\n",
       "      <th>6</th>\n",
       "      <td>prestigious</td>\n",
       "      <td>0.310053</td>\n",
       "      <td>0.093524</td>\n",
       "      <td>0.421009</td>\n",
       "    </tr>\n",
       "    <tr>\n",
       "      <th>16</th>\n",
       "      <td>the</td>\n",
       "      <td>-0.275444</td>\n",
       "      <td>0.083084</td>\n",
       "      <td>0.504093</td>\n",
       "    </tr>\n",
       "    <tr>\n",
       "      <th>18</th>\n",
       "      <td>episode</td>\n",
       "      <td>-0.219552</td>\n",
       "      <td>0.066225</td>\n",
       "      <td>0.570318</td>\n",
       "    </tr>\n",
       "    <tr>\n",
       "      <th>24</th>\n",
       "      <td>bunch</td>\n",
       "      <td>-0.168132</td>\n",
       "      <td>0.050715</td>\n",
       "      <td>0.621033</td>\n",
       "    </tr>\n",
       "    <tr>\n",
       "      <th>13</th>\n",
       "      <td>television</td>\n",
       "      <td>-0.161920</td>\n",
       "      <td>0.048841</td>\n",
       "      <td>0.669874</td>\n",
       "    </tr>\n",
       "    <tr>\n",
       "      <th>11</th>\n",
       "      <td>the</td>\n",
       "      <td>-0.135195</td>\n",
       "      <td>0.040780</td>\n",
       "      <td>0.710654</td>\n",
       "    </tr>\n",
       "    <tr>\n",
       "      <th>14</th>\n",
       "      <td>council</td>\n",
       "      <td>-0.126225</td>\n",
       "      <td>0.038074</td>\n",
       "      <td>0.748728</td>\n",
       "    </tr>\n",
       "    <tr>\n",
       "      <th>4</th>\n",
       "      <td>received</td>\n",
       "      <td>0.123276</td>\n",
       "      <td>0.037185</td>\n",
       "      <td>0.785913</td>\n",
       "    </tr>\n",
       "    <tr>\n",
       "      <th>1</th>\n",
       "      <td>building</td>\n",
       "      <td>0.112677</td>\n",
       "      <td>0.033988</td>\n",
       "      <td>0.819901</td>\n",
       "    </tr>\n",
       "    <tr>\n",
       "      <th>15</th>\n",
       "      <td>for</td>\n",
       "      <td>-0.099878</td>\n",
       "      <td>0.030127</td>\n",
       "      <td>0.850027</td>\n",
       "    </tr>\n",
       "    <tr>\n",
       "      <th>23</th>\n",
       "      <td>##ie</td>\n",
       "      <td>0.072555</td>\n",
       "      <td>0.021885</td>\n",
       "      <td>0.871913</td>\n",
       "    </tr>\n",
       "    <tr>\n",
       "      <th>26</th>\n",
       "      <td>.</td>\n",
       "      <td>0.068854</td>\n",
       "      <td>0.020769</td>\n",
       "      <td>0.892682</td>\n",
       "    </tr>\n",
       "    <tr>\n",
       "      <th>2</th>\n",
       "      <td>a</td>\n",
       "      <td>-0.057004</td>\n",
       "      <td>0.017194</td>\n",
       "      <td>0.909876</td>\n",
       "    </tr>\n",
       "    <tr>\n",
       "      <th>7</th>\n",
       "      <td>seal</td>\n",
       "      <td>-0.052862</td>\n",
       "      <td>0.015945</td>\n",
       "      <td>0.925821</td>\n",
       "    </tr>\n",
       "    <tr>\n",
       "      <th>20</th>\n",
       "      <td>page</td>\n",
       "      <td>0.040025</td>\n",
       "      <td>0.012073</td>\n",
       "      <td>0.937894</td>\n",
       "    </tr>\n",
       "    <tr>\n",
       "      <th>22</th>\n",
       "      <td>bail</td>\n",
       "      <td>0.037899</td>\n",
       "      <td>0.011432</td>\n",
       "      <td>0.949326</td>\n",
       "    </tr>\n",
       "    <tr>\n",
       "      <th>25</th>\n",
       "      <td>'</td>\n",
       "      <td>0.034217</td>\n",
       "      <td>0.010321</td>\n",
       "      <td>0.959647</td>\n",
       "    </tr>\n",
       "    <tr>\n",
       "      <th>19</th>\n",
       "      <td>'</td>\n",
       "      <td>-0.031098</td>\n",
       "      <td>0.009380</td>\n",
       "      <td>0.969028</td>\n",
       "    </tr>\n",
       "    <tr>\n",
       "      <th>5</th>\n",
       "      <td>the</td>\n",
       "      <td>-0.030033</td>\n",
       "      <td>0.009059</td>\n",
       "      <td>0.978087</td>\n",
       "    </tr>\n",
       "    <tr>\n",
       "      <th>21</th>\n",
       "      <td>-</td>\n",
       "      <td>-0.017548</td>\n",
       "      <td>0.005293</td>\n",
       "      <td>0.983380</td>\n",
       "    </tr>\n",
       "    <tr>\n",
       "      <th>3</th>\n",
       "      <td>difference</td>\n",
       "      <td>-0.016847</td>\n",
       "      <td>0.005082</td>\n",
       "      <td>0.988462</td>\n",
       "    </tr>\n",
       "    <tr>\n",
       "      <th>8</th>\n",
       "      <td>of</td>\n",
       "      <td>0.016058</td>\n",
       "      <td>0.004844</td>\n",
       "      <td>0.993305</td>\n",
       "    </tr>\n",
       "    <tr>\n",
       "      <th>9</th>\n",
       "      <td>approval</td>\n",
       "      <td>0.015856</td>\n",
       "      <td>0.004783</td>\n",
       "      <td>0.998088</td>\n",
       "    </tr>\n",
       "    <tr>\n",
       "      <th>10</th>\n",
       "      <td>from</td>\n",
       "      <td>0.006338</td>\n",
       "      <td>0.001912</td>\n",
       "      <td>1.000000</td>\n",
       "    </tr>\n",
       "    <tr>\n",
       "      <th>0</th>\n",
       "      <td>[CLS]</td>\n",
       "      <td>0.000000</td>\n",
       "      <td>0.000000</td>\n",
       "      <td>1.000000</td>\n",
       "    </tr>\n",
       "    <tr>\n",
       "      <th>27</th>\n",
       "      <td>[SEP]</td>\n",
       "      <td>0.000000</td>\n",
       "      <td>0.000000</td>\n",
       "      <td>1.000000</td>\n",
       "    </tr>\n",
       "  </tbody>\n",
       "</table>\n",
       "</div>"
      ],
      "text/plain": [
       "          token     score  abs_norm  cumulative\n",
       "17       moving  0.685320  0.206718    0.206718\n",
       "12      parents  0.400371  0.120767    0.327485\n",
       "6   prestigious  0.310053  0.093524    0.421009\n",
       "16          the -0.275444  0.083084    0.504093\n",
       "18      episode -0.219552  0.066225    0.570318\n",
       "24        bunch -0.168132  0.050715    0.621033\n",
       "13   television -0.161920  0.048841    0.669874\n",
       "11          the -0.135195  0.040780    0.710654\n",
       "14      council -0.126225  0.038074    0.748728\n",
       "4      received  0.123276  0.037185    0.785913\n",
       "1      building  0.112677  0.033988    0.819901\n",
       "15          for -0.099878  0.030127    0.850027\n",
       "23         ##ie  0.072555  0.021885    0.871913\n",
       "26            .  0.068854  0.020769    0.892682\n",
       "2             a -0.057004  0.017194    0.909876\n",
       "7          seal -0.052862  0.015945    0.925821\n",
       "20         page  0.040025  0.012073    0.937894\n",
       "22         bail  0.037899  0.011432    0.949326\n",
       "25            '  0.034217  0.010321    0.959647\n",
       "19            ' -0.031098  0.009380    0.969028\n",
       "5           the -0.030033  0.009059    0.978087\n",
       "21            - -0.017548  0.005293    0.983380\n",
       "3    difference -0.016847  0.005082    0.988462\n",
       "8            of  0.016058  0.004844    0.993305\n",
       "9      approval  0.015856  0.004783    0.998088\n",
       "10         from  0.006338  0.001912    1.000000\n",
       "0         [CLS]  0.000000  0.000000    1.000000\n",
       "27        [SEP]  0.000000  0.000000    1.000000"
      ]
     },
     "execution_count": 42,
     "metadata": {},
     "output_type": "execute_result"
    }
   ],
   "source": [
    "cps.visualize_feature_attribution_scores(ex2_s)\n",
    "cps.calculate_feature_attribution_scores(ex2_s, as_norm=True)"
   ]
  },
  {
   "cell_type": "code",
   "execution_count": 43,
   "id": "815baeb1-ec04-4eae-9b07-4095fb6d27c5",
   "metadata": {},
   "outputs": [
    {
     "data": {
      "text/html": [
       "<table width: 100%><div style=\"border-top: 1px solid; margin-top: 5px;             padding-top: 5px; display: inline-block\"><b>Legend: </b><span style=\"display: inline-block; width: 10px; height: 10px;                 border: 1px solid; background-color:                 hsl(0, 75%, 60%)\"></span> Negative  <span style=\"display: inline-block; width: 10px; height: 10px;                 border: 1px solid; background-color:                 hsl(0, 75%, 100%)\"></span> Neutral  <span style=\"display: inline-block; width: 10px; height: 10px;                 border: 1px solid; background-color:                 hsl(120, 75%, 50%)\"></span> Positive  </div><tr><th>True Label</th><th>Predicted Label</th><th>Attribution Label</th><th>Attribution Score</th><th>Word Importance</th><tr><td><text style=\"padding-right:2em\"><b>0</b></text></td><td><text style=\"padding-right:2em\"><b>LABEL_1 (0.01)</b></text></td><td><text style=\"padding-right:2em\"><b>LABEL_0</b></text></td><td><text style=\"padding-right:2em\"><b>-2.70</b></text></td><td><mark style=\"background-color: hsl(0, 75%, 100%); opacity:1.0;                     line-height:1.75\"><font color=\"black\"> [CLS]                    </font></mark><mark style=\"background-color: hsl(0, 75%, 100%); opacity:1.0;                     line-height:1.75\"><font color=\"black\"> building                    </font></mark><mark style=\"background-color: hsl(0, 75%, 96%); opacity:1.0;                     line-height:1.75\"><font color=\"black\"> a                    </font></mark><mark style=\"background-color: hsl(0, 75%, 92%); opacity:1.0;                     line-height:1.75\"><font color=\"black\"> difference                    </font></mark><mark style=\"background-color: hsl(0, 75%, 95%); opacity:1.0;                     line-height:1.75\"><font color=\"black\"> received                    </font></mark><mark style=\"background-color: hsl(0, 75%, 93%); opacity:1.0;                     line-height:1.75\"><font color=\"black\"> the                    </font></mark><mark style=\"background-color: hsl(120, 75%, 100%); opacity:1.0;                     line-height:1.75\"><font color=\"black\"> seal                    </font></mark><mark style=\"background-color: hsl(0, 75%, 96%); opacity:1.0;                     line-height:1.75\"><font color=\"black\"> of                    </font></mark><mark style=\"background-color: hsl(0, 75%, 97%); opacity:1.0;                     line-height:1.75\"><font color=\"black\"> approval                    </font></mark><mark style=\"background-color: hsl(0, 75%, 98%); opacity:1.0;                     line-height:1.75\"><font color=\"black\"> from                    </font></mark><mark style=\"background-color: hsl(0, 75%, 88%); opacity:1.0;                     line-height:1.75\"><font color=\"black\"> the                    </font></mark><mark style=\"background-color: hsl(120, 75%, 76%); opacity:1.0;                     line-height:1.75\"><font color=\"black\"> parents                    </font></mark><mark style=\"background-color: hsl(0, 75%, 82%); opacity:1.0;                     line-height:1.75\"><font color=\"black\"> television                    </font></mark><mark style=\"background-color: hsl(0, 75%, 96%); opacity:1.0;                     line-height:1.75\"><font color=\"black\"> council                    </font></mark><mark style=\"background-color: hsl(0, 75%, 95%); opacity:1.0;                     line-height:1.75\"><font color=\"black\"> for                    </font></mark><mark style=\"background-color: hsl(0, 75%, 92%); opacity:1.0;                     line-height:1.75\"><font color=\"black\"> the                    </font></mark><mark style=\"background-color: hsl(0, 75%, 94%); opacity:1.0;                     line-height:1.75\"><font color=\"black\"> episode                    </font></mark><mark style=\"background-color: hsl(0, 75%, 88%); opacity:1.0;                     line-height:1.75\"><font color=\"black\"> '                    </font></mark><mark style=\"background-color: hsl(0, 75%, 90%); opacity:1.0;                     line-height:1.75\"><font color=\"black\"> page                    </font></mark><mark style=\"background-color: hsl(0, 75%, 99%); opacity:1.0;                     line-height:1.75\"><font color=\"black\"> -                    </font></mark><mark style=\"background-color: hsl(0, 75%, 97%); opacity:1.0;                     line-height:1.75\"><font color=\"black\"> bail                    </font></mark><mark style=\"background-color: hsl(0, 75%, 98%); opacity:1.0;                     line-height:1.75\"><font color=\"black\"> ##ie                    </font></mark><mark style=\"background-color: hsl(0, 75%, 98%); opacity:1.0;                     line-height:1.75\"><font color=\"black\"> bunch                    </font></mark><mark style=\"background-color: hsl(0, 75%, 97%); opacity:1.0;                     line-height:1.75\"><font color=\"black\"> '                    </font></mark><mark style=\"background-color: hsl(120, 75%, 98%); opacity:1.0;                     line-height:1.75\"><font color=\"black\"> .                    </font></mark><mark style=\"background-color: hsl(0, 75%, 100%); opacity:1.0;                     line-height:1.75\"><font color=\"black\"> [SEP]                    </font></mark></td><tr></table>"
      ],
      "text/plain": [
       "<IPython.core.display.HTML object>"
      ]
     },
     "metadata": {},
     "output_type": "display_data"
    },
    {
     "data": {
      "text/html": [
       "<div>\n",
       "<style scoped>\n",
       "    .dataframe tbody tr th:only-of-type {\n",
       "        vertical-align: middle;\n",
       "    }\n",
       "\n",
       "    .dataframe tbody tr th {\n",
       "        vertical-align: top;\n",
       "    }\n",
       "\n",
       "    .dataframe thead th {\n",
       "        text-align: right;\n",
       "    }\n",
       "</style>\n",
       "<table border=\"1\" class=\"dataframe\">\n",
       "  <thead>\n",
       "    <tr style=\"text-align: right;\">\n",
       "      <th></th>\n",
       "      <th>token</th>\n",
       "      <th>score</th>\n",
       "      <th>abs_norm</th>\n",
       "      <th>cumulative</th>\n",
       "    </tr>\n",
       "  </thead>\n",
       "  <tbody>\n",
       "    <tr>\n",
       "      <th>11</th>\n",
       "      <td>parents</td>\n",
       "      <td>0.495839</td>\n",
       "      <td>0.130589</td>\n",
       "      <td>0.130589</td>\n",
       "    </tr>\n",
       "    <tr>\n",
       "      <th>12</th>\n",
       "      <td>television</td>\n",
       "      <td>-0.474559</td>\n",
       "      <td>0.124985</td>\n",
       "      <td>0.255573</td>\n",
       "    </tr>\n",
       "    <tr>\n",
       "      <th>17</th>\n",
       "      <td>'</td>\n",
       "      <td>-0.307276</td>\n",
       "      <td>0.080927</td>\n",
       "      <td>0.336501</td>\n",
       "    </tr>\n",
       "    <tr>\n",
       "      <th>10</th>\n",
       "      <td>the</td>\n",
       "      <td>-0.302337</td>\n",
       "      <td>0.079626</td>\n",
       "      <td>0.416127</td>\n",
       "    </tr>\n",
       "    <tr>\n",
       "      <th>18</th>\n",
       "      <td>page</td>\n",
       "      <td>-0.273191</td>\n",
       "      <td>0.071950</td>\n",
       "      <td>0.488077</td>\n",
       "    </tr>\n",
       "    <tr>\n",
       "      <th>15</th>\n",
       "      <td>the</td>\n",
       "      <td>-0.220890</td>\n",
       "      <td>0.058176</td>\n",
       "      <td>0.546253</td>\n",
       "    </tr>\n",
       "    <tr>\n",
       "      <th>3</th>\n",
       "      <td>difference</td>\n",
       "      <td>-0.209422</td>\n",
       "      <td>0.055155</td>\n",
       "      <td>0.601408</td>\n",
       "    </tr>\n",
       "    <tr>\n",
       "      <th>5</th>\n",
       "      <td>the</td>\n",
       "      <td>-0.195728</td>\n",
       "      <td>0.051549</td>\n",
       "      <td>0.652957</td>\n",
       "    </tr>\n",
       "    <tr>\n",
       "      <th>16</th>\n",
       "      <td>episode</td>\n",
       "      <td>-0.169463</td>\n",
       "      <td>0.044631</td>\n",
       "      <td>0.697589</td>\n",
       "    </tr>\n",
       "    <tr>\n",
       "      <th>4</th>\n",
       "      <td>received</td>\n",
       "      <td>-0.148648</td>\n",
       "      <td>0.039149</td>\n",
       "      <td>0.736738</td>\n",
       "    </tr>\n",
       "    <tr>\n",
       "      <th>14</th>\n",
       "      <td>for</td>\n",
       "      <td>-0.125017</td>\n",
       "      <td>0.032926</td>\n",
       "      <td>0.769664</td>\n",
       "    </tr>\n",
       "    <tr>\n",
       "      <th>2</th>\n",
       "      <td>a</td>\n",
       "      <td>-0.110846</td>\n",
       "      <td>0.029193</td>\n",
       "      <td>0.798857</td>\n",
       "    </tr>\n",
       "    <tr>\n",
       "      <th>13</th>\n",
       "      <td>council</td>\n",
       "      <td>-0.104559</td>\n",
       "      <td>0.027538</td>\n",
       "      <td>0.826395</td>\n",
       "    </tr>\n",
       "    <tr>\n",
       "      <th>7</th>\n",
       "      <td>of</td>\n",
       "      <td>-0.101527</td>\n",
       "      <td>0.026739</td>\n",
       "      <td>0.853134</td>\n",
       "    </tr>\n",
       "    <tr>\n",
       "      <th>20</th>\n",
       "      <td>bail</td>\n",
       "      <td>-0.088971</td>\n",
       "      <td>0.023432</td>\n",
       "      <td>0.876566</td>\n",
       "    </tr>\n",
       "    <tr>\n",
       "      <th>8</th>\n",
       "      <td>approval</td>\n",
       "      <td>-0.077448</td>\n",
       "      <td>0.020397</td>\n",
       "      <td>0.896964</td>\n",
       "    </tr>\n",
       "    <tr>\n",
       "      <th>23</th>\n",
       "      <td>'</td>\n",
       "      <td>-0.076185</td>\n",
       "      <td>0.020065</td>\n",
       "      <td>0.917028</td>\n",
       "    </tr>\n",
       "    <tr>\n",
       "      <th>9</th>\n",
       "      <td>from</td>\n",
       "      <td>-0.069595</td>\n",
       "      <td>0.018329</td>\n",
       "      <td>0.935358</td>\n",
       "    </tr>\n",
       "    <tr>\n",
       "      <th>22</th>\n",
       "      <td>bunch</td>\n",
       "      <td>-0.066400</td>\n",
       "      <td>0.017488</td>\n",
       "      <td>0.952845</td>\n",
       "    </tr>\n",
       "    <tr>\n",
       "      <th>21</th>\n",
       "      <td>##ie</td>\n",
       "      <td>-0.055298</td>\n",
       "      <td>0.014564</td>\n",
       "      <td>0.967409</td>\n",
       "    </tr>\n",
       "    <tr>\n",
       "      <th>24</th>\n",
       "      <td>.</td>\n",
       "      <td>0.051862</td>\n",
       "      <td>0.013659</td>\n",
       "      <td>0.981068</td>\n",
       "    </tr>\n",
       "    <tr>\n",
       "      <th>19</th>\n",
       "      <td>-</td>\n",
       "      <td>-0.049301</td>\n",
       "      <td>0.012984</td>\n",
       "      <td>0.994053</td>\n",
       "    </tr>\n",
       "    <tr>\n",
       "      <th>1</th>\n",
       "      <td>building</td>\n",
       "      <td>-0.019766</td>\n",
       "      <td>0.005206</td>\n",
       "      <td>0.999258</td>\n",
       "    </tr>\n",
       "    <tr>\n",
       "      <th>6</th>\n",
       "      <td>seal</td>\n",
       "      <td>0.002816</td>\n",
       "      <td>0.000742</td>\n",
       "      <td>1.000000</td>\n",
       "    </tr>\n",
       "    <tr>\n",
       "      <th>0</th>\n",
       "      <td>[CLS]</td>\n",
       "      <td>0.000000</td>\n",
       "      <td>0.000000</td>\n",
       "      <td>1.000000</td>\n",
       "    </tr>\n",
       "    <tr>\n",
       "      <th>25</th>\n",
       "      <td>[SEP]</td>\n",
       "      <td>0.000000</td>\n",
       "      <td>0.000000</td>\n",
       "      <td>1.000000</td>\n",
       "    </tr>\n",
       "  </tbody>\n",
       "</table>\n",
       "</div>"
      ],
      "text/plain": [
       "         token     score  abs_norm  cumulative\n",
       "11     parents  0.495839  0.130589    0.130589\n",
       "12  television -0.474559  0.124985    0.255573\n",
       "17           ' -0.307276  0.080927    0.336501\n",
       "10         the -0.302337  0.079626    0.416127\n",
       "18        page -0.273191  0.071950    0.488077\n",
       "15         the -0.220890  0.058176    0.546253\n",
       "3   difference -0.209422  0.055155    0.601408\n",
       "5          the -0.195728  0.051549    0.652957\n",
       "16     episode -0.169463  0.044631    0.697589\n",
       "4     received -0.148648  0.039149    0.736738\n",
       "14         for -0.125017  0.032926    0.769664\n",
       "2            a -0.110846  0.029193    0.798857\n",
       "13     council -0.104559  0.027538    0.826395\n",
       "7           of -0.101527  0.026739    0.853134\n",
       "20        bail -0.088971  0.023432    0.876566\n",
       "8     approval -0.077448  0.020397    0.896964\n",
       "23           ' -0.076185  0.020065    0.917028\n",
       "9         from -0.069595  0.018329    0.935358\n",
       "22       bunch -0.066400  0.017488    0.952845\n",
       "21        ##ie -0.055298  0.014564    0.967409\n",
       "24           .  0.051862  0.013659    0.981068\n",
       "19           - -0.049301  0.012984    0.994053\n",
       "1     building -0.019766  0.005206    0.999258\n",
       "6         seal  0.002816  0.000742    1.000000\n",
       "0        [CLS]  0.000000  0.000000    1.000000\n",
       "25       [SEP]  0.000000  0.000000    1.000000"
      ]
     },
     "execution_count": 43,
     "metadata": {},
     "output_type": "execute_result"
    }
   ],
   "source": [
    "cps.visualize_feature_attribution_scores(ex2_n)\n",
    "cps.calculate_feature_attribution_scores(ex2_n, as_norm=True)"
   ]
  },
  {
   "cell_type": "markdown",
   "id": "4eee9de0-39ac-407a-926d-92b61dc86f40",
   "metadata": {
    "tags": []
   },
   "source": [
    "#### Ex3"
   ]
  },
  {
   "cell_type": "code",
   "execution_count": 3,
   "id": "d5c8836a-0cdd-4f1f-bc7e-155a25d45305",
   "metadata": {},
   "outputs": [],
   "source": [
    "ex3_s = \"water from a fire sprinkler system explosion in 2007\"\n",
    "ex3_n = \"water from a fire sprinkler system failure in 2007\""
   ]
  },
  {
   "cell_type": "code",
   "execution_count": 45,
   "id": "2f6f9d98-5236-4246-8c25-fa41d91edf68",
   "metadata": {},
   "outputs": [
    {
     "data": {
      "text/html": [
       "<table width: 100%><div style=\"border-top: 1px solid; margin-top: 5px;             padding-top: 5px; display: inline-block\"><b>Legend: </b><span style=\"display: inline-block; width: 10px; height: 10px;                 border: 1px solid; background-color:                 hsl(0, 75%, 60%)\"></span> Negative  <span style=\"display: inline-block; width: 10px; height: 10px;                 border: 1px solid; background-color:                 hsl(0, 75%, 100%)\"></span> Neutral  <span style=\"display: inline-block; width: 10px; height: 10px;                 border: 1px solid; background-color:                 hsl(120, 75%, 50%)\"></span> Positive  </div><tr><th>True Label</th><th>Predicted Label</th><th>Attribution Label</th><th>Attribution Score</th><th>Word Importance</th><tr><td><text style=\"padding-right:2em\"><b>0</b></text></td><td><text style=\"padding-right:2em\"><b>LABEL_1 (0.37)</b></text></td><td><text style=\"padding-right:2em\"><b>LABEL_0</b></text></td><td><text style=\"padding-right:2em\"><b>-0.74</b></text></td><td><mark style=\"background-color: hsl(0, 75%, 100%); opacity:1.0;                     line-height:1.75\"><font color=\"black\"> [CLS]                    </font></mark><mark style=\"background-color: hsl(120, 75%, 94%); opacity:1.0;                     line-height:1.75\"><font color=\"black\"> water                    </font></mark><mark style=\"background-color: hsl(120, 75%, 93%); opacity:1.0;                     line-height:1.75\"><font color=\"black\"> from                    </font></mark><mark style=\"background-color: hsl(120, 75%, 92%); opacity:1.0;                     line-height:1.75\"><font color=\"black\"> a                    </font></mark><mark style=\"background-color: hsl(0, 75%, 99%); opacity:1.0;                     line-height:1.75\"><font color=\"black\"> fire                    </font></mark><mark style=\"background-color: hsl(120, 75%, 94%); opacity:1.0;                     line-height:1.75\"><font color=\"black\"> sp                    </font></mark><mark style=\"background-color: hsl(120, 75%, 98%); opacity:1.0;                     line-height:1.75\"><font color=\"black\"> ##rin                    </font></mark><mark style=\"background-color: hsl(120, 75%, 97%); opacity:1.0;                     line-height:1.75\"><font color=\"black\"> ##kle                    </font></mark><mark style=\"background-color: hsl(120, 75%, 96%); opacity:1.0;                     line-height:1.75\"><font color=\"black\"> ##r                    </font></mark><mark style=\"background-color: hsl(0, 75%, 83%); opacity:1.0;                     line-height:1.75\"><font color=\"black\"> system                    </font></mark><mark style=\"background-color: hsl(0, 75%, 70%); opacity:1.0;                     line-height:1.75\"><font color=\"black\"> explosion                    </font></mark><mark style=\"background-color: hsl(120, 75%, 99%); opacity:1.0;                     line-height:1.75\"><font color=\"black\"> in                    </font></mark><mark style=\"background-color: hsl(0, 75%, 87%); opacity:1.0;                     line-height:1.75\"><font color=\"black\"> 2007                    </font></mark><mark style=\"background-color: hsl(0, 75%, 100%); opacity:1.0;                     line-height:1.75\"><font color=\"black\"> [SEP]                    </font></mark></td><tr></table>"
      ],
      "text/plain": [
       "<IPython.core.display.HTML object>"
      ]
     },
     "metadata": {},
     "output_type": "display_data"
    },
    {
     "data": {
      "text/html": [
       "<div>\n",
       "<style scoped>\n",
       "    .dataframe tbody tr th:only-of-type {\n",
       "        vertical-align: middle;\n",
       "    }\n",
       "\n",
       "    .dataframe tbody tr th {\n",
       "        vertical-align: top;\n",
       "    }\n",
       "\n",
       "    .dataframe thead th {\n",
       "        text-align: right;\n",
       "    }\n",
       "</style>\n",
       "<table border=\"1\" class=\"dataframe\">\n",
       "  <thead>\n",
       "    <tr style=\"text-align: right;\">\n",
       "      <th></th>\n",
       "      <th>token</th>\n",
       "      <th>score</th>\n",
       "      <th>abs_norm</th>\n",
       "      <th>cumulative</th>\n",
       "    </tr>\n",
       "  </thead>\n",
       "  <tbody>\n",
       "    <tr>\n",
       "      <th>10</th>\n",
       "      <td>explosion</td>\n",
       "      <td>-0.760934</td>\n",
       "      <td>0.315235</td>\n",
       "      <td>0.315235</td>\n",
       "    </tr>\n",
       "    <tr>\n",
       "      <th>9</th>\n",
       "      <td>system</td>\n",
       "      <td>-0.445005</td>\n",
       "      <td>0.184353</td>\n",
       "      <td>0.499588</td>\n",
       "    </tr>\n",
       "    <tr>\n",
       "      <th>12</th>\n",
       "      <td>2007</td>\n",
       "      <td>-0.342561</td>\n",
       "      <td>0.141914</td>\n",
       "      <td>0.641502</td>\n",
       "    </tr>\n",
       "    <tr>\n",
       "      <th>3</th>\n",
       "      <td>a</td>\n",
       "      <td>0.179300</td>\n",
       "      <td>0.074279</td>\n",
       "      <td>0.715781</td>\n",
       "    </tr>\n",
       "    <tr>\n",
       "      <th>2</th>\n",
       "      <td>from</td>\n",
       "      <td>0.146276</td>\n",
       "      <td>0.060598</td>\n",
       "      <td>0.776379</td>\n",
       "    </tr>\n",
       "    <tr>\n",
       "      <th>1</th>\n",
       "      <td>water</td>\n",
       "      <td>0.132378</td>\n",
       "      <td>0.054841</td>\n",
       "      <td>0.831220</td>\n",
       "    </tr>\n",
       "    <tr>\n",
       "      <th>5</th>\n",
       "      <td>sp</td>\n",
       "      <td>0.130931</td>\n",
       "      <td>0.054241</td>\n",
       "      <td>0.885461</td>\n",
       "    </tr>\n",
       "    <tr>\n",
       "      <th>8</th>\n",
       "      <td>##r</td>\n",
       "      <td>0.083237</td>\n",
       "      <td>0.034483</td>\n",
       "      <td>0.919944</td>\n",
       "    </tr>\n",
       "    <tr>\n",
       "      <th>7</th>\n",
       "      <td>##kle</td>\n",
       "      <td>0.070713</td>\n",
       "      <td>0.029295</td>\n",
       "      <td>0.949239</td>\n",
       "    </tr>\n",
       "    <tr>\n",
       "      <th>6</th>\n",
       "      <td>##rin</td>\n",
       "      <td>0.057522</td>\n",
       "      <td>0.023830</td>\n",
       "      <td>0.973069</td>\n",
       "    </tr>\n",
       "    <tr>\n",
       "      <th>11</th>\n",
       "      <td>in</td>\n",
       "      <td>0.036911</td>\n",
       "      <td>0.015291</td>\n",
       "      <td>0.988360</td>\n",
       "    </tr>\n",
       "    <tr>\n",
       "      <th>4</th>\n",
       "      <td>fire</td>\n",
       "      <td>-0.028098</td>\n",
       "      <td>0.011640</td>\n",
       "      <td>1.000000</td>\n",
       "    </tr>\n",
       "    <tr>\n",
       "      <th>0</th>\n",
       "      <td>[CLS]</td>\n",
       "      <td>0.000000</td>\n",
       "      <td>0.000000</td>\n",
       "      <td>1.000000</td>\n",
       "    </tr>\n",
       "    <tr>\n",
       "      <th>13</th>\n",
       "      <td>[SEP]</td>\n",
       "      <td>0.000000</td>\n",
       "      <td>0.000000</td>\n",
       "      <td>1.000000</td>\n",
       "    </tr>\n",
       "  </tbody>\n",
       "</table>\n",
       "</div>"
      ],
      "text/plain": [
       "        token     score  abs_norm  cumulative\n",
       "10  explosion -0.760934  0.315235    0.315235\n",
       "9      system -0.445005  0.184353    0.499588\n",
       "12       2007 -0.342561  0.141914    0.641502\n",
       "3           a  0.179300  0.074279    0.715781\n",
       "2        from  0.146276  0.060598    0.776379\n",
       "1       water  0.132378  0.054841    0.831220\n",
       "5          sp  0.130931  0.054241    0.885461\n",
       "8         ##r  0.083237  0.034483    0.919944\n",
       "7       ##kle  0.070713  0.029295    0.949239\n",
       "6       ##rin  0.057522  0.023830    0.973069\n",
       "11         in  0.036911  0.015291    0.988360\n",
       "4        fire -0.028098  0.011640    1.000000\n",
       "0       [CLS]  0.000000  0.000000    1.000000\n",
       "13      [SEP]  0.000000  0.000000    1.000000"
      ]
     },
     "execution_count": 45,
     "metadata": {},
     "output_type": "execute_result"
    }
   ],
   "source": [
    "cps.visualize_feature_attribution_scores(ex3_s)\n",
    "cps.calculate_feature_attribution_scores(ex3_s, as_norm=True)"
   ]
  },
  {
   "cell_type": "code",
   "execution_count": 46,
   "id": "60cfa0cc-0420-430a-a62f-1e7527fe6a77",
   "metadata": {},
   "outputs": [
    {
     "data": {
      "text/html": [
       "<table width: 100%><div style=\"border-top: 1px solid; margin-top: 5px;             padding-top: 5px; display: inline-block\"><b>Legend: </b><span style=\"display: inline-block; width: 10px; height: 10px;                 border: 1px solid; background-color:                 hsl(0, 75%, 60%)\"></span> Negative  <span style=\"display: inline-block; width: 10px; height: 10px;                 border: 1px solid; background-color:                 hsl(0, 75%, 100%)\"></span> Neutral  <span style=\"display: inline-block; width: 10px; height: 10px;                 border: 1px solid; background-color:                 hsl(120, 75%, 50%)\"></span> Positive  </div><tr><th>True Label</th><th>Predicted Label</th><th>Attribution Label</th><th>Attribution Score</th><th>Word Importance</th><tr><td><text style=\"padding-right:2em\"><b>0</b></text></td><td><text style=\"padding-right:2em\"><b>LABEL_1 (0.17)</b></text></td><td><text style=\"padding-right:2em\"><b>LABEL_0</b></text></td><td><text style=\"padding-right:2em\"><b>-1.82</b></text></td><td><mark style=\"background-color: hsl(0, 75%, 100%); opacity:1.0;                     line-height:1.75\"><font color=\"black\"> [CLS]                    </font></mark><mark style=\"background-color: hsl(120, 75%, 99%); opacity:1.0;                     line-height:1.75\"><font color=\"black\"> water                    </font></mark><mark style=\"background-color: hsl(0, 75%, 98%); opacity:1.0;                     line-height:1.75\"><font color=\"black\"> from                    </font></mark><mark style=\"background-color: hsl(0, 75%, 92%); opacity:1.0;                     line-height:1.75\"><font color=\"black\"> a                    </font></mark><mark style=\"background-color: hsl(0, 75%, 85%); opacity:1.0;                     line-height:1.75\"><font color=\"black\"> fire                    </font></mark><mark style=\"background-color: hsl(120, 75%, 99%); opacity:1.0;                     line-height:1.75\"><font color=\"black\"> sp                    </font></mark><mark style=\"background-color: hsl(0, 75%, 97%); opacity:1.0;                     line-height:1.75\"><font color=\"black\"> ##rin                    </font></mark><mark style=\"background-color: hsl(120, 75%, 100%); opacity:1.0;                     line-height:1.75\"><font color=\"black\"> ##kle                    </font></mark><mark style=\"background-color: hsl(0, 75%, 100%); opacity:1.0;                     line-height:1.75\"><font color=\"black\"> ##r                    </font></mark><mark style=\"background-color: hsl(0, 75%, 82%); opacity:1.0;                     line-height:1.75\"><font color=\"black\"> system                    </font></mark><mark style=\"background-color: hsl(0, 75%, 74%); opacity:1.0;                     line-height:1.75\"><font color=\"black\"> failure                    </font></mark><mark style=\"background-color: hsl(0, 75%, 89%); opacity:1.0;                     line-height:1.75\"><font color=\"black\"> in                    </font></mark><mark style=\"background-color: hsl(120, 75%, 87%); opacity:1.0;                     line-height:1.75\"><font color=\"black\"> 2007                    </font></mark><mark style=\"background-color: hsl(0, 75%, 100%); opacity:1.0;                     line-height:1.75\"><font color=\"black\"> [SEP]                    </font></mark></td><tr></table>"
      ],
      "text/plain": [
       "<IPython.core.display.HTML object>"
      ]
     },
     "metadata": {},
     "output_type": "display_data"
    },
    {
     "data": {
      "text/html": [
       "<div>\n",
       "<style scoped>\n",
       "    .dataframe tbody tr th:only-of-type {\n",
       "        vertical-align: middle;\n",
       "    }\n",
       "\n",
       "    .dataframe tbody tr th {\n",
       "        vertical-align: top;\n",
       "    }\n",
       "\n",
       "    .dataframe thead th {\n",
       "        text-align: right;\n",
       "    }\n",
       "</style>\n",
       "<table border=\"1\" class=\"dataframe\">\n",
       "  <thead>\n",
       "    <tr style=\"text-align: right;\">\n",
       "      <th></th>\n",
       "      <th>token</th>\n",
       "      <th>score</th>\n",
       "      <th>abs_norm</th>\n",
       "      <th>cumulative</th>\n",
       "    </tr>\n",
       "  </thead>\n",
       "  <tbody>\n",
       "    <tr>\n",
       "      <th>10</th>\n",
       "      <td>failure</td>\n",
       "      <td>-0.651508</td>\n",
       "      <td>0.261295</td>\n",
       "      <td>0.261295</td>\n",
       "    </tr>\n",
       "    <tr>\n",
       "      <th>9</th>\n",
       "      <td>system</td>\n",
       "      <td>-0.468426</td>\n",
       "      <td>0.187868</td>\n",
       "      <td>0.449163</td>\n",
       "    </tr>\n",
       "    <tr>\n",
       "      <th>4</th>\n",
       "      <td>fire</td>\n",
       "      <td>-0.375742</td>\n",
       "      <td>0.150696</td>\n",
       "      <td>0.599859</td>\n",
       "    </tr>\n",
       "    <tr>\n",
       "      <th>11</th>\n",
       "      <td>in</td>\n",
       "      <td>-0.295798</td>\n",
       "      <td>0.118633</td>\n",
       "      <td>0.718493</td>\n",
       "    </tr>\n",
       "    <tr>\n",
       "      <th>12</th>\n",
       "      <td>2007</td>\n",
       "      <td>0.263430</td>\n",
       "      <td>0.105652</td>\n",
       "      <td>0.824145</td>\n",
       "    </tr>\n",
       "    <tr>\n",
       "      <th>3</th>\n",
       "      <td>a</td>\n",
       "      <td>-0.212420</td>\n",
       "      <td>0.085194</td>\n",
       "      <td>0.909338</td>\n",
       "    </tr>\n",
       "    <tr>\n",
       "      <th>6</th>\n",
       "      <td>##rin</td>\n",
       "      <td>-0.086336</td>\n",
       "      <td>0.034626</td>\n",
       "      <td>0.943964</td>\n",
       "    </tr>\n",
       "    <tr>\n",
       "      <th>2</th>\n",
       "      <td>from</td>\n",
       "      <td>-0.056183</td>\n",
       "      <td>0.022533</td>\n",
       "      <td>0.966497</td>\n",
       "    </tr>\n",
       "    <tr>\n",
       "      <th>1</th>\n",
       "      <td>water</td>\n",
       "      <td>0.037709</td>\n",
       "      <td>0.015124</td>\n",
       "      <td>0.981620</td>\n",
       "    </tr>\n",
       "    <tr>\n",
       "      <th>5</th>\n",
       "      <td>sp</td>\n",
       "      <td>0.026214</td>\n",
       "      <td>0.010513</td>\n",
       "      <td>0.992134</td>\n",
       "    </tr>\n",
       "    <tr>\n",
       "      <th>8</th>\n",
       "      <td>##r</td>\n",
       "      <td>-0.011574</td>\n",
       "      <td>0.004642</td>\n",
       "      <td>0.996776</td>\n",
       "    </tr>\n",
       "    <tr>\n",
       "      <th>7</th>\n",
       "      <td>##kle</td>\n",
       "      <td>0.008039</td>\n",
       "      <td>0.003224</td>\n",
       "      <td>1.000000</td>\n",
       "    </tr>\n",
       "    <tr>\n",
       "      <th>0</th>\n",
       "      <td>[CLS]</td>\n",
       "      <td>0.000000</td>\n",
       "      <td>0.000000</td>\n",
       "      <td>1.000000</td>\n",
       "    </tr>\n",
       "    <tr>\n",
       "      <th>13</th>\n",
       "      <td>[SEP]</td>\n",
       "      <td>0.000000</td>\n",
       "      <td>0.000000</td>\n",
       "      <td>1.000000</td>\n",
       "    </tr>\n",
       "  </tbody>\n",
       "</table>\n",
       "</div>"
      ],
      "text/plain": [
       "      token     score  abs_norm  cumulative\n",
       "10  failure -0.651508  0.261295    0.261295\n",
       "9    system -0.468426  0.187868    0.449163\n",
       "4      fire -0.375742  0.150696    0.599859\n",
       "11       in -0.295798  0.118633    0.718493\n",
       "12     2007  0.263430  0.105652    0.824145\n",
       "3         a -0.212420  0.085194    0.909338\n",
       "6     ##rin -0.086336  0.034626    0.943964\n",
       "2      from -0.056183  0.022533    0.966497\n",
       "1     water  0.037709  0.015124    0.981620\n",
       "5        sp  0.026214  0.010513    0.992134\n",
       "8       ##r -0.011574  0.004642    0.996776\n",
       "7     ##kle  0.008039  0.003224    1.000000\n",
       "0     [CLS]  0.000000  0.000000    1.000000\n",
       "13    [SEP]  0.000000  0.000000    1.000000"
      ]
     },
     "execution_count": 46,
     "metadata": {},
     "output_type": "execute_result"
    }
   ],
   "source": [
    "cps.visualize_feature_attribution_scores(ex3_n)\n",
    "cps.calculate_feature_attribution_scores(ex3_n, as_norm=True)"
   ]
  },
  {
   "cell_type": "markdown",
   "id": "7eb9770b-6169-4ad0-a8d4-e962dedf05be",
   "metadata": {},
   "source": [
    "#### Ex4"
   ]
  },
  {
   "cell_type": "code",
   "execution_count": 47,
   "id": "816d5f3d-fca7-4570-b7ce-b14a0749104e",
   "metadata": {},
   "outputs": [],
   "source": [
    "ex4_s = \"the leela group has commissioned a 1.37 lakh sq ft state of the art building.\"\n",
    "ex4_n = \"the leela group has commissioned a 1.37 lakh sq ft building.\""
   ]
  },
  {
   "cell_type": "code",
   "execution_count": 48,
   "id": "c3a9a871-a66b-45e1-8641-2cd9850b29a4",
   "metadata": {},
   "outputs": [
    {
     "data": {
      "text/html": [
       "<table width: 100%><div style=\"border-top: 1px solid; margin-top: 5px;             padding-top: 5px; display: inline-block\"><b>Legend: </b><span style=\"display: inline-block; width: 10px; height: 10px;                 border: 1px solid; background-color:                 hsl(0, 75%, 60%)\"></span> Negative  <span style=\"display: inline-block; width: 10px; height: 10px;                 border: 1px solid; background-color:                 hsl(0, 75%, 100%)\"></span> Neutral  <span style=\"display: inline-block; width: 10px; height: 10px;                 border: 1px solid; background-color:                 hsl(120, 75%, 50%)\"></span> Positive  </div><tr><th>True Label</th><th>Predicted Label</th><th>Attribution Label</th><th>Attribution Score</th><th>Word Importance</th><tr><td><text style=\"padding-right:2em\"><b>0</b></text></td><td><text style=\"padding-right:2em\"><b>LABEL_0 (0.99)</b></text></td><td><text style=\"padding-right:2em\"><b>LABEL_0</b></text></td><td><text style=\"padding-right:2em\"><b>0.26</b></text></td><td><mark style=\"background-color: hsl(0, 75%, 100%); opacity:1.0;                     line-height:1.75\"><font color=\"black\"> [CLS]                    </font></mark><mark style=\"background-color: hsl(0, 75%, 99%); opacity:1.0;                     line-height:1.75\"><font color=\"black\"> the                    </font></mark><mark style=\"background-color: hsl(0, 75%, 99%); opacity:1.0;                     line-height:1.75\"><font color=\"black\"> lee                    </font></mark><mark style=\"background-color: hsl(0, 75%, 100%); opacity:1.0;                     line-height:1.75\"><font color=\"black\"> ##la                    </font></mark><mark style=\"background-color: hsl(0, 75%, 92%); opacity:1.0;                     line-height:1.75\"><font color=\"black\"> group                    </font></mark><mark style=\"background-color: hsl(0, 75%, 97%); opacity:1.0;                     line-height:1.75\"><font color=\"black\"> has                    </font></mark><mark style=\"background-color: hsl(120, 75%, 83%); opacity:1.0;                     line-height:1.75\"><font color=\"black\"> commissioned                    </font></mark><mark style=\"background-color: hsl(0, 75%, 94%); opacity:1.0;                     line-height:1.75\"><font color=\"black\"> a                    </font></mark><mark style=\"background-color: hsl(0, 75%, 99%); opacity:1.0;                     line-height:1.75\"><font color=\"black\"> 1                    </font></mark><mark style=\"background-color: hsl(120, 75%, 98%); opacity:1.0;                     line-height:1.75\"><font color=\"black\"> .                    </font></mark><mark style=\"background-color: hsl(0, 75%, 100%); opacity:1.0;                     line-height:1.75\"><font color=\"black\"> 37                    </font></mark><mark style=\"background-color: hsl(120, 75%, 98%); opacity:1.0;                     line-height:1.75\"><font color=\"black\"> la                    </font></mark><mark style=\"background-color: hsl(0, 75%, 98%); opacity:1.0;                     line-height:1.75\"><font color=\"black\"> ##kh                    </font></mark><mark style=\"background-color: hsl(0, 75%, 97%); opacity:1.0;                     line-height:1.75\"><font color=\"black\"> sq                    </font></mark><mark style=\"background-color: hsl(120, 75%, 99%); opacity:1.0;                     line-height:1.75\"><font color=\"black\"> ft                    </font></mark><mark style=\"background-color: hsl(120, 75%, 84%); opacity:1.0;                     line-height:1.75\"><font color=\"black\"> state                    </font></mark><mark style=\"background-color: hsl(120, 75%, 99%); opacity:1.0;                     line-height:1.75\"><font color=\"black\"> of                    </font></mark><mark style=\"background-color: hsl(0, 75%, 89%); opacity:1.0;                     line-height:1.75\"><font color=\"black\"> the                    </font></mark><mark style=\"background-color: hsl(120, 75%, 64%); opacity:1.0;                     line-height:1.75\"><font color=\"black\"> art                    </font></mark><mark style=\"background-color: hsl(0, 75%, 96%); opacity:1.0;                     line-height:1.75\"><font color=\"black\"> building                    </font></mark><mark style=\"background-color: hsl(0, 75%, 94%); opacity:1.0;                     line-height:1.75\"><font color=\"black\"> .                    </font></mark><mark style=\"background-color: hsl(0, 75%, 100%); opacity:1.0;                     line-height:1.75\"><font color=\"black\"> [SEP]                    </font></mark></td><tr></table>"
      ],
      "text/plain": [
       "<IPython.core.display.HTML object>"
      ]
     },
     "metadata": {},
     "output_type": "display_data"
    },
    {
     "data": {
      "text/html": [
       "<div>\n",
       "<style scoped>\n",
       "    .dataframe tbody tr th:only-of-type {\n",
       "        vertical-align: middle;\n",
       "    }\n",
       "\n",
       "    .dataframe tbody tr th {\n",
       "        vertical-align: top;\n",
       "    }\n",
       "\n",
       "    .dataframe thead th {\n",
       "        text-align: right;\n",
       "    }\n",
       "</style>\n",
       "<table border=\"1\" class=\"dataframe\">\n",
       "  <thead>\n",
       "    <tr style=\"text-align: right;\">\n",
       "      <th></th>\n",
       "      <th>token</th>\n",
       "      <th>score</th>\n",
       "      <th>abs_norm</th>\n",
       "      <th>cumulative</th>\n",
       "    </tr>\n",
       "  </thead>\n",
       "  <tbody>\n",
       "    <tr>\n",
       "      <th>18</th>\n",
       "      <td>art</td>\n",
       "      <td>0.736597</td>\n",
       "      <td>0.255327</td>\n",
       "      <td>0.255327</td>\n",
       "    </tr>\n",
       "    <tr>\n",
       "      <th>6</th>\n",
       "      <td>commissioned</td>\n",
       "      <td>0.354312</td>\n",
       "      <td>0.122815</td>\n",
       "      <td>0.378142</td>\n",
       "    </tr>\n",
       "    <tr>\n",
       "      <th>15</th>\n",
       "      <td>state</td>\n",
       "      <td>0.333868</td>\n",
       "      <td>0.115729</td>\n",
       "      <td>0.493871</td>\n",
       "    </tr>\n",
       "    <tr>\n",
       "      <th>17</th>\n",
       "      <td>the</td>\n",
       "      <td>-0.278532</td>\n",
       "      <td>0.096547</td>\n",
       "      <td>0.590418</td>\n",
       "    </tr>\n",
       "    <tr>\n",
       "      <th>4</th>\n",
       "      <td>group</td>\n",
       "      <td>-0.215907</td>\n",
       "      <td>0.074840</td>\n",
       "      <td>0.665258</td>\n",
       "    </tr>\n",
       "    <tr>\n",
       "      <th>7</th>\n",
       "      <td>a</td>\n",
       "      <td>-0.170277</td>\n",
       "      <td>0.059023</td>\n",
       "      <td>0.724281</td>\n",
       "    </tr>\n",
       "    <tr>\n",
       "      <th>20</th>\n",
       "      <td>.</td>\n",
       "      <td>-0.155104</td>\n",
       "      <td>0.053764</td>\n",
       "      <td>0.778045</td>\n",
       "    </tr>\n",
       "    <tr>\n",
       "      <th>19</th>\n",
       "      <td>building</td>\n",
       "      <td>-0.120421</td>\n",
       "      <td>0.041742</td>\n",
       "      <td>0.819786</td>\n",
       "    </tr>\n",
       "    <tr>\n",
       "      <th>5</th>\n",
       "      <td>has</td>\n",
       "      <td>-0.090933</td>\n",
       "      <td>0.031520</td>\n",
       "      <td>0.851306</td>\n",
       "    </tr>\n",
       "    <tr>\n",
       "      <th>13</th>\n",
       "      <td>sq</td>\n",
       "      <td>-0.075807</td>\n",
       "      <td>0.026277</td>\n",
       "      <td>0.877584</td>\n",
       "    </tr>\n",
       "    <tr>\n",
       "      <th>12</th>\n",
       "      <td>##kh</td>\n",
       "      <td>-0.054935</td>\n",
       "      <td>0.019042</td>\n",
       "      <td>0.896626</td>\n",
       "    </tr>\n",
       "    <tr>\n",
       "      <th>11</th>\n",
       "      <td>la</td>\n",
       "      <td>0.052711</td>\n",
       "      <td>0.018271</td>\n",
       "      <td>0.914897</td>\n",
       "    </tr>\n",
       "    <tr>\n",
       "      <th>2</th>\n",
       "      <td>lee</td>\n",
       "      <td>-0.049272</td>\n",
       "      <td>0.017079</td>\n",
       "      <td>0.931977</td>\n",
       "    </tr>\n",
       "    <tr>\n",
       "      <th>9</th>\n",
       "      <td>.</td>\n",
       "      <td>0.043451</td>\n",
       "      <td>0.015061</td>\n",
       "      <td>0.947038</td>\n",
       "    </tr>\n",
       "    <tr>\n",
       "      <th>8</th>\n",
       "      <td>1</td>\n",
       "      <td>-0.038386</td>\n",
       "      <td>0.013306</td>\n",
       "      <td>0.960344</td>\n",
       "    </tr>\n",
       "    <tr>\n",
       "      <th>1</th>\n",
       "      <td>the</td>\n",
       "      <td>-0.035312</td>\n",
       "      <td>0.012240</td>\n",
       "      <td>0.972584</td>\n",
       "    </tr>\n",
       "    <tr>\n",
       "      <th>14</th>\n",
       "      <td>ft</td>\n",
       "      <td>0.029317</td>\n",
       "      <td>0.010162</td>\n",
       "      <td>0.982746</td>\n",
       "    </tr>\n",
       "    <tr>\n",
       "      <th>16</th>\n",
       "      <td>of</td>\n",
       "      <td>0.024507</td>\n",
       "      <td>0.008495</td>\n",
       "      <td>0.991241</td>\n",
       "    </tr>\n",
       "    <tr>\n",
       "      <th>3</th>\n",
       "      <td>##la</td>\n",
       "      <td>-0.017352</td>\n",
       "      <td>0.006015</td>\n",
       "      <td>0.997256</td>\n",
       "    </tr>\n",
       "    <tr>\n",
       "      <th>10</th>\n",
       "      <td>37</td>\n",
       "      <td>-0.007917</td>\n",
       "      <td>0.002744</td>\n",
       "      <td>1.000000</td>\n",
       "    </tr>\n",
       "    <tr>\n",
       "      <th>0</th>\n",
       "      <td>[CLS]</td>\n",
       "      <td>0.000000</td>\n",
       "      <td>0.000000</td>\n",
       "      <td>1.000000</td>\n",
       "    </tr>\n",
       "    <tr>\n",
       "      <th>21</th>\n",
       "      <td>[SEP]</td>\n",
       "      <td>0.000000</td>\n",
       "      <td>0.000000</td>\n",
       "      <td>1.000000</td>\n",
       "    </tr>\n",
       "  </tbody>\n",
       "</table>\n",
       "</div>"
      ],
      "text/plain": [
       "           token     score  abs_norm  cumulative\n",
       "18           art  0.736597  0.255327    0.255327\n",
       "6   commissioned  0.354312  0.122815    0.378142\n",
       "15         state  0.333868  0.115729    0.493871\n",
       "17           the -0.278532  0.096547    0.590418\n",
       "4          group -0.215907  0.074840    0.665258\n",
       "7              a -0.170277  0.059023    0.724281\n",
       "20             . -0.155104  0.053764    0.778045\n",
       "19      building -0.120421  0.041742    0.819786\n",
       "5            has -0.090933  0.031520    0.851306\n",
       "13            sq -0.075807  0.026277    0.877584\n",
       "12          ##kh -0.054935  0.019042    0.896626\n",
       "11            la  0.052711  0.018271    0.914897\n",
       "2            lee -0.049272  0.017079    0.931977\n",
       "9              .  0.043451  0.015061    0.947038\n",
       "8              1 -0.038386  0.013306    0.960344\n",
       "1            the -0.035312  0.012240    0.972584\n",
       "14            ft  0.029317  0.010162    0.982746\n",
       "16            of  0.024507  0.008495    0.991241\n",
       "3           ##la -0.017352  0.006015    0.997256\n",
       "10            37 -0.007917  0.002744    1.000000\n",
       "0          [CLS]  0.000000  0.000000    1.000000\n",
       "21         [SEP]  0.000000  0.000000    1.000000"
      ]
     },
     "execution_count": 48,
     "metadata": {},
     "output_type": "execute_result"
    }
   ],
   "source": [
    "cps.visualize_feature_attribution_scores(ex4_s)\n",
    "cps.calculate_feature_attribution_scores(ex4_s, as_norm=True)"
   ]
  },
  {
   "cell_type": "code",
   "execution_count": 49,
   "id": "34ab1654-d0ef-47bb-9866-aa254554faa2",
   "metadata": {},
   "outputs": [
    {
     "data": {
      "text/html": [
       "<table width: 100%><div style=\"border-top: 1px solid; margin-top: 5px;             padding-top: 5px; display: inline-block\"><b>Legend: </b><span style=\"display: inline-block; width: 10px; height: 10px;                 border: 1px solid; background-color:                 hsl(0, 75%, 60%)\"></span> Negative  <span style=\"display: inline-block; width: 10px; height: 10px;                 border: 1px solid; background-color:                 hsl(0, 75%, 100%)\"></span> Neutral  <span style=\"display: inline-block; width: 10px; height: 10px;                 border: 1px solid; background-color:                 hsl(120, 75%, 50%)\"></span> Positive  </div><tr><th>True Label</th><th>Predicted Label</th><th>Attribution Label</th><th>Attribution Score</th><th>Word Importance</th><tr><td><text style=\"padding-right:2em\"><b>0</b></text></td><td><text style=\"padding-right:2em\"><b>LABEL_1 (0.03)</b></text></td><td><text style=\"padding-right:2em\"><b>LABEL_0</b></text></td><td><text style=\"padding-right:2em\"><b>-2.08</b></text></td><td><mark style=\"background-color: hsl(0, 75%, 100%); opacity:1.0;                     line-height:1.75\"><font color=\"black\"> [CLS]                    </font></mark><mark style=\"background-color: hsl(0, 75%, 92%); opacity:1.0;                     line-height:1.75\"><font color=\"black\"> the                    </font></mark><mark style=\"background-color: hsl(0, 75%, 97%); opacity:1.0;                     line-height:1.75\"><font color=\"black\"> lee                    </font></mark><mark style=\"background-color: hsl(0, 75%, 95%); opacity:1.0;                     line-height:1.75\"><font color=\"black\"> ##la                    </font></mark><mark style=\"background-color: hsl(0, 75%, 86%); opacity:1.0;                     line-height:1.75\"><font color=\"black\"> group                    </font></mark><mark style=\"background-color: hsl(0, 75%, 80%); opacity:1.0;                     line-height:1.75\"><font color=\"black\"> has                    </font></mark><mark style=\"background-color: hsl(120, 75%, 87%); opacity:1.0;                     line-height:1.75\"><font color=\"black\"> commissioned                    </font></mark><mark style=\"background-color: hsl(0, 75%, 78%); opacity:1.0;                     line-height:1.75\"><font color=\"black\"> a                    </font></mark><mark style=\"background-color: hsl(120, 75%, 100%); opacity:1.0;                     line-height:1.75\"><font color=\"black\"> 1                    </font></mark><mark style=\"background-color: hsl(120, 75%, 99%); opacity:1.0;                     line-height:1.75\"><font color=\"black\"> .                    </font></mark><mark style=\"background-color: hsl(0, 75%, 99%); opacity:1.0;                     line-height:1.75\"><font color=\"black\"> 37                    </font></mark><mark style=\"background-color: hsl(120, 75%, 97%); opacity:1.0;                     line-height:1.75\"><font color=\"black\"> la                    </font></mark><mark style=\"background-color: hsl(0, 75%, 97%); opacity:1.0;                     line-height:1.75\"><font color=\"black\"> ##kh                    </font></mark><mark style=\"background-color: hsl(0, 75%, 96%); opacity:1.0;                     line-height:1.75\"><font color=\"black\"> sq                    </font></mark><mark style=\"background-color: hsl(0, 75%, 98%); opacity:1.0;                     line-height:1.75\"><font color=\"black\"> ft                    </font></mark><mark style=\"background-color: hsl(0, 75%, 87%); opacity:1.0;                     line-height:1.75\"><font color=\"black\"> building                    </font></mark><mark style=\"background-color: hsl(120, 75%, 99%); opacity:1.0;                     line-height:1.75\"><font color=\"black\"> .                    </font></mark><mark style=\"background-color: hsl(0, 75%, 100%); opacity:1.0;                     line-height:1.75\"><font color=\"black\"> [SEP]                    </font></mark></td><tr></table>"
      ],
      "text/plain": [
       "<IPython.core.display.HTML object>"
      ]
     },
     "metadata": {},
     "output_type": "display_data"
    },
    {
     "data": {
      "text/html": [
       "<div>\n",
       "<style scoped>\n",
       "    .dataframe tbody tr th:only-of-type {\n",
       "        vertical-align: middle;\n",
       "    }\n",
       "\n",
       "    .dataframe tbody tr th {\n",
       "        vertical-align: top;\n",
       "    }\n",
       "\n",
       "    .dataframe thead th {\n",
       "        text-align: right;\n",
       "    }\n",
       "</style>\n",
       "<table border=\"1\" class=\"dataframe\">\n",
       "  <thead>\n",
       "    <tr style=\"text-align: right;\">\n",
       "      <th></th>\n",
       "      <th>token</th>\n",
       "      <th>score</th>\n",
       "      <th>abs_norm</th>\n",
       "      <th>cumulative</th>\n",
       "    </tr>\n",
       "  </thead>\n",
       "  <tbody>\n",
       "    <tr>\n",
       "      <th>7</th>\n",
       "      <td>a</td>\n",
       "      <td>-0.553373</td>\n",
       "      <td>0.188336</td>\n",
       "      <td>0.188336</td>\n",
       "    </tr>\n",
       "    <tr>\n",
       "      <th>5</th>\n",
       "      <td>has</td>\n",
       "      <td>-0.506389</td>\n",
       "      <td>0.172346</td>\n",
       "      <td>0.360682</td>\n",
       "    </tr>\n",
       "    <tr>\n",
       "      <th>4</th>\n",
       "      <td>group</td>\n",
       "      <td>-0.372519</td>\n",
       "      <td>0.126784</td>\n",
       "      <td>0.487466</td>\n",
       "    </tr>\n",
       "    <tr>\n",
       "      <th>15</th>\n",
       "      <td>building</td>\n",
       "      <td>-0.342775</td>\n",
       "      <td>0.116661</td>\n",
       "      <td>0.604127</td>\n",
       "    </tr>\n",
       "    <tr>\n",
       "      <th>6</th>\n",
       "      <td>commissioned</td>\n",
       "      <td>0.277783</td>\n",
       "      <td>0.094541</td>\n",
       "      <td>0.698668</td>\n",
       "    </tr>\n",
       "    <tr>\n",
       "      <th>1</th>\n",
       "      <td>the</td>\n",
       "      <td>-0.212587</td>\n",
       "      <td>0.072352</td>\n",
       "      <td>0.771020</td>\n",
       "    </tr>\n",
       "    <tr>\n",
       "      <th>3</th>\n",
       "      <td>##la</td>\n",
       "      <td>-0.131129</td>\n",
       "      <td>0.044629</td>\n",
       "      <td>0.815649</td>\n",
       "    </tr>\n",
       "    <tr>\n",
       "      <th>13</th>\n",
       "      <td>sq</td>\n",
       "      <td>-0.107308</td>\n",
       "      <td>0.036522</td>\n",
       "      <td>0.852171</td>\n",
       "    </tr>\n",
       "    <tr>\n",
       "      <th>2</th>\n",
       "      <td>lee</td>\n",
       "      <td>-0.095123</td>\n",
       "      <td>0.032375</td>\n",
       "      <td>0.884545</td>\n",
       "    </tr>\n",
       "    <tr>\n",
       "      <th>12</th>\n",
       "      <td>##kh</td>\n",
       "      <td>-0.085631</td>\n",
       "      <td>0.029144</td>\n",
       "      <td>0.913689</td>\n",
       "    </tr>\n",
       "    <tr>\n",
       "      <th>11</th>\n",
       "      <td>la</td>\n",
       "      <td>0.072350</td>\n",
       "      <td>0.024624</td>\n",
       "      <td>0.938313</td>\n",
       "    </tr>\n",
       "    <tr>\n",
       "      <th>14</th>\n",
       "      <td>ft</td>\n",
       "      <td>-0.070892</td>\n",
       "      <td>0.024127</td>\n",
       "      <td>0.962441</td>\n",
       "    </tr>\n",
       "    <tr>\n",
       "      <th>16</th>\n",
       "      <td>.</td>\n",
       "      <td>0.037605</td>\n",
       "      <td>0.012798</td>\n",
       "      <td>0.975239</td>\n",
       "    </tr>\n",
       "    <tr>\n",
       "      <th>10</th>\n",
       "      <td>37</td>\n",
       "      <td>-0.031617</td>\n",
       "      <td>0.010761</td>\n",
       "      <td>0.986000</td>\n",
       "    </tr>\n",
       "    <tr>\n",
       "      <th>9</th>\n",
       "      <td>.</td>\n",
       "      <td>0.028201</td>\n",
       "      <td>0.009598</td>\n",
       "      <td>0.995598</td>\n",
       "    </tr>\n",
       "    <tr>\n",
       "      <th>8</th>\n",
       "      <td>1</td>\n",
       "      <td>0.012935</td>\n",
       "      <td>0.004402</td>\n",
       "      <td>1.000000</td>\n",
       "    </tr>\n",
       "    <tr>\n",
       "      <th>0</th>\n",
       "      <td>[CLS]</td>\n",
       "      <td>0.000000</td>\n",
       "      <td>0.000000</td>\n",
       "      <td>1.000000</td>\n",
       "    </tr>\n",
       "    <tr>\n",
       "      <th>17</th>\n",
       "      <td>[SEP]</td>\n",
       "      <td>0.000000</td>\n",
       "      <td>0.000000</td>\n",
       "      <td>1.000000</td>\n",
       "    </tr>\n",
       "  </tbody>\n",
       "</table>\n",
       "</div>"
      ],
      "text/plain": [
       "           token     score  abs_norm  cumulative\n",
       "7              a -0.553373  0.188336    0.188336\n",
       "5            has -0.506389  0.172346    0.360682\n",
       "4          group -0.372519  0.126784    0.487466\n",
       "15      building -0.342775  0.116661    0.604127\n",
       "6   commissioned  0.277783  0.094541    0.698668\n",
       "1            the -0.212587  0.072352    0.771020\n",
       "3           ##la -0.131129  0.044629    0.815649\n",
       "13            sq -0.107308  0.036522    0.852171\n",
       "2            lee -0.095123  0.032375    0.884545\n",
       "12          ##kh -0.085631  0.029144    0.913689\n",
       "11            la  0.072350  0.024624    0.938313\n",
       "14            ft -0.070892  0.024127    0.962441\n",
       "16             .  0.037605  0.012798    0.975239\n",
       "10            37 -0.031617  0.010761    0.986000\n",
       "9              .  0.028201  0.009598    0.995598\n",
       "8              1  0.012935  0.004402    1.000000\n",
       "0          [CLS]  0.000000  0.000000    1.000000\n",
       "17         [SEP]  0.000000  0.000000    1.000000"
      ]
     },
     "execution_count": 49,
     "metadata": {},
     "output_type": "execute_result"
    }
   ],
   "source": [
    "cps.visualize_feature_attribution_scores(ex4_n)\n",
    "cps.calculate_feature_attribution_scores(ex4_n, as_norm=True)"
   ]
  },
  {
   "cell_type": "markdown",
   "id": "261b9a3d-6dfc-4367-a23d-b4c18fc5087b",
   "metadata": {},
   "source": [
    "#### Ex4"
   ]
  },
  {
   "cell_type": "code",
   "execution_count": 50,
   "id": "9d3043ed-06aa-4c54-bac0-b2d23959cba0",
   "metadata": {},
   "outputs": [],
   "source": [
    "ex5_s = \"singapore has a highly developed and successful market economy.\"\n",
    "ex5_n = \"singapore has a highly developed trade-oriented market economy.\""
   ]
  },
  {
   "cell_type": "code",
   "execution_count": 51,
   "id": "adcf4449-1f34-45b5-909e-4ee9a95e6551",
   "metadata": {},
   "outputs": [
    {
     "data": {
      "text/html": [
       "<table width: 100%><div style=\"border-top: 1px solid; margin-top: 5px;             padding-top: 5px; display: inline-block\"><b>Legend: </b><span style=\"display: inline-block; width: 10px; height: 10px;                 border: 1px solid; background-color:                 hsl(0, 75%, 60%)\"></span> Negative  <span style=\"display: inline-block; width: 10px; height: 10px;                 border: 1px solid; background-color:                 hsl(0, 75%, 100%)\"></span> Neutral  <span style=\"display: inline-block; width: 10px; height: 10px;                 border: 1px solid; background-color:                 hsl(120, 75%, 50%)\"></span> Positive  </div><tr><th>True Label</th><th>Predicted Label</th><th>Attribution Label</th><th>Attribution Score</th><th>Word Importance</th><tr><td><text style=\"padding-right:2em\"><b>0</b></text></td><td><text style=\"padding-right:2em\"><b>LABEL_0 (0.69)</b></text></td><td><text style=\"padding-right:2em\"><b>LABEL_0</b></text></td><td><text style=\"padding-right:2em\"><b>0.11</b></text></td><td><mark style=\"background-color: hsl(0, 75%, 100%); opacity:1.0;                     line-height:1.75\"><font color=\"black\"> [CLS]                    </font></mark><mark style=\"background-color: hsl(120, 75%, 84%); opacity:1.0;                     line-height:1.75\"><font color=\"black\"> singapore                    </font></mark><mark style=\"background-color: hsl(120, 75%, 84%); opacity:1.0;                     line-height:1.75\"><font color=\"black\"> has                    </font></mark><mark style=\"background-color: hsl(0, 75%, 99%); opacity:1.0;                     line-height:1.75\"><font color=\"black\"> a                    </font></mark><mark style=\"background-color: hsl(0, 75%, 94%); opacity:1.0;                     line-height:1.75\"><font color=\"black\"> highly                    </font></mark><mark style=\"background-color: hsl(120, 75%, 94%); opacity:1.0;                     line-height:1.75\"><font color=\"black\"> developed                    </font></mark><mark style=\"background-color: hsl(120, 75%, 98%); opacity:1.0;                     line-height:1.75\"><font color=\"black\"> and                    </font></mark><mark style=\"background-color: hsl(0, 75%, 68%); opacity:1.0;                     line-height:1.75\"><font color=\"black\"> successful                    </font></mark><mark style=\"background-color: hsl(120, 75%, 100%); opacity:1.0;                     line-height:1.75\"><font color=\"black\"> market                    </font></mark><mark style=\"background-color: hsl(120, 75%, 87%); opacity:1.0;                     line-height:1.75\"><font color=\"black\"> economy                    </font></mark><mark style=\"background-color: hsl(0, 75%, 100%); opacity:1.0;                     line-height:1.75\"><font color=\"black\"> .                    </font></mark><mark style=\"background-color: hsl(0, 75%, 100%); opacity:1.0;                     line-height:1.75\"><font color=\"black\"> [SEP]                    </font></mark></td><tr></table>"
      ],
      "text/plain": [
       "<IPython.core.display.HTML object>"
      ]
     },
     "metadata": {},
     "output_type": "display_data"
    },
    {
     "data": {
      "text/html": [
       "<div>\n",
       "<style scoped>\n",
       "    .dataframe tbody tr th:only-of-type {\n",
       "        vertical-align: middle;\n",
       "    }\n",
       "\n",
       "    .dataframe tbody tr th {\n",
       "        vertical-align: top;\n",
       "    }\n",
       "\n",
       "    .dataframe thead th {\n",
       "        text-align: right;\n",
       "    }\n",
       "</style>\n",
       "<table border=\"1\" class=\"dataframe\">\n",
       "  <thead>\n",
       "    <tr style=\"text-align: right;\">\n",
       "      <th></th>\n",
       "      <th>token</th>\n",
       "      <th>score</th>\n",
       "      <th>abs_norm</th>\n",
       "      <th>cumulative</th>\n",
       "    </tr>\n",
       "  </thead>\n",
       "  <tbody>\n",
       "    <tr>\n",
       "      <th>7</th>\n",
       "      <td>successful</td>\n",
       "      <td>-0.808754</td>\n",
       "      <td>0.376367</td>\n",
       "      <td>0.376367</td>\n",
       "    </tr>\n",
       "    <tr>\n",
       "      <th>2</th>\n",
       "      <td>has</td>\n",
       "      <td>0.337286</td>\n",
       "      <td>0.156962</td>\n",
       "      <td>0.533328</td>\n",
       "    </tr>\n",
       "    <tr>\n",
       "      <th>1</th>\n",
       "      <td>singapore</td>\n",
       "      <td>0.323927</td>\n",
       "      <td>0.150745</td>\n",
       "      <td>0.684073</td>\n",
       "    </tr>\n",
       "    <tr>\n",
       "      <th>9</th>\n",
       "      <td>economy</td>\n",
       "      <td>0.278802</td>\n",
       "      <td>0.129745</td>\n",
       "      <td>0.813818</td>\n",
       "    </tr>\n",
       "    <tr>\n",
       "      <th>4</th>\n",
       "      <td>highly</td>\n",
       "      <td>-0.172768</td>\n",
       "      <td>0.080400</td>\n",
       "      <td>0.894219</td>\n",
       "    </tr>\n",
       "    <tr>\n",
       "      <th>5</th>\n",
       "      <td>developed</td>\n",
       "      <td>0.125653</td>\n",
       "      <td>0.058475</td>\n",
       "      <td>0.952693</td>\n",
       "    </tr>\n",
       "    <tr>\n",
       "      <th>6</th>\n",
       "      <td>and</td>\n",
       "      <td>0.054474</td>\n",
       "      <td>0.025350</td>\n",
       "      <td>0.978043</td>\n",
       "    </tr>\n",
       "    <tr>\n",
       "      <th>3</th>\n",
       "      <td>a</td>\n",
       "      <td>-0.025629</td>\n",
       "      <td>0.011927</td>\n",
       "      <td>0.989970</td>\n",
       "    </tr>\n",
       "    <tr>\n",
       "      <th>10</th>\n",
       "      <td>.</td>\n",
       "      <td>-0.011578</td>\n",
       "      <td>0.005388</td>\n",
       "      <td>0.995358</td>\n",
       "    </tr>\n",
       "    <tr>\n",
       "      <th>8</th>\n",
       "      <td>market</td>\n",
       "      <td>0.009975</td>\n",
       "      <td>0.004642</td>\n",
       "      <td>1.000000</td>\n",
       "    </tr>\n",
       "    <tr>\n",
       "      <th>0</th>\n",
       "      <td>[CLS]</td>\n",
       "      <td>0.000000</td>\n",
       "      <td>0.000000</td>\n",
       "      <td>1.000000</td>\n",
       "    </tr>\n",
       "    <tr>\n",
       "      <th>11</th>\n",
       "      <td>[SEP]</td>\n",
       "      <td>0.000000</td>\n",
       "      <td>0.000000</td>\n",
       "      <td>1.000000</td>\n",
       "    </tr>\n",
       "  </tbody>\n",
       "</table>\n",
       "</div>"
      ],
      "text/plain": [
       "         token     score  abs_norm  cumulative\n",
       "7   successful -0.808754  0.376367    0.376367\n",
       "2          has  0.337286  0.156962    0.533328\n",
       "1    singapore  0.323927  0.150745    0.684073\n",
       "9      economy  0.278802  0.129745    0.813818\n",
       "4       highly -0.172768  0.080400    0.894219\n",
       "5    developed  0.125653  0.058475    0.952693\n",
       "6          and  0.054474  0.025350    0.978043\n",
       "3            a -0.025629  0.011927    0.989970\n",
       "10           . -0.011578  0.005388    0.995358\n",
       "8       market  0.009975  0.004642    1.000000\n",
       "0        [CLS]  0.000000  0.000000    1.000000\n",
       "11       [SEP]  0.000000  0.000000    1.000000"
      ]
     },
     "execution_count": 51,
     "metadata": {},
     "output_type": "execute_result"
    }
   ],
   "source": [
    "cps.visualize_feature_attribution_scores(ex5_s)\n",
    "cps.calculate_feature_attribution_scores(ex5_s, as_norm=True)"
   ]
  },
  {
   "cell_type": "code",
   "execution_count": 52,
   "id": "216f3404-2147-4a18-ac1c-eedc9e5fa196",
   "metadata": {},
   "outputs": [
    {
     "data": {
      "text/html": [
       "<table width: 100%><div style=\"border-top: 1px solid; margin-top: 5px;             padding-top: 5px; display: inline-block\"><b>Legend: </b><span style=\"display: inline-block; width: 10px; height: 10px;                 border: 1px solid; background-color:                 hsl(0, 75%, 60%)\"></span> Negative  <span style=\"display: inline-block; width: 10px; height: 10px;                 border: 1px solid; background-color:                 hsl(0, 75%, 100%)\"></span> Neutral  <span style=\"display: inline-block; width: 10px; height: 10px;                 border: 1px solid; background-color:                 hsl(120, 75%, 50%)\"></span> Positive  </div><tr><th>True Label</th><th>Predicted Label</th><th>Attribution Label</th><th>Attribution Score</th><th>Word Importance</th><tr><td><text style=\"padding-right:2em\"><b>0</b></text></td><td><text style=\"padding-right:2em\"><b>LABEL_1 (0.27)</b></text></td><td><text style=\"padding-right:2em\"><b>LABEL_0</b></text></td><td><text style=\"padding-right:2em\"><b>-1.06</b></text></td><td><mark style=\"background-color: hsl(0, 75%, 100%); opacity:1.0;                     line-height:1.75\"><font color=\"black\"> [CLS]                    </font></mark><mark style=\"background-color: hsl(120, 75%, 91%); opacity:1.0;                     line-height:1.75\"><font color=\"black\"> singapore                    </font></mark><mark style=\"background-color: hsl(120, 75%, 94%); opacity:1.0;                     line-height:1.75\"><font color=\"black\"> has                    </font></mark><mark style=\"background-color: hsl(120, 75%, 100%); opacity:1.0;                     line-height:1.75\"><font color=\"black\"> a                    </font></mark><mark style=\"background-color: hsl(0, 75%, 64%); opacity:1.0;                     line-height:1.75\"><font color=\"black\"> highly                    </font></mark><mark style=\"background-color: hsl(0, 75%, 96%); opacity:1.0;                     line-height:1.75\"><font color=\"black\"> developed                    </font></mark><mark style=\"background-color: hsl(0, 75%, 92%); opacity:1.0;                     line-height:1.75\"><font color=\"black\"> trade                    </font></mark><mark style=\"background-color: hsl(120, 75%, 100%); opacity:1.0;                     line-height:1.75\"><font color=\"black\"> -                    </font></mark><mark style=\"background-color: hsl(0, 75%, 96%); opacity:1.0;                     line-height:1.75\"><font color=\"black\"> oriented                    </font></mark><mark style=\"background-color: hsl(0, 75%, 95%); opacity:1.0;                     line-height:1.75\"><font color=\"black\"> market                    </font></mark><mark style=\"background-color: hsl(120, 75%, 97%); opacity:1.0;                     line-height:1.75\"><font color=\"black\"> economy                    </font></mark><mark style=\"background-color: hsl(120, 75%, 100%); opacity:1.0;                     line-height:1.75\"><font color=\"black\"> .                    </font></mark><mark style=\"background-color: hsl(0, 75%, 100%); opacity:1.0;                     line-height:1.75\"><font color=\"black\"> [SEP]                    </font></mark></td><tr></table>"
      ],
      "text/plain": [
       "<IPython.core.display.HTML object>"
      ]
     },
     "metadata": {},
     "output_type": "display_data"
    },
    {
     "data": {
      "text/html": [
       "<div>\n",
       "<style scoped>\n",
       "    .dataframe tbody tr th:only-of-type {\n",
       "        vertical-align: middle;\n",
       "    }\n",
       "\n",
       "    .dataframe tbody tr th {\n",
       "        vertical-align: top;\n",
       "    }\n",
       "\n",
       "    .dataframe thead th {\n",
       "        text-align: right;\n",
       "    }\n",
       "</style>\n",
       "<table border=\"1\" class=\"dataframe\">\n",
       "  <thead>\n",
       "    <tr style=\"text-align: right;\">\n",
       "      <th></th>\n",
       "      <th>token</th>\n",
       "      <th>score</th>\n",
       "      <th>abs_norm</th>\n",
       "      <th>cumulative</th>\n",
       "    </tr>\n",
       "  </thead>\n",
       "  <tbody>\n",
       "    <tr>\n",
       "      <th>4</th>\n",
       "      <td>highly</td>\n",
       "      <td>-0.924491</td>\n",
       "      <td>0.479649</td>\n",
       "      <td>0.479649</td>\n",
       "    </tr>\n",
       "    <tr>\n",
       "      <th>6</th>\n",
       "      <td>trade</td>\n",
       "      <td>-0.207859</td>\n",
       "      <td>0.107842</td>\n",
       "      <td>0.587491</td>\n",
       "    </tr>\n",
       "    <tr>\n",
       "      <th>1</th>\n",
       "      <td>singapore</td>\n",
       "      <td>0.183225</td>\n",
       "      <td>0.095062</td>\n",
       "      <td>0.682553</td>\n",
       "    </tr>\n",
       "    <tr>\n",
       "      <th>9</th>\n",
       "      <td>market</td>\n",
       "      <td>-0.144004</td>\n",
       "      <td>0.074713</td>\n",
       "      <td>0.757266</td>\n",
       "    </tr>\n",
       "    <tr>\n",
       "      <th>2</th>\n",
       "      <td>has</td>\n",
       "      <td>0.131890</td>\n",
       "      <td>0.068428</td>\n",
       "      <td>0.825694</td>\n",
       "    </tr>\n",
       "    <tr>\n",
       "      <th>8</th>\n",
       "      <td>oriented</td>\n",
       "      <td>-0.113468</td>\n",
       "      <td>0.058870</td>\n",
       "      <td>0.884563</td>\n",
       "    </tr>\n",
       "    <tr>\n",
       "      <th>5</th>\n",
       "      <td>developed</td>\n",
       "      <td>-0.104355</td>\n",
       "      <td>0.054142</td>\n",
       "      <td>0.938706</td>\n",
       "    </tr>\n",
       "    <tr>\n",
       "      <th>10</th>\n",
       "      <td>economy</td>\n",
       "      <td>0.077393</td>\n",
       "      <td>0.040154</td>\n",
       "      <td>0.978859</td>\n",
       "    </tr>\n",
       "    <tr>\n",
       "      <th>7</th>\n",
       "      <td>-</td>\n",
       "      <td>0.019251</td>\n",
       "      <td>0.009988</td>\n",
       "      <td>0.988847</td>\n",
       "    </tr>\n",
       "    <tr>\n",
       "      <th>3</th>\n",
       "      <td>a</td>\n",
       "      <td>0.015799</td>\n",
       "      <td>0.008197</td>\n",
       "      <td>0.997044</td>\n",
       "    </tr>\n",
       "    <tr>\n",
       "      <th>11</th>\n",
       "      <td>.</td>\n",
       "      <td>0.005698</td>\n",
       "      <td>0.002956</td>\n",
       "      <td>1.000000</td>\n",
       "    </tr>\n",
       "    <tr>\n",
       "      <th>0</th>\n",
       "      <td>[CLS]</td>\n",
       "      <td>0.000000</td>\n",
       "      <td>0.000000</td>\n",
       "      <td>1.000000</td>\n",
       "    </tr>\n",
       "    <tr>\n",
       "      <th>12</th>\n",
       "      <td>[SEP]</td>\n",
       "      <td>0.000000</td>\n",
       "      <td>0.000000</td>\n",
       "      <td>1.000000</td>\n",
       "    </tr>\n",
       "  </tbody>\n",
       "</table>\n",
       "</div>"
      ],
      "text/plain": [
       "        token     score  abs_norm  cumulative\n",
       "4      highly -0.924491  0.479649    0.479649\n",
       "6       trade -0.207859  0.107842    0.587491\n",
       "1   singapore  0.183225  0.095062    0.682553\n",
       "9      market -0.144004  0.074713    0.757266\n",
       "2         has  0.131890  0.068428    0.825694\n",
       "8    oriented -0.113468  0.058870    0.884563\n",
       "5   developed -0.104355  0.054142    0.938706\n",
       "10    economy  0.077393  0.040154    0.978859\n",
       "7           -  0.019251  0.009988    0.988847\n",
       "3           a  0.015799  0.008197    0.997044\n",
       "11          .  0.005698  0.002956    1.000000\n",
       "0       [CLS]  0.000000  0.000000    1.000000\n",
       "12      [SEP]  0.000000  0.000000    1.000000"
      ]
     },
     "execution_count": 52,
     "metadata": {},
     "output_type": "execute_result"
    }
   ],
   "source": [
    "cps.visualize_feature_attribution_scores(ex5_n)\n",
    "cps.calculate_feature_attribution_scores(ex5_n, as_norm=True)"
   ]
  },
  {
   "cell_type": "markdown",
   "id": "57b7d9a3-a003-4a6b-9eef-adddd3298800",
   "metadata": {},
   "source": [
    "**Open Questions**\n",
    "1. Does style token __masking__ or __removal__ retain more meaningful sentence embeddings for similarity?\n",
    "2. How do we determine which tokens should be masked/removed from each subjective/neutral sentence?\n",
    "    - What thresholds on word attribution scores?\n",
    "    - What threshold on number of words?\n",
    "    - Can I develop these based on looking at distributions from train set?\n",
    "3. Is there any good way to quantitatively assess these tradeoffs other than manual inspection? It seems like no...\n",
    "    - The only way I could think is to draw correlations between automated metrics and human evaluation like the paper does, but that requires human evaluation...\n",
    "    - We also can draw high level conclusions by comparing scores against the ground truth annotation. For example, CPS (averaged across the test dataset) on input -> generated text should score worse than CPS on input -> ground truth annotation.\n"
   ]
  },
  {
   "cell_type": "markdown",
   "id": "f9762a85-1c19-4b51-beaa-ebb543879265",
   "metadata": {},
   "source": [
    "### Put it all together"
   ]
  },
  {
   "cell_type": "code",
   "execution_count": 1,
   "id": "7f94b7b5-743b-4f81-a2d6-c7dff55274a1",
   "metadata": {},
   "outputs": [],
   "source": [
    "from src.inference import ContentPreservationScorer\n",
    "\n",
    "SBERT_MODEL_PATH = \"sentence-transformers/all-MiniLM-L6-v2\"\n",
    "CLS_MODEL_PATH = (\n",
    "    \"../models/TRIAL-J-shuffle-lr_3en06-epoch_15-wd_.1-bs_32/checkpoint-67466\"\n",
    ")\n",
    "cps = ContentPreservationScorer(\n",
    "    sbert_model_identifier=SBERT_MODEL_PATH, cls_model_identifier=CLS_MODEL_PATH\n",
    ")"
   ]
  },
  {
   "cell_type": "code",
   "execution_count": 5,
   "id": "9145e54e-a1b6-435b-8cdd-9e0257442e3d",
   "metadata": {},
   "outputs": [
    {
     "data": {
      "text/plain": [
       "'water from a fire sprinkler system failure in 2007'"
      ]
     },
     "execution_count": 5,
     "metadata": {},
     "output_type": "execute_result"
    }
   ],
   "source": [
    "ex3_n"
   ]
  },
  {
   "cell_type": "code",
   "execution_count": 6,
   "id": "37d503aa-6fd5-4cae-8036-0cb9263b8ff9",
   "metadata": {
    "tags": []
   },
   "outputs": [
    {
     "data": {
      "text/plain": [
       "'water from a fire sprinkler in 2007'"
      ]
     },
     "execution_count": 6,
     "metadata": {},
     "output_type": "execute_result"
    }
   ],
   "source": [
    "cps.mask_style_tokens(ex3_n, mask_type=\"remove\", threshold=0.5)"
   ]
  },
  {
   "cell_type": "code",
   "execution_count": 8,
   "id": "e1d7450d-2467-44ee-9dcb-1a27068f065a",
   "metadata": {},
   "outputs": [
    {
     "data": {
      "text/plain": [
       "[0.9008933305740356, 0.9662930369377136]"
      ]
     },
     "execution_count": 8,
     "metadata": {},
     "output_type": "execute_result"
    }
   ],
   "source": [
    "inp = [\n",
    "    \"singapore has a highly developed and successful market economy.\",\n",
    "    \"double indemnity is perhaps the most well known, definitive example of a genre of films called film noir.\",\n",
    "]\n",
    "out = [\n",
    "    \"singapore has a highly developed trade-oriented market economy.\",\n",
    "    \"double indemnity is an example of a genre of films called film noir.\",\n",
    "]\n",
    "\n",
    "cps.calculate_content_preservation_score(inp, out, mask_type=\"pad\", threshold=0.3)"
   ]
  },
  {
   "cell_type": "code",
   "execution_count": 9,
   "id": "4bff70f6-2407-42e5-86b1-b63e01796660",
   "metadata": {},
   "outputs": [
    {
     "data": {
      "text/plain": [
       "[0.8853696584701538, 0.963718831539154]"
      ]
     },
     "execution_count": 9,
     "metadata": {},
     "output_type": "execute_result"
    }
   ],
   "source": [
    "cps.calculate_content_preservation_score(inp, out, mask_type=\"remove\", threshold=0.3)"
   ]
  },
  {
   "cell_type": "code",
   "execution_count": 10,
   "id": "78935f00-b1dc-476c-8eba-287bc41a5cb5",
   "metadata": {},
   "outputs": [
    {
     "data": {
      "text/plain": [
       "[0.9066721200942993, 0.9796274304389954]"
      ]
     },
     "execution_count": 10,
     "metadata": {},
     "output_type": "execute_result"
    }
   ],
   "source": [
    "cps.cosine_similarity(\n",
    "    cps.compute_sentence_embeddings(inp), cps.compute_sentence_embeddings(out)\n",
    ")"
   ]
  },
  {
   "cell_type": "markdown",
   "id": "1a48975e-e5f7-44b9-a6a3-944636c12160",
   "metadata": {},
   "source": [
    "Experimentally determine the best value parameters:\n",
    "\n",
    "0. implement the ability to remove tokens along with [PAD]-ing them\n",
    "1. Search through values of `threshold` (0 --> 0.5 by 0.05, maybe?) and `mask_type` ([PAD] vs. removal) to see how many tokens get removed on average (other stats)\n",
    "2. For each threshold, calculate downstream impact on cosine similarity on sentence pairs (CPS score) -- use that to compare against baseline (no removal). See which threshold value (if any) produce \"better\" similarity scores.\n",
    "3. During the experiments collect metric for number of tokens were masked that were \"sub-tokens\" (i.e. start with ##)"
   ]
  },
  {
   "cell_type": "code",
   "execution_count": null,
   "id": "cd8bcb1b-e5cc-466d-a33e-17b761095f99",
   "metadata": {},
   "outputs": [],
   "source": []
  }
 ],
 "metadata": {
  "kernelspec": {
   "display_name": "Python 3",
   "language": "python",
   "name": "python3"
  },
  "language_info": {
   "codemirror_mode": {
    "name": "ipython",
    "version": 3
   },
   "file_extension": ".py",
   "mimetype": "text/x-python",
   "name": "python",
   "nbconvert_exporter": "python",
   "pygments_lexer": "ipython3",
   "version": "3.9.7"
  }
 },
 "nbformat": 4,
 "nbformat_minor": 5
}
